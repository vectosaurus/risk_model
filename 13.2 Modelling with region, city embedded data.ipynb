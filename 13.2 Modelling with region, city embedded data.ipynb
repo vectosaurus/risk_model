{
 "cells": [
  {
   "cell_type": "markdown",
   "metadata": {},
   "source": [
    "Need to check different approaches- oversampling, xgboost, NNets etc to see if model can be further improved"
   ]
  },
  {
   "cell_type": "markdown",
   "metadata": {},
   "source": [
    "### Module imports and data"
   ]
  },
  {
   "cell_type": "markdown",
   "metadata": {},
   "source": [
    "#### Imports"
   ]
  },
  {
   "cell_type": "code",
   "execution_count": 1,
   "metadata": {
    "ExecuteTime": {
     "end_time": "2020-10-04T17:05:33.951117Z",
     "start_time": "2020-10-04T17:05:27.334726Z"
    }
   },
   "outputs": [
    {
     "name": "stderr",
     "output_type": "stream",
     "text": [
      "/home/ubuntu/anaconda3/lib/python3.7/site-packages/dask/dataframe/utils.py:14: FutureWarning: pandas.util.testing is deprecated. Use the functions in the public API at pandas.testing instead.\n",
      "  import pandas.util.testing as tm\n"
     ]
    }
   ],
   "source": [
    "import pandas as pd\n",
    "import numpy as np\n",
    "import xgboost\n",
    "from time import time\n",
    "from catboost import CatBoostClassifier\n",
    "from sklearn.preprocessing import StandardScaler\n",
    "from sklearn.metrics import f1_score, recall_score, precision_score, confusion_matrix\n",
    "from skopt.space import Real, Categorical, Integer\n",
    "from skopt import gp_minimize, gbrt_minimize, forest_minimize, BayesSearchCV\n",
    "import datetime\n",
    "pd.options.display.max_rows = 1000\n",
    "login_reference_date = datetime.datetime(2020, 3, 22)"
   ]
  },
  {
   "cell_type": "code",
   "execution_count": 2,
   "metadata": {
    "ExecuteTime": {
     "end_time": "2020-10-04T17:06:15.852639Z",
     "start_time": "2020-10-04T17:05:33.955375Z"
    }
   },
   "outputs": [],
   "source": [
    "mds = pd.read_pickle('/home/ubuntu/shubham_gandhi/datasets/master_data_w_embdng_2020_10_01.pkl')"
   ]
  },
  {
   "cell_type": "markdown",
   "metadata": {},
   "source": [
    "#### Select model columns"
   ]
  },
  {
   "cell_type": "code",
   "execution_count": 3,
   "metadata": {
    "ExecuteTime": {
     "end_time": "2020-10-04T17:06:15.891601Z",
     "start_time": "2020-10-04T17:06:15.862700Z"
    }
   },
   "outputs": [],
   "source": [
    "model_cols = ['num_bank_accounts', 'countof_distinct_book_id', 'countof_distinct_ifsc_codes', 'fraction_of_deleted_books', 'number_deleted_books', 'countof_bank_name', 'num_uniq_customers', 'total_links_sent', 'total_links_sent_to_others', 'fraction_of_links_sent_to_self', 'status_two_to_one_ratio', 'ttl_pymnt_lnks_amount_sent', 'ttl_sccssfl_pymnt_lnks_amount_sent', 'fraction_successsful_amt_sent', 'num_pymnt_lnks_rcvd_frm_othrs', 'ttl_pymnt_lnks_amount_rcvd', 'ttl_sccssfl_pymnt_lnks_amount_rcvd', 'fraction_successsful_amt_rcvd', 'distinct_trxn_days', 'num_unique_merchants', 'num_unique_customers', 'median_num_links_sent', 'num_uniq_kb_merchants_on_ntwrk', 'num_links_to_kb_merchants', 'median_links_to_kb_merchant', 'ttl_pymnt_lnks_amount_sent_kb_ntwrk', 'ttl_sccssfl_pymnt_lnks_amount_sent_kb_ntwrk', 'fraction_successsful_amt_sent_kb_ntwrk',  'num_customer_is_kb_mrchnt', 'ttotal_links_sent_to_himself', 'median_time_taken_to_send_another_link', 'rolling_2_transactions_median', 'rolling_2_transactions_mean', 'rolling_3_transactions_median', 'rolling_3_transactions_mean', 'rolling_6_transactions_median', 'rolling_6_transactions_mean', 'rolling_10_transactions_median', 'rolling_10_transactions_mean', 'rolling_15_transactions_median', 'rolling_15_transactions_mean', 'rolling_21_transactions_median', 'rolling_21_transactions_mean', 'rolling_28_transactions_median', 'rolling_28_transactions_mean', 'rolling_54_transactions_median', 'rolling_54_transactions_mean', 'cnt_sccss_trxn', 'has_pan', 'has_address', 'has_gst', 'has_dl', 'has_mobile', 'has_elec', 'countof_names', 'countof_pans', 'countof_dobs', 'countof_doc_types', 'num_doc_submissions', 'time_to_first_payment_link', 'time_to_activation', 'time_to_power', 'time_to_first_cust', 'time_to_first_trxn', 'app_age_of_user', 'status_two_to_one_ratio_within_48hrs', 'status_two_to_one_ratio_within_4hrs', 'status_two_to_one_ratio_within_6hrs', 'status_two_to_one_ratio_within_10hrs', 'status_two_to_one_ratio_within_24hrs', 'total_links_sent_within_48hrs', 'total_links_sent_within_4hrs', 'total_links_sent_within_6hrs', 'total_links_sent_within_10hrs', 'total_links_sent_within_24hrs', 'total_links_sent_to_others_within_48hrs', 'total_links_sent_to_others_within_4hrs', 'total_links_sent_to_others_within_6hrs', 'total_links_sent_to_others_within_10hrs', 'total_links_sent_to_others_within_24hrs', 'num_unique_customers_within_48hrs', 'num_unique_customers_within_4hrs', 'num_unique_customers_within_6hrs', 'num_unique_customers_within_10hrs', 'num_unique_customers_within_24hrs', 'fraction_of_links_sent_to_self_within_48hrs', 'fraction_of_links_sent_to_self_within_4hrs', 'fraction_of_links_sent_to_self_within_6hrs', 'fraction_of_links_sent_to_self_within_10hrs', 'fraction_of_links_sent_to_self_within_24hrs', 'ttl_pymnt_lnks_amount_sent_within_48hrs', 'ttl_sccssfl_pymnt_lnks_amount_sent_within_48hrs', 'fraction_successsful_amt_sent_within_48hrs', 'ttl_pymnt_lnks_amount_sent_within_4hrs', 'ttl_sccssfl_pymnt_lnks_amount_sent_within_4hrs', 'fraction_successsful_amt_sent_within_4hrs', 'ttl_pymnt_lnks_amount_sent_within_6hrs', 'ttl_sccssfl_pymnt_lnks_amount_sent_within_6hrs', 'fraction_successsful_amt_sent_within_6hrs', 'ttl_pymnt_lnks_amount_sent_within_10hrs', 'ttl_sccssfl_pymnt_lnks_amount_sent_within_10hrs', 'fraction_successsful_amt_sent_within_10hrs', 'ttl_pymnt_lnks_amount_sent_within_24hrs', 'ttl_sccssfl_pymnt_lnks_amount_sent_within_24hrs', 'fraction_successsful_amt_sent_within_24hrs', 'median_time_taken_to_send_another_link_within_4hrs', 'median_time_taken_to_send_another_link_within_6hrs', 'median_time_taken_to_send_another_link_within_10hrs', 'median_time_taken_to_send_another_link_within_24hrs', 'median_time_taken_to_send_another_link_within_48hrs', 'status_two_to_one_ratio_within_72hrs', 'total_links_sent_within_72hrs', 'total_links_sent_to_others_within_72hrs', 'num_unique_customers_within_72hrs', 'fraction_of_links_sent_to_self_within_72hrs', 'ttl_pymnt_lnks_amount_sent_within_72hrs', 'ttl_sccssfl_pymnt_lnks_amount_sent_within_72hrs', 'fraction_successsful_amt_sent_within_72hrs', 'median_time_taken_to_send_another_link_within_72hrs', 'median_amt_of_transactions_within_4hrs', 'mean_amt_of_transactions_within_4hrs', 'median_amt_of_transactions_within_6hrs', 'mean_amt_of_transactions_within_6hrs', 'median_amt_of_transactions_within_10hrs', 'mean_amt_of_transactions_within_10hrs', 'median_amt_of_transactions_within_24hrs', 'mean_amt_of_transactions_within_24hrs', 'median_amt_of_transactions_within_48hrs', 'mean_amt_of_transactions_within_48hrs', 'median_amt_of_transactions_within_72hrs', 'mean_amt_of_transactions_within_72hrs', 'status_two_to_one_ratio_within_168hrs', 'total_links_sent_within_168hrs', 'total_links_sent_to_others_within_168hrs', 'num_unique_customers_within_168hrs', 'fraction_of_links_sent_to_self_within_168hrs', 'ttl_pymnt_lnks_amount_sent_within_168hrs', 'ttl_sccssfl_pymnt_lnks_amount_sent_within_168hrs', 'fraction_successsful_amt_sent_within_168hrs', 'median_time_taken_to_send_another_link_within_168hrs', 'median_amt_of_transactions_within_168hrs', 'mean_amt_of_transactions_within_168hrs', 'num_books', 'cust_names_gibberish_percentage', 'cust_names_num_gibberish_names', 'pymt_names_num_gibberish_names', 'num_pymt_links', 'pymt_names_gibberish_percentage', 'median_pymt_names_score', 'median_cust_names_score', 'rgn_embdg_0', 'rgn_embdg_1', 'rgn_embdg_2', 'rgn_embdg_3', 'rgn_embdg_4', 'rgn_embdg_5', 'rgn_embdg_6', 'rgn_embdg_7','rgn_embdg_8', 'rgn_embdg_9', 'rgn_embdg_10', 'rgn_embdg_11', 'rgn_embdg_12', 'rgn_embdg_13', 'rgn_embdg_14'] + ['cty_embdg_0', 'cty_embdg_1', 'cty_embdg_2', 'cty_embdg_3','cty_embdg_4', 'cty_embdg_5', 'cty_embdg_6', 'cty_embdg_7','cty_embdg_8']"
   ]
  },
  {
   "cell_type": "code",
   "execution_count": 4,
   "metadata": {
    "ExecuteTime": {
     "end_time": "2020-10-04T17:06:27.212345Z",
     "start_time": "2020-10-04T17:06:15.896350Z"
    }
   },
   "outputs": [
    {
     "data": {
      "text/plain": [
       "(88656, 221)"
      ]
     },
     "execution_count": 4,
     "metadata": {},
     "output_type": "execute_result"
    }
   ],
   "source": [
    "mds.limit_bucket_id = mds.limit_bucket_id.astype(str)\n",
    "categorical_features = ['region', 'city', \"limit_bucket_id\"]\n",
    "mds[[\"has_pan\", \"has_address\", \"has_gst\", \"has_dl\", \"has_mobile\", \"has_elec\"]] = mds[[\"has_pan\", \"has_address\", \"has_gst\", \"has_dl\", \"has_mobile\", \"has_elec\"]].astype(bool)\n",
    "\n",
    "mds_ = mds.sample(frac=1, random_state=42).copy()\n",
    "mds_[categorical_features] = mds_[categorical_features].fillna(\"\")\n",
    "# mds_.loc[mds_.in_pymts_data, :]\n",
    "\n",
    "mds_.in_pymts_data.sum()\n",
    "mds_.in_kyc.sum()\n",
    "\n",
    "mds_[[\"in_kyc\", \"in_pymts_data\"]] = mds_[[\"in_kyc\", \"in_pymts_data\"]].astype(bool)\n",
    "mds_[mds_.in_pymts_data].fraud_flag.sum()\n",
    "sum(mds.first_payments_link_date > login_reference_date)\n",
    "\n",
    "mds_ = mds_[(mds_.in_pymts_data) & (mds_.in_kyc) & ( (((mds_.fraud_flag==1) | (mds_.fraud_flag==2)) & (mds_.first_payments_link_date>login_reference_date))| (mds_.fraud_flag==0))]\n",
    "mds_.groupby('fraud_flag')['first_payments_link_date'].min()\n",
    "mds_.shape\n",
    "\n"
   ]
  },
  {
   "cell_type": "markdown",
   "metadata": {},
   "source": [
    "#### Deselect columns with too many nulls "
   ]
  },
  {
   "cell_type": "code",
   "execution_count": 5,
   "metadata": {
    "ExecuteTime": {
     "end_time": "2020-10-04T17:06:28.627162Z",
     "start_time": "2020-10-04T17:06:27.219913Z"
    }
   },
   "outputs": [],
   "source": [
    "acceptable_null_cols = mds_.isnull().sum()[mds_.isnull().sum() < 5000].index.tolist()\n",
    "acceptable_null_cols = [i for i in acceptable_null_cols if i in model_cols]"
   ]
  },
  {
   "cell_type": "code",
   "execution_count": 6,
   "metadata": {
    "ExecuteTime": {
     "end_time": "2020-10-04T17:06:28.644678Z",
     "start_time": "2020-10-04T17:06:28.632797Z"
    }
   },
   "outputs": [
    {
     "data": {
      "text/plain": [
       "165"
      ]
     },
     "execution_count": 6,
     "metadata": {},
     "output_type": "execute_result"
    }
   ],
   "source": [
    "len(acceptable_null_cols)"
   ]
  },
  {
   "cell_type": "code",
   "execution_count": 7,
   "metadata": {
    "ExecuteTime": {
     "end_time": "2020-10-04T17:06:29.179863Z",
     "start_time": "2020-10-04T17:06:28.655238Z"
    }
   },
   "outputs": [
    {
     "name": "stdout",
     "output_type": "stream",
     "text": [
      "(85142, 165)\n",
      "(88656, 221)\n"
     ]
    }
   ],
   "source": [
    "print(mds_[acceptable_null_cols].dropna().shape)\n",
    "print(mds_.shape)"
   ]
  },
  {
   "cell_type": "markdown",
   "metadata": {},
   "source": [
    "#### Split data in train and test"
   ]
  },
  {
   "cell_type": "code",
   "execution_count": 8,
   "metadata": {
    "ExecuteTime": {
     "end_time": "2020-10-04T17:06:29.711106Z",
     "start_time": "2020-10-04T17:06:29.183191Z"
    }
   },
   "outputs": [
    {
     "data": {
      "text/plain": [
       "(59599, 165)"
      ]
     },
     "execution_count": 8,
     "metadata": {},
     "output_type": "execute_result"
    }
   ],
   "source": [
    "target_col = \"fraud_flag\"\n",
    "model_cols = acceptable_null_cols\n",
    "keep_index = mds_[model_cols].dropna().index\n",
    "model_cols_data = mds_.loc[keep_index, model_cols].reset_index().drop(\"index\", axis=1)\n",
    "model_cols_labels = mds_.loc[keep_index, target_col].reset_index().drop(\"index\", axis=1)\n",
    "\n",
    "model_cols_labels.fraud_flag = model_cols_labels.fraud_flag.astype(int)\n",
    "train_index_frac = 0.7\n",
    "model_cols_train_index_limit = int(train_index_frac*model_cols_data.shape[0])\n",
    "model_cols_train_data = model_cols_data[:model_cols_train_index_limit]\n",
    "model_cols_train_labels = model_cols_labels[:model_cols_train_index_limit]\n",
    "model_cols_test_data = model_cols_data[model_cols_train_index_limit:]\n",
    "model_cols_test_labels = model_cols_labels[model_cols_train_index_limit:]\n",
    "model_cols_train_data.shape"
   ]
  },
  {
   "cell_type": "markdown",
   "metadata": {},
   "source": [
    "#### Define f1_scorer for BayesSearchCV"
   ]
  },
  {
   "cell_type": "code",
   "execution_count": 9,
   "metadata": {
    "ExecuteTime": {
     "end_time": "2020-10-04T17:06:29.719685Z",
     "start_time": "2020-10-04T17:06:29.713889Z"
    }
   },
   "outputs": [],
   "source": [
    "def f1_bscv(estimator, X, y):\n",
    "    y_pred = estimator.predict(X)\n",
    "    score =  f1_score(y, y_pred, average=\"macro\")\n",
    "    with open(\"f1_scores.txt\", \"a\") as g:\n",
    "        g.write(\"score: {}\\n\".format(score))\n",
    "    return score"
   ]
  },
  {
   "cell_type": "markdown",
   "metadata": {
    "heading_collapsed": true
   },
   "source": [
    "### XGBoost"
   ]
  },
  {
   "cell_type": "markdown",
   "metadata": {
    "heading_collapsed": true,
    "hidden": true
   },
   "source": [
    "#### Train XGBoost"
   ]
  },
  {
   "cell_type": "code",
   "execution_count": 22,
   "metadata": {
    "ExecuteTime": {
     "end_time": "2020-10-02T15:25:07.031175Z",
     "start_time": "2020-10-02T15:22:54.359730Z"
    },
    "code_folding": [
     21
    ],
    "hidden": true,
    "scrolled": true
   },
   "outputs": [
    {
     "name": "stderr",
     "output_type": "stream",
     "text": [
      "/home/ubuntu/anaconda3/lib/python3.7/site-packages/sklearn/preprocessing/label.py:219: DataConversionWarning: A column-vector y was passed when a 1d array was expected. Please change the shape of y to (n_samples, ), for example using ravel().\n",
      "  y = column_or_1d(y, warn=True)\n",
      "/home/ubuntu/anaconda3/lib/python3.7/site-packages/sklearn/preprocessing/label.py:252: DataConversionWarning: A column-vector y was passed when a 1d array was expected. Please change the shape of y to (n_samples, ), for example using ravel().\n",
      "  y = column_or_1d(y, warn=True)\n"
     ]
    },
    {
     "name": "stdout",
     "output_type": "stream",
     "text": [
      "[15:25:04] WARNING: /workspace/src/learner.cc:480: \n",
      "Parameters: { num_classes } might not be used.\n",
      "\n",
      "  This may not be accurate due to some parameters are only used in language bindings but\n",
      "  passed down to XGBoost core.  Or some parameters are not used but slip through this\n",
      "  verification. Please open an issue if you find above cases.\n",
      "\n",
      "\n",
      "XGB F1 after model tuning:  0.4880419064405404\n",
      "132.66030836105347\n"
     ]
    }
   ],
   "source": [
    "\n",
    "xgb_space = {\n",
    "    \"XGB__n_estimators\": Integer(10, 20),\n",
    "    \"XGB__max_depth\": Integer(6, 8),\n",
    "    \"XGB__gamma\": Real(0.01, 1, prior='log-uniform'),\n",
    "    \"XGB__learning_rate\": Real(0.0001, 1, prior='log-uniform'),\n",
    "    \"XGB__max_delta_step\": Real(0.1, 10, prior='log-uniform'),\n",
    "    \"XGB__reg_alpha\": Real(0.1, 100, prior='log-uniform'),\n",
    "    \"XGB__reg_lambda\": Real(0.1, 100, prior='log-uniform'),\n",
    "    \"XGB__subsample\": Real(0.3, 0.7, prior='log-uniform'),\n",
    "#     \"scale_pos_weight\": Real(272, 278, prior='log-uniform')\n",
    "}\n",
    "\n",
    "\n",
    "n_iter=10\n",
    "\n",
    "pipe = Pipeline([\n",
    "    (\"Standard_Scaler\", StandardScaler(with_mean=True, with_std=True)), \n",
    "    (\"XGB\", xgboost.XGBClassifier(random_state=42, objective=\"multi:softmax\",num_classes=3))\n",
    "])\n",
    "\n",
    "xgb_opt = BayesSearchCV(\n",
    "    pipe,\n",
    "    xgb_space,\n",
    "    n_iter=n_iter,\n",
    "    random_state=42, n_points=1, cv=2, n_jobs=-1,\n",
    "    scoring=f1_bscv, refit=True\n",
    ")\n",
    "\n",
    "t0 = time()\n",
    "_ = xgb_opt.fit(model_cols_train_data, model_cols_train_labels)\n",
    "print(\"XGB F1 after model tuning: \", xgb_opt.score(model_cols_test_data, model_cols_test_labels))\n",
    "print(time()-t0)\n",
    "\n"
   ]
  },
  {
   "cell_type": "markdown",
   "metadata": {
    "heading_collapsed": true,
    "hidden": true
   },
   "source": [
    "##### Evaluate Precision-Recall of best iteration"
   ]
  },
  {
   "cell_type": "code",
   "execution_count": 23,
   "metadata": {
    "ExecuteTime": {
     "end_time": "2020-10-02T15:26:02.776484Z",
     "start_time": "2020-10-02T15:26:02.100595Z"
    },
    "hidden": true
   },
   "outputs": [
    {
     "name": "stdout",
     "output_type": "stream",
     "text": [
      "Recall for XGB:  0.4284466700306049\n",
      "Precision for XGB:  0.7728362840523513\n",
      "F1 for XGB:  0.4880419064405404\n"
     ]
    },
    {
     "data": {
      "text/plain": [
       "array([[25125,    31,     1],\n",
       "       [  316,    50,     0],\n",
       "       [   12,     5,     3]])"
      ]
     },
     "execution_count": 23,
     "metadata": {},
     "output_type": "execute_result"
    }
   ],
   "source": [
    "\n",
    "from sklearn.metrics import confusion_matrix, recall_score, precision_score\n",
    "print(\"Recall for XGB: \",recall_score(model_cols_test_labels, xgb_opt.predict(model_cols_test_data), average=\"macro\"))\n",
    "print(\"Precision for XGB: \",precision_score(model_cols_test_labels, xgb_opt.predict(model_cols_test_data), average=\"macro\"))\n",
    "print(\"F1 for XGB: \",f1_score(model_cols_test_labels, xgb_opt.predict(model_cols_test_data), average=\"macro\"))\n",
    "confusion_matrix(model_cols_test_labels, xgb_opt.predict(model_cols_test_data))\n"
   ]
  },
  {
   "cell_type": "markdown",
   "metadata": {
    "hidden": true
   },
   "source": [
    "#### Train XGB with all fraud labels as one"
   ]
  },
  {
   "cell_type": "markdown",
   "metadata": {
    "hidden": true
   },
   "source": [
    "Currently we are performing multiclass classification by using `fraud_flag = 2` for chargebacks and `fraud_flag = 1` for risk ops behavior. I want to try with binary classification, like earlier"
   ]
  },
  {
   "cell_type": "markdown",
   "metadata": {
    "hidden": true
   },
   "source": [
    "##### Create labels for binary classification"
   ]
  },
  {
   "cell_type": "code",
   "execution_count": 17,
   "metadata": {
    "hidden": true
   },
   "outputs": [],
   "source": [
    "model_cols_train_labels_bnry = model_cols_train_labels.copy()\n",
    "model_cols_test_labels_bnry = model_cols_test_labels.copy()"
   ]
  },
  {
   "cell_type": "code",
   "execution_count": 18,
   "metadata": {
    "hidden": true
   },
   "outputs": [],
   "source": [
    "model_cols_train_labels_bnry[model_cols_train_labels_bnry.fraud_flag==2] = 1\n",
    "model_cols_test_labels_bnry[model_cols_test_labels_bnry.fraud_flag==2] = 1"
   ]
  },
  {
   "cell_type": "markdown",
   "metadata": {
    "heading_collapsed": true,
    "hidden": true
   },
   "source": [
    "##### Binary classification xgboost"
   ]
  },
  {
   "cell_type": "markdown",
   "metadata": {
    "hidden": true
   },
   "source": [
    "Note: _Doesnt help much_"
   ]
  },
  {
   "cell_type": "code",
   "execution_count": 21,
   "metadata": {
    "hidden": true
   },
   "outputs": [
    {
     "name": "stderr",
     "output_type": "stream",
     "text": [
      "/home/ubuntu/anaconda3/lib/python3.7/site-packages/sklearn/preprocessing/label.py:219: DataConversionWarning: A column-vector y was passed when a 1d array was expected. Please change the shape of y to (n_samples, ), for example using ravel().\n",
      "  y = column_or_1d(y, warn=True)\n",
      "/home/ubuntu/anaconda3/lib/python3.7/site-packages/sklearn/preprocessing/label.py:252: DataConversionWarning: A column-vector y was passed when a 1d array was expected. Please change the shape of y to (n_samples, ), for example using ravel().\n",
      "  y = column_or_1d(y, warn=True)\n"
     ]
    },
    {
     "name": "stdout",
     "output_type": "stream",
     "text": [
      "[04:33:37] WARNING: /workspace/src/learner.cc:480: \n",
      "Parameters: { num_classes } might not be used.\n",
      "\n",
      "  This may not be accurate due to some parameters are only used in language bindings but\n",
      "  passed down to XGBoost core.  Or some parameters are not used but slip through this\n",
      "  verification. Please open an issue if you find above cases.\n",
      "\n",
      "\n",
      "XGB F1 after model tuning:  0.39691289966923926\n",
      "1329.4521310329437\n"
     ]
    }
   ],
   "source": [
    "\n",
    "xgb_space = {\n",
    "    \"n_estimators\": Integer(10, 20),\n",
    "    \"max_depth\": Integer(6, 8),\n",
    "    \"gamma\": Real(0.01, 1, prior='log-uniform'),\n",
    "    \"learning_rate\": Real(0.0001, 1, prior='log-uniform'),\n",
    "    \"max_delta_step\": Real(0.1, 10, prior='log-uniform'),\n",
    "    \"reg_alpha\": Real(0.1, 100, prior='log-uniform'),\n",
    "    \"reg_lambda\": Real(0.1, 100, prior='log-uniform'),\n",
    "    \"subsample\": Real(0.3, 0.7, prior='log-uniform'),\n",
    "    \"scale_pos_weight\": Real(1, 278, prior='log-uniform')\n",
    "}\n",
    "\n",
    "\n",
    "n_iter=100\n",
    "\n",
    "pipe = Pipeline([\n",
    "    (\"Standard_Scaler\", StandardScaler(with_mean=True, with_std=True)), \n",
    "    (\"XGB\", xgboost.XGBClassifier(random_state=42, objective=\"multi:softmax\",num_classes=3))\n",
    "])\n",
    "\n",
    "xgb_opt = BayesSearchCV(\n",
    "    pipe,\n",
    "    xgb_space,\n",
    "    n_iter=n_iter,\n",
    "    random_state=42, n_points=1, cv=2, n_jobs=-1,\n",
    "    scoring=f1_bscv, refit=True\n",
    ")\n",
    "\n",
    "\n",
    "t0 = time()\n",
    "_ = xgb_opt.fit(model_cols_train_data, model_cols_train_labels_bnry)\n",
    "print(\"XGB F1 after model tuning: \", xgb_opt.score(model_cols_test_data, model_cols_test_labels_bnry))\n",
    "print(time()-t0)\n",
    "\n"
   ]
  },
  {
   "cell_type": "markdown",
   "metadata": {},
   "source": [
    "### CatBoost"
   ]
  },
  {
   "cell_type": "markdown",
   "metadata": {},
   "source": [
    "#### Modify CatBoost"
   ]
  },
  {
   "cell_type": "markdown",
   "metadata": {},
   "source": [
    "I need to modify CatBoost because I need to use multi class weights and reformat before BayesSearch calls the `set_params` method"
   ]
  },
  {
   "cell_type": "code",
   "execution_count": 10,
   "metadata": {
    "ExecuteTime": {
     "end_time": "2020-10-04T17:06:29.756164Z",
     "start_time": "2020-10-04T17:06:29.725008Z"
    }
   },
   "outputs": [],
   "source": [
    "import inspect, sys, json\n",
    "from six import iteritems, string_types, integer_types\n",
    "class ModCatBoostClassifier(CatBoostClassifier, object):\n",
    "    def set_params(self, **params):\n",
    "#         a\n",
    "        params = locals()['params']\n",
    "        params = {k:params[k] for k in params if k not in ['self']}\n",
    "        print(params)\n",
    "        if \"class_weights_1\" in params:\n",
    "            params[\"class_weights\"] = [1, params[\"class_weights_1\"], params[\"class_weights_2\"]]\n",
    "            del params[\"class_weights_1\"]\n",
    "            del params[\"class_weights_2\"]\n",
    "        with open(\"file2.txt\", \"a\") as f:\n",
    "            for item in list(params.keys()):\n",
    "                f.write(\"{}: {}\\n\".format(item, params[item]))\n",
    "        return super().set_params(**params)\n",
    "\n",
    "    "
   ]
  },
  {
   "cell_type": "markdown",
   "metadata": {
    "heading_collapsed": true
   },
   "source": [
    "#### Train CatBoost"
   ]
  },
  {
   "cell_type": "code",
   "execution_count": null,
   "metadata": {
    "ExecuteTime": {
     "start_time": "2020-10-02T18:04:58.760Z"
    },
    "code_folding": [],
    "hidden": true
   },
   "outputs": [],
   "source": [
    "\n",
    "from skopt.space import Real, Integer, Categorical\n",
    "import catboost as cb\n",
    "from catboost import Pool\n",
    "\n",
    "cb_space = {\n",
    "    \"CB__iterations\": Integer(120, 500),\n",
    "    \"CB__depth\": Integer(8, 16),\n",
    "    \"CB__learning_rate\": Real(0.3, 1, prior='log-uniform'),\n",
    "    \"CB__l2_leaf_reg\": Real(10, 30, prior='log-uniform'),\n",
    "    'CB__random_strength': Real(1, 10, 'log-uniform'), \n",
    "    \"CB__class_weights_1\": Real(0.5, 500, name=\"class_weights_1\"),\n",
    "    \"CB__class_weights_2\": Real(0.5, 500, name=\"class_weights_2\"),\n",
    "}\n",
    "\n",
    "n_iter=10\n",
    "\n",
    "pipe = Pipeline([\n",
    "    (\"Standard_Scaler\", StandardScaler(with_mean=True, with_std=True)), \n",
    "    (\"CB\", ModCatBoostClassifier(random_seed=42, logging_level='Verbose', boosting_type=\"Plain\", \n",
    "                                  border_count=120, custom_metric=\"F1:use_weights=True\", \n",
    "                                  bootstrap_type=\"Bayesian\", metric_period=50, od_wait=50, od_type=\"Iter\"))\n",
    "])\n",
    "\n",
    "\n",
    "cb_opt = BayesSearchCV(pipe,\n",
    "    cb_space,\n",
    "    n_iter=n_iter,\n",
    "    optimizer_kwargs={'base_estimator': 'GP'},\n",
    "    random_state=42, n_points=5, cv=3, n_jobs=-1,\n",
    "    scoring=f1_bscv, refit=True\n",
    ")\n",
    "\n",
    "# train_dataset = Pool(model_cols_train_data, model_cols_train_labels)\n",
    "# train_dataset.quantize()\n",
    "\n",
    "from time import time\n",
    "t0 = time()\n",
    "_ = cb_opt.fit(model_cols_train_data, model_cols_train_labels)\n",
    "print(\"CB F1 after model tuning: \", cb_opt.score(model_cols_test_data, model_cols_test_labels))\n",
    "print(time()-t0)\n"
   ]
  },
  {
   "cell_type": "code",
   "execution_count": 124,
   "metadata": {
    "hidden": true
   },
   "outputs": [
    {
     "data": {
      "text/html": [
       "<div>\n",
       "<style scoped>\n",
       "    .dataframe tbody tr th:only-of-type {\n",
       "        vertical-align: middle;\n",
       "    }\n",
       "\n",
       "    .dataframe tbody tr th {\n",
       "        vertical-align: top;\n",
       "    }\n",
       "\n",
       "    .dataframe thead th {\n",
       "        text-align: right;\n",
       "    }\n",
       "</style>\n",
       "<table border=\"1\" class=\"dataframe\">\n",
       "  <thead>\n",
       "    <tr style=\"text-align: right;\">\n",
       "      <th></th>\n",
       "      <th>Predicted_Flag_0</th>\n",
       "      <th>Predicted_Flag_1</th>\n",
       "      <th>Predicted_Flag_2</th>\n",
       "      <th>total</th>\n",
       "    </tr>\n",
       "  </thead>\n",
       "  <tbody>\n",
       "    <tr>\n",
       "      <th>Actual_Flag_0</th>\n",
       "      <td>24713</td>\n",
       "      <td>441</td>\n",
       "      <td>3</td>\n",
       "      <td>25157</td>\n",
       "    </tr>\n",
       "    <tr>\n",
       "      <th>Actual_Flag_1</th>\n",
       "      <td>180</td>\n",
       "      <td>184</td>\n",
       "      <td>2</td>\n",
       "      <td>366</td>\n",
       "    </tr>\n",
       "    <tr>\n",
       "      <th>Actual_Flag_2</th>\n",
       "      <td>8</td>\n",
       "      <td>9</td>\n",
       "      <td>3</td>\n",
       "      <td>20</td>\n",
       "    </tr>\n",
       "  </tbody>\n",
       "</table>\n",
       "</div>"
      ],
      "text/plain": [
       "               Predicted_Flag_0  Predicted_Flag_1  Predicted_Flag_2  total\n",
       "Actual_Flag_0             24713               441                 3  25157\n",
       "Actual_Flag_1               180               184                 2    366\n",
       "Actual_Flag_2                 8                 9                 3     20"
      ]
     },
     "execution_count": 124,
     "metadata": {},
     "output_type": "execute_result"
    }
   ],
   "source": [
    "cm = pd.DataFrame(confusion_matrix(model_cols_test_labels, cb_opt.predict(model_cols_test_data)))\n",
    "cm.index = [\"Actual_Flag_\"+str(i) for i in range(3)]\n",
    "cm.columns = [\"Predicted_Flag_\"+str(i) for i in range(3)]\n",
    "cm.loc[:, \"total\"] = model_cols_test_labels.fraud_flag.value_counts().values\n",
    "cm"
   ]
  },
  {
   "cell_type": "markdown",
   "metadata": {
    "heading_collapsed": true
   },
   "source": [
    "### Neural Nets"
   ]
  },
  {
   "cell_type": "markdown",
   "metadata": {
    "heading_collapsed": true,
    "hidden": true
   },
   "source": [
    "#### Data prep"
   ]
  },
  {
   "cell_type": "markdown",
   "metadata": {
    "hidden": true
   },
   "source": [
    "Tensorflow doesnt accept booleans so convert booleans to `np.float32`"
   ]
  },
  {
   "cell_type": "code",
   "execution_count": 10,
   "metadata": {
    "ExecuteTime": {
     "end_time": "2020-10-03T17:41:21.204180Z",
     "start_time": "2020-10-03T17:41:21.190945Z"
    },
    "hidden": true,
    "scrolled": true
   },
   "outputs": [
    {
     "name": "stderr",
     "output_type": "stream",
     "text": [
      "/home/ubuntu/anaconda3/lib/python3.7/site-packages/pandas/core/frame.py:2963: SettingWithCopyWarning: \n",
      "A value is trying to be set on a copy of a slice from a DataFrame.\n",
      "Try using .loc[row_indexer,col_indexer] = value instead\n",
      "\n",
      "See the caveats in the documentation: https://pandas.pydata.org/pandas-docs/stable/user_guide/indexing.html#returning-a-view-versus-a-copy\n",
      "  self[k1] = value[k2]\n",
      "/home/ubuntu/anaconda3/lib/python3.7/site-packages/pandas/core/generic.py:5303: SettingWithCopyWarning: \n",
      "A value is trying to be set on a copy of a slice from a DataFrame.\n",
      "Try using .loc[row_indexer,col_indexer] = value instead\n",
      "\n",
      "See the caveats in the documentation: https://pandas.pydata.org/pandas-docs/stable/user_guide/indexing.html#returning-a-view-versus-a-copy\n",
      "  self[name] = value\n"
     ]
    }
   ],
   "source": [
    "bool_types = model_cols_train_data.columns[model_cols_train_data.dtypes == bool].tolist()\n",
    "model_cols_train_data[bool_types] = model_cols_train_data[bool_types].astype(np.float32)\n",
    "model_cols_test_data[bool_types] = model_cols_test_data[bool_types].astype(np.float32)\n",
    "\n",
    "model_cols_train_labels.fraud_flag = model_cols_train_labels.fraud_flag.astype(np.float32)\n",
    "model_cols_test_labels.fraud_flag = model_cols_test_labels.fraud_flag.astype(np.float32)"
   ]
  },
  {
   "cell_type": "markdown",
   "metadata": {
    "heading_collapsed": true,
    "hidden": true
   },
   "source": [
    "##### Dummy encode the labels"
   ]
  },
  {
   "cell_type": "code",
   "execution_count": 11,
   "metadata": {
    "ExecuteTime": {
     "end_time": "2020-10-03T17:41:22.153526Z",
     "start_time": "2020-10-03T17:41:21.205211Z"
    },
    "hidden": true
   },
   "outputs": [],
   "source": [
    "from keras.utils import np_utils\n",
    "dummy_y = np_utils.to_categorical(model_cols_labels['fraud_flag'].values)\n",
    "dummy_y_tr = np_utils.to_categorical(model_cols_train_labels['fraud_flag'].values)\n",
    "dummy_y_te = np_utils.to_categorical(model_cols_test_labels['fraud_flag'].values)\n",
    " "
   ]
  },
  {
   "cell_type": "markdown",
   "metadata": {
    "heading_collapsed": true,
    "hidden": true
   },
   "source": [
    "#### Keras Model Evaluator"
   ]
  },
  {
   "cell_type": "code",
   "execution_count": 12,
   "metadata": {
    "ExecuteTime": {
     "end_time": "2020-10-03T17:41:22.157418Z",
     "start_time": "2020-10-03T17:41:22.154721Z"
    },
    "hidden": true
   },
   "outputs": [],
   "source": [
    "def f1_macro(y_true, y_pred):\n",
    "    print(\"F1 _MACRO\")\n",
    "    print(type(y_true))\n",
    "    print(y_true.shape)\n",
    "    y_true = y_true.numpy()\n",
    "    print(\"F1 _MACRO END!!!!\")\n",
    "    return f1_score(y_true, y_pred, average=\"macro\")\n",
    "\n"
   ]
  },
  {
   "cell_type": "markdown",
   "metadata": {
    "heading_collapsed": true,
    "hidden": true
   },
   "source": [
    "#### Baseline NN"
   ]
  },
  {
   "cell_type": "code",
   "execution_count": 13,
   "metadata": {
    "ExecuteTime": {
     "end_time": "2020-10-04T05:28:33.040894Z",
     "start_time": "2020-10-04T05:28:32.067870Z"
    },
    "hidden": true
   },
   "outputs": [],
   "source": [
    "import pandas\n",
    "import numpy as np\n",
    "import tensorflow as tf\n",
    "import tensorflow_addons as tfa\n",
    "from keras.models import Sequential\n",
    "from keras.layers import Dense, Dropout\n",
    "from keras.wrappers.scikit_learn import KerasClassifier\n",
    "from sklearn.model_selection import cross_val_score\n",
    "from sklearn.preprocessing import LabelEncoder\n",
    "from sklearn.model_selection import StratifiedKFold\n",
    "from sklearn.preprocessing import StandardScaler\n",
    "from sklearn.pipeline import Pipeline"
   ]
  },
  {
   "cell_type": "code",
   "execution_count": 14,
   "metadata": {
    "ExecuteTime": {
     "end_time": "2020-10-03T17:41:22.323956Z",
     "start_time": "2020-10-03T17:41:22.320389Z"
    },
    "hidden": true
   },
   "outputs": [],
   "source": [
    "# define baseline model\n",
    "def get_model():\n",
    "    # create model\n",
    "    model = Sequential()\n",
    "    model.add(Dense(170, input_dim=model_cols_train_data.shape[1], activation='relu'))\n",
    "    model.add(Dropout(0.2))\n",
    "#     model.add(Dense(500, input_dim=model_cols_train_data.shape[1], activation='swish'))\n",
    "#     model.add(Dense(200, input_dim=model_cols_train_data.shape[1], activation=tf.nn.leaky_relu))\n",
    "#     model.add(Dense(40, activation='relu'))\n",
    "#     model.add(Dense(10, activation='relu'))\n",
    "    model.add(Dense(3, activation='softmax'))\n",
    "    # Compile model\n",
    "    model.compile(loss='categorical_crossentropy', optimizer='rmsprop', \n",
    "                  metrics=[tfa.metrics.F1Score(num_classes=3, average=\"macro\")]\n",
    "                 )\n",
    "    return model"
   ]
  },
  {
   "cell_type": "markdown",
   "metadata": {
    "heading_collapsed": true,
    "hidden": true
   },
   "source": [
    "#### Define the stratified k-folds "
   ]
  },
  {
   "cell_type": "code",
   "execution_count": 15,
   "metadata": {
    "ExecuteTime": {
     "end_time": "2020-10-03T17:41:25.943045Z",
     "start_time": "2020-10-03T17:41:25.847289Z"
    },
    "hidden": true,
    "scrolled": true
   },
   "outputs": [
    {
     "name": "stdout",
     "output_type": "stream",
     "text": [
      "Model: \"sequential\"\n",
      "_________________________________________________________________\n",
      "Layer (type)                 Output Shape              Param #   \n",
      "=================================================================\n",
      "dense (Dense)                (None, 170)               28220     \n",
      "_________________________________________________________________\n",
      "dropout (Dropout)            (None, 170)               0         \n",
      "_________________________________________________________________\n",
      "dense_1 (Dense)              (None, 3)                 513       \n",
      "=================================================================\n",
      "Total params: 28,733\n",
      "Trainable params: 28,733\n",
      "Non-trainable params: 0\n",
      "_________________________________________________________________\n"
     ]
    }
   ],
   "source": [
    "kfolds = list(StratifiedKFold(n_splits=10, shuffle=True).split(model_cols_data, model_cols_labels))\n",
    "model = get_model()\n",
    "model.summary()"
   ]
  },
  {
   "cell_type": "markdown",
   "metadata": {
    "heading_collapsed": true,
    "hidden": true
   },
   "source": [
    "#### Train Model"
   ]
  },
  {
   "cell_type": "code",
   "execution_count": 79,
   "metadata": {
    "ExecuteTime": {
     "end_time": "2020-10-03T07:29:38.465157Z",
     "start_time": "2020-10-03T07:28:20.442338Z"
    },
    "hidden": true,
    "scrolled": true
   },
   "outputs": [
    {
     "name": "stdout",
     "output_type": "stream",
     "text": [
      "\n",
      "Fold  0\n",
      "2395/2395 [==============================] - 1s 494us/step - loss: 0.0439 - f1_score: 0.6475\n",
      "267/267 [==============================] - 0s 445us/step - loss: 0.0513 - f1_score: 0.5136\n",
      "\n",
      "Fold  1\n",
      "2395/2395 [==============================] - 1s 490us/step - loss: 0.0430 - f1_score: 0.6141\n",
      "267/267 [==============================] - 0s 514us/step - loss: 0.0488 - f1_score: 0.5234\n",
      "\n",
      "Fold  2\n",
      "2395/2395 [==============================] - 1s 473us/step - loss: 0.0439 - f1_score: 0.6587\n",
      "267/267 [==============================] - 0s 476us/step - loss: 0.0521 - f1_score: 0.5920\n",
      "\n",
      "Fold  3\n",
      "2395/2395 [==============================] - 1s 474us/step - loss: 0.0438 - f1_score: 0.6409\n",
      "267/267 [==============================] - 0s 503us/step - loss: 0.0503 - f1_score: 0.4365\n",
      "\n",
      "Fold  4\n",
      "2395/2395 [==============================] - 1s 456us/step - loss: 0.0429 - f1_score: 0.6416\n",
      "267/267 [==============================] - 0s 487us/step - loss: 0.0489 - f1_score: 0.4475\n",
      "\n",
      "Fold  5\n",
      "2395/2395 [==============================] - 1s 493us/step - loss: 0.0422 - f1_score: 0.6597\n",
      "267/267 [==============================] - 0s 510us/step - loss: 0.0534 - f1_score: 0.4762\n",
      "\n",
      "Fold  6\n",
      "2395/2395 [==============================] - 1s 477us/step - loss: 0.0441 - f1_score: 0.6386\n",
      "267/267 [==============================] - 0s 475us/step - loss: 0.0491 - f1_score: 0.4518\n",
      "\n",
      "Fold  7\n",
      "2395/2395 [==============================] - 1s 444us/step - loss: 0.0425 - f1_score: 0.6190\n",
      "267/267 [==============================] - 0s 496us/step - loss: 0.0585 - f1_score: 0.4873\n",
      "\n",
      "Fold  8\n",
      "2395/2395 [==============================] - 1s 485us/step - loss: 0.0422 - f1_score: 0.6449\n",
      "267/267 [==============================] - 0s 456us/step - loss: 0.0542 - f1_score: 0.4685\n",
      "\n",
      "Fold  9\n",
      "2395/2395 [==============================] - 1s 513us/step - loss: 0.0432 - f1_score: 0.6299\n",
      "267/267 [==============================] - 0s 503us/step - loss: 0.0516 - f1_score: 0.6067\n",
      "\\\\\\\\n\n",
      "batch_size:  1024\n",
      "epochs:  10\n",
      "time:  78  seconds\n",
      "mean train score:  0.6394771873950958\n",
      "mean test  score:  0.5003396004438401\n"
     ]
    }
   ],
   "source": [
    "from time import time\n",
    "epochs = 10\n",
    "batch_size = 1024\n",
    "X_train = model_cols_data\n",
    "y_train = dummy_y\n",
    "tr_scores = []\n",
    "te_scores = []\n",
    "t0 = time()\n",
    "for j, (train_idx, val_idx) in enumerate(kfolds):\n",
    "    print('\\nFold ',j)\n",
    "    X_train_cv = X_train.loc[train_idx, :]\n",
    "    y_train_cv = y_train[train_idx]\n",
    "    X_valid_cv = X_train.loc[val_idx, :]\n",
    "    y_valid_cv= y_train[val_idx]\n",
    "    ss = StandardScaler()\n",
    "    X_train_cv = ss.fit_transform(X_train_cv)\n",
    "    X_valid_cv = ss.transform(X_valid_cv)\n",
    "    model = get_model()\n",
    "    model.fit(X_train_cv, y_train_cv, epochs = epochs, batch_size = batch_size, validation_data = (X_valid_cv, y_valid_cv), verbose=0)\n",
    "    tr_scores.append(model.evaluate(X_train_cv, y_train_cv)[-1])\n",
    "    te_scores.append(model.evaluate(X_valid_cv, y_valid_cv)[-1])\n",
    "#     print(\"train set: \", tr_scores[-1])\n",
    "#     print(\"test  set: \", te_scores[-1])\n",
    "\n",
    "print(\"\\\\\\\\\\\\\\\\n\")\n",
    "t1 = time()\n",
    "print(\"batch_size: \", batch_size)\n",
    "print(\"epochs: \", epochs)\n",
    "print(\"time: \", round(t1-t0), \" seconds\")\n",
    "print(\"mean train score: \", sum(tr_scores)/len(tr_scores))\n",
    "print(\"mean test  score: \", sum(te_scores)/len(te_scores))"
   ]
  },
  {
   "cell_type": "markdown",
   "metadata": {
    "hidden": true
   },
   "source": [
    "- adding standard scaler step has helped improve results\n",
    "- adding drop out has helped reduce overfitting\n",
    "- batch size, epoch\n",
    "\n",
    "2HL\n",
    "HL: (200,40); dropout: 0.2, relu\n",
    "batch_size:  1024\n",
    "epochs:  10\n",
    "time:  19  seconds\n",
    "mean train score:  0.6199480772018433\n",
    "mean test  score:  0.43590298295021057\n",
    "\n",
    "1 HL\n",
    "HL: 170, dropout: 0.2, relu\n",
    "batch_size:  1024\n",
    "epochs:  10\n",
    "time:  17  seconds\n",
    "mean train score:  0.6465416669845581\n",
    "mean test  score:  0.5217714965343475\n",
    "\n",
    "HL: 200, dropout: 0.2, relu\n",
    "batch_size:  1024\n",
    "epochs:  10\n",
    "time:  18  seconds\n",
    "mean train score:  0.6403773069381714\n",
    "mean test  score:  0.49829577207565307\n",
    "\n",
    "HL: 200, dropout: 0.2, relu\n",
    "batch size: 2 \n",
    "epoch: 10\n",
    "mean train score:  0.4366429090499878\n",
    "mean test  score:  0.41368075013160704"
   ]
  },
  {
   "cell_type": "markdown",
   "metadata": {
    "heading_collapsed": true,
    "hidden": true
   },
   "source": [
    "#### Perform tuning for epochs and batch size"
   ]
  },
  {
   "cell_type": "code",
   "execution_count": 23,
   "metadata": {
    "ExecuteTime": {
     "end_time": "2020-10-03T15:00:04.637218Z",
     "start_time": "2020-10-03T14:59:59.523471Z"
    },
    "hidden": true,
    "scrolled": true
   },
   "outputs": [
    {
     "name": "stdout",
     "output_type": "stream",
     "text": [
      "\n",
      "\n",
      "||||||||||||||||||||||||||||||||||||||||||||||||||||||||||||||||||||||||||||||||\n",
      "\n",
      "batch_size: 512 epochs: 10\n",
      "\n",
      "Fold  0\n"
     ]
    },
    {
     "ename": "KeyboardInterrupt",
     "evalue": "",
     "output_type": "error",
     "traceback": [
      "\u001b[0;31m---------------------------------------------------------------------------\u001b[0m",
      "\u001b[0;31mKeyboardInterrupt\u001b[0m                         Traceback (most recent call last)",
      "\u001b[0;32m<ipython-input-23-02edcae89356>\u001b[0m in \u001b[0;36m<module>\u001b[0;34m\u001b[0m\n\u001b[1;32m     25\u001b[0m             \u001b[0mX_valid_cv\u001b[0m \u001b[0;34m=\u001b[0m \u001b[0mss\u001b[0m\u001b[0;34m.\u001b[0m\u001b[0mtransform\u001b[0m\u001b[0;34m(\u001b[0m\u001b[0mX_valid_cv\u001b[0m\u001b[0;34m)\u001b[0m\u001b[0;34m\u001b[0m\u001b[0;34m\u001b[0m\u001b[0m\n\u001b[1;32m     26\u001b[0m             \u001b[0mmodel\u001b[0m \u001b[0;34m=\u001b[0m \u001b[0mget_model\u001b[0m\u001b[0;34m(\u001b[0m\u001b[0;34m)\u001b[0m\u001b[0;34m\u001b[0m\u001b[0;34m\u001b[0m\u001b[0m\n\u001b[0;32m---> 27\u001b[0;31m             \u001b[0mmodel\u001b[0m\u001b[0;34m.\u001b[0m\u001b[0mfit\u001b[0m\u001b[0;34m(\u001b[0m\u001b[0mX_train_cv\u001b[0m\u001b[0;34m,\u001b[0m \u001b[0my_train_cv\u001b[0m\u001b[0;34m,\u001b[0m \u001b[0mepochs\u001b[0m \u001b[0;34m=\u001b[0m \u001b[0mep\u001b[0m\u001b[0;34m,\u001b[0m \u001b[0mbatch_size\u001b[0m \u001b[0;34m=\u001b[0m \u001b[0mbs\u001b[0m\u001b[0;34m,\u001b[0m \u001b[0mvalidation_data\u001b[0m \u001b[0;34m=\u001b[0m \u001b[0;34m(\u001b[0m\u001b[0mX_valid_cv\u001b[0m\u001b[0;34m,\u001b[0m \u001b[0my_valid_cv\u001b[0m\u001b[0;34m)\u001b[0m\u001b[0;34m,\u001b[0m \u001b[0mverbose\u001b[0m\u001b[0;34m=\u001b[0m\u001b[0;36m0\u001b[0m\u001b[0;34m)\u001b[0m\u001b[0;34m\u001b[0m\u001b[0;34m\u001b[0m\u001b[0m\n\u001b[0m\u001b[1;32m     28\u001b[0m             \u001b[0mtr_scores\u001b[0m\u001b[0;34m.\u001b[0m\u001b[0mappend\u001b[0m\u001b[0;34m(\u001b[0m\u001b[0mmodel\u001b[0m\u001b[0;34m.\u001b[0m\u001b[0mevaluate\u001b[0m\u001b[0;34m(\u001b[0m\u001b[0mX_train_cv\u001b[0m\u001b[0;34m,\u001b[0m \u001b[0my_train_cv\u001b[0m\u001b[0;34m)\u001b[0m\u001b[0;34m[\u001b[0m\u001b[0;34m-\u001b[0m\u001b[0;36m1\u001b[0m\u001b[0;34m]\u001b[0m\u001b[0;34m)\u001b[0m\u001b[0;34m\u001b[0m\u001b[0;34m\u001b[0m\u001b[0m\n\u001b[1;32m     29\u001b[0m             \u001b[0mte_scores\u001b[0m\u001b[0;34m.\u001b[0m\u001b[0mappend\u001b[0m\u001b[0;34m(\u001b[0m\u001b[0mmodel\u001b[0m\u001b[0;34m.\u001b[0m\u001b[0mevaluate\u001b[0m\u001b[0;34m(\u001b[0m\u001b[0mX_valid_cv\u001b[0m\u001b[0;34m,\u001b[0m \u001b[0my_valid_cv\u001b[0m\u001b[0;34m)\u001b[0m\u001b[0;34m[\u001b[0m\u001b[0;34m-\u001b[0m\u001b[0;36m1\u001b[0m\u001b[0;34m]\u001b[0m\u001b[0;34m)\u001b[0m\u001b[0;34m\u001b[0m\u001b[0;34m\u001b[0m\u001b[0m\n",
      "\u001b[0;32m~/anaconda3/lib/python3.7/site-packages/tensorflow/python/keras/engine/training.py\u001b[0m in \u001b[0;36m_method_wrapper\u001b[0;34m(self, *args, **kwargs)\u001b[0m\n\u001b[1;32m    106\u001b[0m   \u001b[0;32mdef\u001b[0m \u001b[0m_method_wrapper\u001b[0m\u001b[0;34m(\u001b[0m\u001b[0mself\u001b[0m\u001b[0;34m,\u001b[0m \u001b[0;34m*\u001b[0m\u001b[0margs\u001b[0m\u001b[0;34m,\u001b[0m \u001b[0;34m**\u001b[0m\u001b[0mkwargs\u001b[0m\u001b[0;34m)\u001b[0m\u001b[0;34m:\u001b[0m\u001b[0;34m\u001b[0m\u001b[0;34m\u001b[0m\u001b[0m\n\u001b[1;32m    107\u001b[0m     \u001b[0;32mif\u001b[0m \u001b[0;32mnot\u001b[0m \u001b[0mself\u001b[0m\u001b[0;34m.\u001b[0m\u001b[0m_in_multi_worker_mode\u001b[0m\u001b[0;34m(\u001b[0m\u001b[0;34m)\u001b[0m\u001b[0;34m:\u001b[0m  \u001b[0;31m# pylint: disable=protected-access\u001b[0m\u001b[0;34m\u001b[0m\u001b[0;34m\u001b[0m\u001b[0m\n\u001b[0;32m--> 108\u001b[0;31m       \u001b[0;32mreturn\u001b[0m \u001b[0mmethod\u001b[0m\u001b[0;34m(\u001b[0m\u001b[0mself\u001b[0m\u001b[0;34m,\u001b[0m \u001b[0;34m*\u001b[0m\u001b[0margs\u001b[0m\u001b[0;34m,\u001b[0m \u001b[0;34m**\u001b[0m\u001b[0mkwargs\u001b[0m\u001b[0;34m)\u001b[0m\u001b[0;34m\u001b[0m\u001b[0;34m\u001b[0m\u001b[0m\n\u001b[0m\u001b[1;32m    109\u001b[0m \u001b[0;34m\u001b[0m\u001b[0m\n\u001b[1;32m    110\u001b[0m     \u001b[0;31m# Running inside `run_distribute_coordinator` already.\u001b[0m\u001b[0;34m\u001b[0m\u001b[0;34m\u001b[0m\u001b[0;34m\u001b[0m\u001b[0m\n",
      "\u001b[0;32m~/anaconda3/lib/python3.7/site-packages/tensorflow/python/keras/engine/training.py\u001b[0m in \u001b[0;36mfit\u001b[0;34m(self, x, y, batch_size, epochs, verbose, callbacks, validation_split, validation_data, shuffle, class_weight, sample_weight, initial_epoch, steps_per_epoch, validation_steps, validation_batch_size, validation_freq, max_queue_size, workers, use_multiprocessing)\u001b[0m\n\u001b[1;32m   1096\u001b[0m                 batch_size=batch_size):\n\u001b[1;32m   1097\u001b[0m               \u001b[0mcallbacks\u001b[0m\u001b[0;34m.\u001b[0m\u001b[0mon_train_batch_begin\u001b[0m\u001b[0;34m(\u001b[0m\u001b[0mstep\u001b[0m\u001b[0;34m)\u001b[0m\u001b[0;34m\u001b[0m\u001b[0;34m\u001b[0m\u001b[0m\n\u001b[0;32m-> 1098\u001b[0;31m               \u001b[0mtmp_logs\u001b[0m \u001b[0;34m=\u001b[0m \u001b[0mtrain_function\u001b[0m\u001b[0;34m(\u001b[0m\u001b[0miterator\u001b[0m\u001b[0;34m)\u001b[0m\u001b[0;34m\u001b[0m\u001b[0;34m\u001b[0m\u001b[0m\n\u001b[0m\u001b[1;32m   1099\u001b[0m               \u001b[0;32mif\u001b[0m \u001b[0mdata_handler\u001b[0m\u001b[0;34m.\u001b[0m\u001b[0mshould_sync\u001b[0m\u001b[0;34m:\u001b[0m\u001b[0;34m\u001b[0m\u001b[0;34m\u001b[0m\u001b[0m\n\u001b[1;32m   1100\u001b[0m                 \u001b[0mcontext\u001b[0m\u001b[0;34m.\u001b[0m\u001b[0masync_wait\u001b[0m\u001b[0;34m(\u001b[0m\u001b[0;34m)\u001b[0m\u001b[0;34m\u001b[0m\u001b[0;34m\u001b[0m\u001b[0m\n",
      "\u001b[0;32m~/anaconda3/lib/python3.7/site-packages/tensorflow/python/eager/def_function.py\u001b[0m in \u001b[0;36m__call__\u001b[0;34m(self, *args, **kwds)\u001b[0m\n\u001b[1;32m    778\u001b[0m       \u001b[0;32melse\u001b[0m\u001b[0;34m:\u001b[0m\u001b[0;34m\u001b[0m\u001b[0;34m\u001b[0m\u001b[0m\n\u001b[1;32m    779\u001b[0m         \u001b[0mcompiler\u001b[0m \u001b[0;34m=\u001b[0m \u001b[0;34m\"nonXla\"\u001b[0m\u001b[0;34m\u001b[0m\u001b[0;34m\u001b[0m\u001b[0m\n\u001b[0;32m--> 780\u001b[0;31m         \u001b[0mresult\u001b[0m \u001b[0;34m=\u001b[0m \u001b[0mself\u001b[0m\u001b[0;34m.\u001b[0m\u001b[0m_call\u001b[0m\u001b[0;34m(\u001b[0m\u001b[0;34m*\u001b[0m\u001b[0margs\u001b[0m\u001b[0;34m,\u001b[0m \u001b[0;34m**\u001b[0m\u001b[0mkwds\u001b[0m\u001b[0;34m)\u001b[0m\u001b[0;34m\u001b[0m\u001b[0;34m\u001b[0m\u001b[0m\n\u001b[0m\u001b[1;32m    781\u001b[0m \u001b[0;34m\u001b[0m\u001b[0m\n\u001b[1;32m    782\u001b[0m       \u001b[0mnew_tracing_count\u001b[0m \u001b[0;34m=\u001b[0m \u001b[0mself\u001b[0m\u001b[0;34m.\u001b[0m\u001b[0m_get_tracing_count\u001b[0m\u001b[0;34m(\u001b[0m\u001b[0;34m)\u001b[0m\u001b[0;34m\u001b[0m\u001b[0;34m\u001b[0m\u001b[0m\n",
      "\u001b[0;32m~/anaconda3/lib/python3.7/site-packages/tensorflow/python/eager/def_function.py\u001b[0m in \u001b[0;36m_call\u001b[0;34m(self, *args, **kwds)\u001b[0m\n\u001b[1;32m    805\u001b[0m       \u001b[0;31m# In this case we have created variables on the first call, so we run the\u001b[0m\u001b[0;34m\u001b[0m\u001b[0;34m\u001b[0m\u001b[0;34m\u001b[0m\u001b[0m\n\u001b[1;32m    806\u001b[0m       \u001b[0;31m# defunned version which is guaranteed to never create variables.\u001b[0m\u001b[0;34m\u001b[0m\u001b[0;34m\u001b[0m\u001b[0;34m\u001b[0m\u001b[0m\n\u001b[0;32m--> 807\u001b[0;31m       \u001b[0;32mreturn\u001b[0m \u001b[0mself\u001b[0m\u001b[0;34m.\u001b[0m\u001b[0m_stateless_fn\u001b[0m\u001b[0;34m(\u001b[0m\u001b[0;34m*\u001b[0m\u001b[0margs\u001b[0m\u001b[0;34m,\u001b[0m \u001b[0;34m**\u001b[0m\u001b[0mkwds\u001b[0m\u001b[0;34m)\u001b[0m  \u001b[0;31m# pylint: disable=not-callable\u001b[0m\u001b[0;34m\u001b[0m\u001b[0;34m\u001b[0m\u001b[0m\n\u001b[0m\u001b[1;32m    808\u001b[0m     \u001b[0;32melif\u001b[0m \u001b[0mself\u001b[0m\u001b[0;34m.\u001b[0m\u001b[0m_stateful_fn\u001b[0m \u001b[0;32mis\u001b[0m \u001b[0;32mnot\u001b[0m \u001b[0;32mNone\u001b[0m\u001b[0;34m:\u001b[0m\u001b[0;34m\u001b[0m\u001b[0;34m\u001b[0m\u001b[0m\n\u001b[1;32m    809\u001b[0m       \u001b[0;31m# Release the lock early so that multiple threads can perform the call\u001b[0m\u001b[0;34m\u001b[0m\u001b[0;34m\u001b[0m\u001b[0;34m\u001b[0m\u001b[0m\n",
      "\u001b[0;32m~/anaconda3/lib/python3.7/site-packages/tensorflow/python/eager/function.py\u001b[0m in \u001b[0;36m__call__\u001b[0;34m(self, *args, **kwargs)\u001b[0m\n\u001b[1;32m   2827\u001b[0m     \u001b[0;32mwith\u001b[0m \u001b[0mself\u001b[0m\u001b[0;34m.\u001b[0m\u001b[0m_lock\u001b[0m\u001b[0;34m:\u001b[0m\u001b[0;34m\u001b[0m\u001b[0;34m\u001b[0m\u001b[0m\n\u001b[1;32m   2828\u001b[0m       \u001b[0mgraph_function\u001b[0m\u001b[0;34m,\u001b[0m \u001b[0margs\u001b[0m\u001b[0;34m,\u001b[0m \u001b[0mkwargs\u001b[0m \u001b[0;34m=\u001b[0m \u001b[0mself\u001b[0m\u001b[0;34m.\u001b[0m\u001b[0m_maybe_define_function\u001b[0m\u001b[0;34m(\u001b[0m\u001b[0margs\u001b[0m\u001b[0;34m,\u001b[0m \u001b[0mkwargs\u001b[0m\u001b[0;34m)\u001b[0m\u001b[0;34m\u001b[0m\u001b[0;34m\u001b[0m\u001b[0m\n\u001b[0;32m-> 2829\u001b[0;31m     \u001b[0;32mreturn\u001b[0m \u001b[0mgraph_function\u001b[0m\u001b[0;34m.\u001b[0m\u001b[0m_filtered_call\u001b[0m\u001b[0;34m(\u001b[0m\u001b[0margs\u001b[0m\u001b[0;34m,\u001b[0m \u001b[0mkwargs\u001b[0m\u001b[0;34m)\u001b[0m  \u001b[0;31m# pylint: disable=protected-access\u001b[0m\u001b[0;34m\u001b[0m\u001b[0;34m\u001b[0m\u001b[0m\n\u001b[0m\u001b[1;32m   2830\u001b[0m \u001b[0;34m\u001b[0m\u001b[0m\n\u001b[1;32m   2831\u001b[0m   \u001b[0;34m@\u001b[0m\u001b[0mproperty\u001b[0m\u001b[0;34m\u001b[0m\u001b[0;34m\u001b[0m\u001b[0m\n",
      "\u001b[0;32m~/anaconda3/lib/python3.7/site-packages/tensorflow/python/eager/function.py\u001b[0m in \u001b[0;36m_filtered_call\u001b[0;34m(self, args, kwargs, cancellation_manager)\u001b[0m\n\u001b[1;32m   1842\u001b[0m     \"\"\"\n\u001b[1;32m   1843\u001b[0m     return self._call_flat(\n\u001b[0;32m-> 1844\u001b[0;31m         [t for t in nest.flatten((args, kwargs), expand_composites=True)\n\u001b[0m\u001b[1;32m   1845\u001b[0m          if isinstance(t, (ops.Tensor,\n\u001b[1;32m   1846\u001b[0m                            resource_variable_ops.BaseResourceVariable))],\n",
      "\u001b[0;32m~/anaconda3/lib/python3.7/site-packages/tensorflow/python/util/nest.py\u001b[0m in \u001b[0;36mflatten\u001b[0;34m(structure, expand_composites)\u001b[0m\n\u001b[1;32m    336\u001b[0m     \u001b[0mTypeError\u001b[0m\u001b[0;34m:\u001b[0m \u001b[0mThe\u001b[0m \u001b[0mnest\u001b[0m \u001b[0;32mis\u001b[0m \u001b[0;32mor\u001b[0m \u001b[0mcontains\u001b[0m \u001b[0ma\u001b[0m \u001b[0mdict\u001b[0m \u001b[0;32mwith\u001b[0m \u001b[0mnon\u001b[0m\u001b[0;34m-\u001b[0m\u001b[0msortable\u001b[0m \u001b[0mkeys\u001b[0m\u001b[0;34m.\u001b[0m\u001b[0;34m\u001b[0m\u001b[0;34m\u001b[0m\u001b[0m\n\u001b[1;32m    337\u001b[0m   \"\"\"\n\u001b[0;32m--> 338\u001b[0;31m   \u001b[0;32mreturn\u001b[0m \u001b[0m_pywrap_utils\u001b[0m\u001b[0;34m.\u001b[0m\u001b[0mFlatten\u001b[0m\u001b[0;34m(\u001b[0m\u001b[0mstructure\u001b[0m\u001b[0;34m,\u001b[0m \u001b[0mexpand_composites\u001b[0m\u001b[0;34m)\u001b[0m\u001b[0;34m\u001b[0m\u001b[0;34m\u001b[0m\u001b[0m\n\u001b[0m\u001b[1;32m    339\u001b[0m \u001b[0;34m\u001b[0m\u001b[0m\n\u001b[1;32m    340\u001b[0m \u001b[0;34m\u001b[0m\u001b[0m\n",
      "\u001b[0;32m~/anaconda3/lib/python3.7/site-packages/tensorflow/python/data/ops/iterator_ops.py\u001b[0m in \u001b[0;36m_to_components\u001b[0;34m(self, value)\u001b[0m\n\u001b[1;32m    894\u001b[0m \u001b[0;34m\u001b[0m\u001b[0m\n\u001b[1;32m    895\u001b[0m   \u001b[0;32mdef\u001b[0m \u001b[0m_to_components\u001b[0m\u001b[0;34m(\u001b[0m\u001b[0mself\u001b[0m\u001b[0;34m,\u001b[0m \u001b[0mvalue\u001b[0m\u001b[0;34m)\u001b[0m\u001b[0;34m:\u001b[0m\u001b[0;34m\u001b[0m\u001b[0;34m\u001b[0m\u001b[0m\n\u001b[0;32m--> 896\u001b[0;31m     \u001b[0;32mreturn\u001b[0m \u001b[0;34m(\u001b[0m\u001b[0mvalue\u001b[0m\u001b[0;34m.\u001b[0m\u001b[0m_iterator_resource\u001b[0m\u001b[0;34m,\u001b[0m \u001b[0mvalue\u001b[0m\u001b[0;34m.\u001b[0m\u001b[0m_deleter\u001b[0m\u001b[0;34m)\u001b[0m  \u001b[0;31m# pylint: disable=protected-access\u001b[0m\u001b[0;34m\u001b[0m\u001b[0;34m\u001b[0m\u001b[0m\n\u001b[0m\u001b[1;32m    897\u001b[0m \u001b[0;34m\u001b[0m\u001b[0m\n\u001b[1;32m    898\u001b[0m   \u001b[0;32mdef\u001b[0m \u001b[0m_from_components\u001b[0m\u001b[0;34m(\u001b[0m\u001b[0mself\u001b[0m\u001b[0;34m,\u001b[0m \u001b[0mcomponents\u001b[0m\u001b[0;34m)\u001b[0m\u001b[0;34m:\u001b[0m\u001b[0;34m\u001b[0m\u001b[0;34m\u001b[0m\u001b[0m\n",
      "\u001b[0;31mKeyboardInterrupt\u001b[0m: "
     ]
    }
   ],
   "source": [
    "from time import time\n",
    "\n",
    "batch_size = [512, 1024, 2048, 4096, 8192, 16384, 32768]\n",
    "epochs = [10, 20, 50]\n",
    "\n",
    "X_train = model_cols_data\n",
    "y_train = dummy_y\n",
    "cv_scores = []\n",
    "t0 = time()\n",
    "for bs in batch_size:\n",
    "    for ep in epochs:\n",
    "        tr_scores = []\n",
    "        te_scores = []\n",
    "        print(\"\\n\")\n",
    "        print(\"|\"*80)\n",
    "        print(\"\\nbatch_size: {} epochs: {}\".format(bs, ep))\n",
    "        for j, (train_idx, val_idx) in enumerate(kfolds):\n",
    "            print('\\nFold ',j)\n",
    "            X_train_cv = X_train.loc[train_idx, :]\n",
    "            y_train_cv = y_train[train_idx]\n",
    "            X_valid_cv = X_train.loc[val_idx, :]\n",
    "            y_valid_cv= y_train[val_idx]\n",
    "            ss = StandardScaler()\n",
    "            X_train_cv = ss.fit_transform(X_train_cv)\n",
    "            X_valid_cv = ss.transform(X_valid_cv)\n",
    "            model = get_model()\n",
    "            model.fit(X_train_cv, y_train_cv, epochs = ep, batch_size = bs, validation_data = (X_valid_cv, y_valid_cv), verbose=0)\n",
    "            tr_scores.append(model.evaluate(X_train_cv, y_train_cv)[-1])\n",
    "            te_scores.append(model.evaluate(X_valid_cv, y_valid_cv)[-1])\n",
    "        cv_scores.append({\n",
    "            \"batch_size\":bs,\n",
    "            \"epochs\":ep,\n",
    "            \"train_score\": sum(tr_scores)/len(tr_scores),\n",
    "            \"test_score\": sum(te_scores)/len(te_scores),\n",
    "        })\n",
    "\n"
   ]
  },
  {
   "cell_type": "code",
   "execution_count": null,
   "metadata": {
    "ExecuteTime": {
     "end_time": "2020-10-03T15:00:04.638552Z",
     "start_time": "2020-10-03T15:00:01.352Z"
    },
    "hidden": true,
    "scrolled": true
   },
   "outputs": [],
   "source": [
    "cv_scores"
   ]
  },
  {
   "cell_type": "code",
   "execution_count": 24,
   "metadata": {
    "ExecuteTime": {
     "end_time": "2020-10-03T15:00:06.627160Z",
     "start_time": "2020-10-03T15:00:06.612701Z"
    },
    "collapsed": true,
    "hidden": true
   },
   "outputs": [
    {
     "ename": "ValueError",
     "evalue": "max() arg is an empty sequence",
     "output_type": "error",
     "traceback": [
      "\u001b[0;31m---------------------------------------------------------------------------\u001b[0m",
      "\u001b[0;31mValueError\u001b[0m                                Traceback (most recent call last)",
      "\u001b[0;32m<ipython-input-24-1a6de700cab7>\u001b[0m in \u001b[0;36m<module>\u001b[0;34m\u001b[0m\n\u001b[0;32m----> 1\u001b[0;31m \u001b[0mmax\u001b[0m\u001b[0;34m(\u001b[0m\u001b[0;34m[\u001b[0m\u001b[0mi\u001b[0m\u001b[0;34m[\u001b[0m\u001b[0;34m\"test_score\"\u001b[0m\u001b[0;34m]\u001b[0m \u001b[0;32mfor\u001b[0m \u001b[0mi\u001b[0m \u001b[0;32min\u001b[0m \u001b[0mcv_scores\u001b[0m\u001b[0;34m]\u001b[0m\u001b[0;34m)\u001b[0m\u001b[0;34m\u001b[0m\u001b[0;34m\u001b[0m\u001b[0m\n\u001b[0m",
      "\u001b[0;31mValueError\u001b[0m: max() arg is an empty sequence"
     ]
    }
   ],
   "source": [
    "max([i[\"test_score\"] for i in cv_scores])"
   ]
  },
  {
   "cell_type": "code",
   "execution_count": 25,
   "metadata": {
    "ExecuteTime": {
     "end_time": "2020-10-03T15:00:06.975679Z",
     "start_time": "2020-10-03T15:00:06.972530Z"
    },
    "hidden": true
   },
   "outputs": [
    {
     "data": {
      "text/plain": [
       "({'batch_size': 512,\n",
       "  'epochs': 50,\n",
       "  'train_score': 0.7758227586746216,\n",
       "  'test_score': 0.5248038798570633},)"
      ]
     },
     "execution_count": 25,
     "metadata": {},
     "output_type": "execute_result"
    }
   ],
   "source": [
    "{'batch_size': 512,\n",
    "  'epochs': 50,\n",
    "  'train_score': 0.7758227586746216,\n",
    "  'test_score': 0.5248038798570633},"
   ]
  },
  {
   "cell_type": "markdown",
   "metadata": {
    "heading_collapsed": true,
    "hidden": true
   },
   "source": [
    "#### Perform a Grid Search for Dropout and number of neurons in hidden layer"
   ]
  },
  {
   "cell_type": "code",
   "execution_count": 26,
   "metadata": {
    "ExecuteTime": {
     "end_time": "2020-10-03T15:00:09.285965Z",
     "start_time": "2020-10-03T15:00:09.282141Z"
    },
    "hidden": true
   },
   "outputs": [],
   "source": [
    "def get_model(hs, dp):\n",
    "    # create model\n",
    "    model = Sequential()\n",
    "    model.add(Dense(hs, input_dim=model_cols_train_data.shape[1], activation='relu'))\n",
    "    model.add(Dropout(dp))\n",
    "    model.add(Dense(3, activation='softmax'))\n",
    "    model.compile(loss='categorical_crossentropy', optimizer='rmsprop', \n",
    "                  metrics=[tfa.metrics.F1Score(num_classes=3, average=\"macro\")]\n",
    "                 )\n",
    "    return model\n"
   ]
  },
  {
   "cell_type": "code",
   "execution_count": 29,
   "metadata": {
    "ExecuteTime": {
     "end_time": "2020-10-03T15:41:41.987030Z",
     "start_time": "2020-10-03T15:41:20.571181Z"
    },
    "hidden": true,
    "scrolled": true
   },
   "outputs": [
    {
     "name": "stdout",
     "output_type": "stream",
     "text": [
      "\n",
      "\n",
      "||||||||||||||||||||||||||||||||||||||||||||||||||||||||||||||||||||||||||||||||\n",
      "\n",
      "hidden_layer: 50 dropout: 0.05\n",
      "\n",
      "Fold  0\n",
      "2395/2395 [==============================] - 1s 470us/step - loss: 0.0470 - f1_score: 0.5439\n",
      "267/267 [==============================] - 0s 478us/step - loss: 0.0536 - f1_score: 0.4250\n",
      "\n",
      "Fold  1\n",
      "2395/2395 [==============================] - 1s 472us/step - loss: 0.0452 - f1_score: 0.6094\n",
      "267/267 [==============================] - 0s 485us/step - loss: 0.0554 - f1_score: 0.4157\n",
      "\n",
      "Fold  2\n",
      "2395/2395 [==============================] - 1s 482us/step - loss: 0.0464 - f1_score: 0.6170\n",
      "267/267 [==============================] - 0s 452us/step - loss: 0.0519 - f1_score: 0.5676\n",
      "\n",
      "Fold  3\n"
     ]
    },
    {
     "ename": "KeyboardInterrupt",
     "evalue": "",
     "output_type": "error",
     "traceback": [
      "\u001b[0;31m---------------------------------------------------------------------------\u001b[0m",
      "\u001b[0;31mKeyboardInterrupt\u001b[0m                         Traceback (most recent call last)",
      "\u001b[0;32m<ipython-input-29-a7fa0dce19b8>\u001b[0m in \u001b[0;36m<module>\u001b[0;34m\u001b[0m\n\u001b[1;32m     21\u001b[0m             \u001b[0my_valid_cv\u001b[0m\u001b[0;34m=\u001b[0m \u001b[0my_train\u001b[0m\u001b[0;34m[\u001b[0m\u001b[0mval_idx\u001b[0m\u001b[0;34m]\u001b[0m\u001b[0;34m\u001b[0m\u001b[0;34m\u001b[0m\u001b[0m\n\u001b[1;32m     22\u001b[0m             \u001b[0mss\u001b[0m \u001b[0;34m=\u001b[0m \u001b[0mStandardScaler\u001b[0m\u001b[0;34m(\u001b[0m\u001b[0;34m)\u001b[0m\u001b[0;34m\u001b[0m\u001b[0;34m\u001b[0m\u001b[0m\n\u001b[0;32m---> 23\u001b[0;31m             \u001b[0mX_train_cv\u001b[0m \u001b[0;34m=\u001b[0m \u001b[0mss\u001b[0m\u001b[0;34m.\u001b[0m\u001b[0mfit_transform\u001b[0m\u001b[0;34m(\u001b[0m\u001b[0mX_train_cv\u001b[0m\u001b[0;34m)\u001b[0m\u001b[0;34m\u001b[0m\u001b[0;34m\u001b[0m\u001b[0m\n\u001b[0m\u001b[1;32m     24\u001b[0m             \u001b[0mX_valid_cv\u001b[0m \u001b[0;34m=\u001b[0m \u001b[0mss\u001b[0m\u001b[0;34m.\u001b[0m\u001b[0mtransform\u001b[0m\u001b[0;34m(\u001b[0m\u001b[0mX_valid_cv\u001b[0m\u001b[0;34m)\u001b[0m\u001b[0;34m\u001b[0m\u001b[0;34m\u001b[0m\u001b[0m\n\u001b[1;32m     25\u001b[0m             \u001b[0mmodel\u001b[0m \u001b[0;34m=\u001b[0m \u001b[0mget_model\u001b[0m\u001b[0;34m(\u001b[0m\u001b[0mhs\u001b[0m\u001b[0;34m,\u001b[0m \u001b[0mdp\u001b[0m\u001b[0;34m)\u001b[0m\u001b[0;34m\u001b[0m\u001b[0;34m\u001b[0m\u001b[0m\n",
      "\u001b[0;32m~/anaconda3/lib/python3.7/site-packages/sklearn/base.py\u001b[0m in \u001b[0;36mfit_transform\u001b[0;34m(self, X, y, **fit_params)\u001b[0m\n\u001b[1;32m    551\u001b[0m         \u001b[0;32mif\u001b[0m \u001b[0my\u001b[0m \u001b[0;32mis\u001b[0m \u001b[0;32mNone\u001b[0m\u001b[0;34m:\u001b[0m\u001b[0;34m\u001b[0m\u001b[0;34m\u001b[0m\u001b[0m\n\u001b[1;32m    552\u001b[0m             \u001b[0;31m# fit method of arity 1 (unsupervised transformation)\u001b[0m\u001b[0;34m\u001b[0m\u001b[0;34m\u001b[0m\u001b[0;34m\u001b[0m\u001b[0m\n\u001b[0;32m--> 553\u001b[0;31m             \u001b[0;32mreturn\u001b[0m \u001b[0mself\u001b[0m\u001b[0;34m.\u001b[0m\u001b[0mfit\u001b[0m\u001b[0;34m(\u001b[0m\u001b[0mX\u001b[0m\u001b[0;34m,\u001b[0m \u001b[0;34m**\u001b[0m\u001b[0mfit_params\u001b[0m\u001b[0;34m)\u001b[0m\u001b[0;34m.\u001b[0m\u001b[0mtransform\u001b[0m\u001b[0;34m(\u001b[0m\u001b[0mX\u001b[0m\u001b[0;34m)\u001b[0m\u001b[0;34m\u001b[0m\u001b[0;34m\u001b[0m\u001b[0m\n\u001b[0m\u001b[1;32m    554\u001b[0m         \u001b[0;32melse\u001b[0m\u001b[0;34m:\u001b[0m\u001b[0;34m\u001b[0m\u001b[0;34m\u001b[0m\u001b[0m\n\u001b[1;32m    555\u001b[0m             \u001b[0;31m# fit method of arity 2 (supervised transformation)\u001b[0m\u001b[0;34m\u001b[0m\u001b[0;34m\u001b[0m\u001b[0;34m\u001b[0m\u001b[0m\n",
      "\u001b[0;32m~/anaconda3/lib/python3.7/site-packages/sklearn/preprocessing/data.py\u001b[0m in \u001b[0;36mfit\u001b[0;34m(self, X, y)\u001b[0m\n\u001b[1;32m    637\u001b[0m         \u001b[0;31m# Reset internal state before fitting\u001b[0m\u001b[0;34m\u001b[0m\u001b[0;34m\u001b[0m\u001b[0;34m\u001b[0m\u001b[0m\n\u001b[1;32m    638\u001b[0m         \u001b[0mself\u001b[0m\u001b[0;34m.\u001b[0m\u001b[0m_reset\u001b[0m\u001b[0;34m(\u001b[0m\u001b[0;34m)\u001b[0m\u001b[0;34m\u001b[0m\u001b[0;34m\u001b[0m\u001b[0m\n\u001b[0;32m--> 639\u001b[0;31m         \u001b[0;32mreturn\u001b[0m \u001b[0mself\u001b[0m\u001b[0;34m.\u001b[0m\u001b[0mpartial_fit\u001b[0m\u001b[0;34m(\u001b[0m\u001b[0mX\u001b[0m\u001b[0;34m,\u001b[0m \u001b[0my\u001b[0m\u001b[0;34m)\u001b[0m\u001b[0;34m\u001b[0m\u001b[0;34m\u001b[0m\u001b[0m\n\u001b[0m\u001b[1;32m    640\u001b[0m \u001b[0;34m\u001b[0m\u001b[0m\n\u001b[1;32m    641\u001b[0m     \u001b[0;32mdef\u001b[0m \u001b[0mpartial_fit\u001b[0m\u001b[0;34m(\u001b[0m\u001b[0mself\u001b[0m\u001b[0;34m,\u001b[0m \u001b[0mX\u001b[0m\u001b[0;34m,\u001b[0m \u001b[0my\u001b[0m\u001b[0;34m=\u001b[0m\u001b[0;32mNone\u001b[0m\u001b[0;34m)\u001b[0m\u001b[0;34m:\u001b[0m\u001b[0;34m\u001b[0m\u001b[0;34m\u001b[0m\u001b[0m\n",
      "\u001b[0;32m~/anaconda3/lib/python3.7/site-packages/sklearn/preprocessing/data.py\u001b[0m in \u001b[0;36mpartial_fit\u001b[0;34m(self, X, y)\u001b[0m\n\u001b[1;32m    661\u001b[0m         X = check_array(X, accept_sparse=('csr', 'csc'), copy=self.copy,\n\u001b[1;32m    662\u001b[0m                         \u001b[0mestimator\u001b[0m\u001b[0;34m=\u001b[0m\u001b[0mself\u001b[0m\u001b[0;34m,\u001b[0m \u001b[0mdtype\u001b[0m\u001b[0;34m=\u001b[0m\u001b[0mFLOAT_DTYPES\u001b[0m\u001b[0;34m,\u001b[0m\u001b[0;34m\u001b[0m\u001b[0;34m\u001b[0m\u001b[0m\n\u001b[0;32m--> 663\u001b[0;31m                         force_all_finite='allow-nan')\n\u001b[0m\u001b[1;32m    664\u001b[0m \u001b[0;34m\u001b[0m\u001b[0m\n\u001b[1;32m    665\u001b[0m         \u001b[0;31m# Even in the case of `with_mean=False`, we update the mean anyway\u001b[0m\u001b[0;34m\u001b[0m\u001b[0;34m\u001b[0m\u001b[0;34m\u001b[0m\u001b[0m\n",
      "\u001b[0;32m~/anaconda3/lib/python3.7/site-packages/sklearn/utils/validation.py\u001b[0m in \u001b[0;36mcheck_array\u001b[0;34m(array, accept_sparse, accept_large_sparse, dtype, order, copy, force_all_finite, ensure_2d, allow_nd, ensure_min_samples, ensure_min_features, warn_on_dtype, estimator)\u001b[0m\n\u001b[1;32m    494\u001b[0m             \u001b[0;32mtry\u001b[0m\u001b[0;34m:\u001b[0m\u001b[0;34m\u001b[0m\u001b[0;34m\u001b[0m\u001b[0m\n\u001b[1;32m    495\u001b[0m                 \u001b[0mwarnings\u001b[0m\u001b[0;34m.\u001b[0m\u001b[0msimplefilter\u001b[0m\u001b[0;34m(\u001b[0m\u001b[0;34m'error'\u001b[0m\u001b[0;34m,\u001b[0m \u001b[0mComplexWarning\u001b[0m\u001b[0;34m)\u001b[0m\u001b[0;34m\u001b[0m\u001b[0;34m\u001b[0m\u001b[0m\n\u001b[0;32m--> 496\u001b[0;31m                 \u001b[0marray\u001b[0m \u001b[0;34m=\u001b[0m \u001b[0mnp\u001b[0m\u001b[0;34m.\u001b[0m\u001b[0masarray\u001b[0m\u001b[0;34m(\u001b[0m\u001b[0marray\u001b[0m\u001b[0;34m,\u001b[0m \u001b[0mdtype\u001b[0m\u001b[0;34m=\u001b[0m\u001b[0mdtype\u001b[0m\u001b[0;34m,\u001b[0m \u001b[0morder\u001b[0m\u001b[0;34m=\u001b[0m\u001b[0morder\u001b[0m\u001b[0;34m)\u001b[0m\u001b[0;34m\u001b[0m\u001b[0;34m\u001b[0m\u001b[0m\n\u001b[0m\u001b[1;32m    497\u001b[0m             \u001b[0;32mexcept\u001b[0m \u001b[0mComplexWarning\u001b[0m\u001b[0;34m:\u001b[0m\u001b[0;34m\u001b[0m\u001b[0;34m\u001b[0m\u001b[0m\n\u001b[1;32m    498\u001b[0m                 raise ValueError(\"Complex data not supported\\n\"\n",
      "\u001b[0;32m~/anaconda3/lib/python3.7/site-packages/numpy/core/_asarray.py\u001b[0m in \u001b[0;36masarray\u001b[0;34m(a, dtype, order)\u001b[0m\n\u001b[1;32m     83\u001b[0m \u001b[0;34m\u001b[0m\u001b[0m\n\u001b[1;32m     84\u001b[0m     \"\"\"\n\u001b[0;32m---> 85\u001b[0;31m     \u001b[0;32mreturn\u001b[0m \u001b[0marray\u001b[0m\u001b[0;34m(\u001b[0m\u001b[0ma\u001b[0m\u001b[0;34m,\u001b[0m \u001b[0mdtype\u001b[0m\u001b[0;34m,\u001b[0m \u001b[0mcopy\u001b[0m\u001b[0;34m=\u001b[0m\u001b[0;32mFalse\u001b[0m\u001b[0;34m,\u001b[0m \u001b[0morder\u001b[0m\u001b[0;34m=\u001b[0m\u001b[0morder\u001b[0m\u001b[0;34m)\u001b[0m\u001b[0;34m\u001b[0m\u001b[0;34m\u001b[0m\u001b[0m\n\u001b[0m\u001b[1;32m     86\u001b[0m \u001b[0;34m\u001b[0m\u001b[0m\n\u001b[1;32m     87\u001b[0m \u001b[0;34m\u001b[0m\u001b[0m\n",
      "\u001b[0;32m~/anaconda3/lib/python3.7/site-packages/pandas/core/generic.py\u001b[0m in \u001b[0;36m__array__\u001b[0;34m(self, dtype)\u001b[0m\n\u001b[1;32m   1907\u001b[0m \u001b[0;34m\u001b[0m\u001b[0m\n\u001b[1;32m   1908\u001b[0m     \u001b[0;32mdef\u001b[0m \u001b[0m__array__\u001b[0m\u001b[0;34m(\u001b[0m\u001b[0mself\u001b[0m\u001b[0;34m,\u001b[0m \u001b[0mdtype\u001b[0m\u001b[0;34m=\u001b[0m\u001b[0;32mNone\u001b[0m\u001b[0;34m)\u001b[0m \u001b[0;34m->\u001b[0m \u001b[0mnp\u001b[0m\u001b[0;34m.\u001b[0m\u001b[0mndarray\u001b[0m\u001b[0;34m:\u001b[0m\u001b[0;34m\u001b[0m\u001b[0;34m\u001b[0m\u001b[0m\n\u001b[0;32m-> 1909\u001b[0;31m         \u001b[0;32mreturn\u001b[0m \u001b[0mcom\u001b[0m\u001b[0;34m.\u001b[0m\u001b[0mvalues_from_object\u001b[0m\u001b[0;34m(\u001b[0m\u001b[0mself\u001b[0m\u001b[0;34m)\u001b[0m\u001b[0;34m\u001b[0m\u001b[0;34m\u001b[0m\u001b[0m\n\u001b[0m\u001b[1;32m   1910\u001b[0m \u001b[0;34m\u001b[0m\u001b[0m\n\u001b[1;32m   1911\u001b[0m     \u001b[0;32mdef\u001b[0m \u001b[0m__array_wrap__\u001b[0m\u001b[0;34m(\u001b[0m\u001b[0mself\u001b[0m\u001b[0;34m,\u001b[0m \u001b[0mresult\u001b[0m\u001b[0;34m,\u001b[0m \u001b[0mcontext\u001b[0m\u001b[0;34m=\u001b[0m\u001b[0;32mNone\u001b[0m\u001b[0;34m)\u001b[0m\u001b[0;34m:\u001b[0m\u001b[0;34m\u001b[0m\u001b[0;34m\u001b[0m\u001b[0m\n",
      "\u001b[0;32mpandas/_libs/lib.pyx\u001b[0m in \u001b[0;36mpandas._libs.lib.values_from_object\u001b[0;34m()\u001b[0m\n",
      "\u001b[0;32m~/anaconda3/lib/python3.7/site-packages/pandas/core/generic.py\u001b[0m in \u001b[0;36mvalues\u001b[0;34m(self)\u001b[0m\n\u001b[1;32m   5485\u001b[0m         \"\"\"\n\u001b[1;32m   5486\u001b[0m         \u001b[0mself\u001b[0m\u001b[0;34m.\u001b[0m\u001b[0m_consolidate_inplace\u001b[0m\u001b[0;34m(\u001b[0m\u001b[0;34m)\u001b[0m\u001b[0;34m\u001b[0m\u001b[0;34m\u001b[0m\u001b[0m\n\u001b[0;32m-> 5487\u001b[0;31m         \u001b[0;32mreturn\u001b[0m \u001b[0mself\u001b[0m\u001b[0;34m.\u001b[0m\u001b[0m_data\u001b[0m\u001b[0;34m.\u001b[0m\u001b[0mas_array\u001b[0m\u001b[0;34m(\u001b[0m\u001b[0mtranspose\u001b[0m\u001b[0;34m=\u001b[0m\u001b[0mself\u001b[0m\u001b[0;34m.\u001b[0m\u001b[0m_AXIS_REVERSED\u001b[0m\u001b[0;34m)\u001b[0m\u001b[0;34m\u001b[0m\u001b[0;34m\u001b[0m\u001b[0m\n\u001b[0m\u001b[1;32m   5488\u001b[0m \u001b[0;34m\u001b[0m\u001b[0m\n\u001b[1;32m   5489\u001b[0m     \u001b[0;34m@\u001b[0m\u001b[0mproperty\u001b[0m\u001b[0;34m\u001b[0m\u001b[0;34m\u001b[0m\u001b[0m\n",
      "\u001b[0;32m~/anaconda3/lib/python3.7/site-packages/pandas/core/internals/managers.py\u001b[0m in \u001b[0;36mas_array\u001b[0;34m(self, transpose, items)\u001b[0m\n\u001b[1;32m    828\u001b[0m             \u001b[0marr\u001b[0m \u001b[0;34m=\u001b[0m \u001b[0mnp\u001b[0m\u001b[0;34m.\u001b[0m\u001b[0masarray\u001b[0m\u001b[0;34m(\u001b[0m\u001b[0mmgr\u001b[0m\u001b[0;34m.\u001b[0m\u001b[0mblocks\u001b[0m\u001b[0;34m[\u001b[0m\u001b[0;36m0\u001b[0m\u001b[0;34m]\u001b[0m\u001b[0;34m.\u001b[0m\u001b[0mget_values\u001b[0m\u001b[0;34m(\u001b[0m\u001b[0;34m)\u001b[0m\u001b[0;34m)\u001b[0m\u001b[0;34m\u001b[0m\u001b[0;34m\u001b[0m\u001b[0m\n\u001b[1;32m    829\u001b[0m         \u001b[0;32melse\u001b[0m\u001b[0;34m:\u001b[0m\u001b[0;34m\u001b[0m\u001b[0;34m\u001b[0m\u001b[0m\n\u001b[0;32m--> 830\u001b[0;31m             \u001b[0marr\u001b[0m \u001b[0;34m=\u001b[0m \u001b[0mmgr\u001b[0m\u001b[0;34m.\u001b[0m\u001b[0m_interleave\u001b[0m\u001b[0;34m(\u001b[0m\u001b[0;34m)\u001b[0m\u001b[0;34m\u001b[0m\u001b[0;34m\u001b[0m\u001b[0m\n\u001b[0m\u001b[1;32m    831\u001b[0m \u001b[0;34m\u001b[0m\u001b[0m\n\u001b[1;32m    832\u001b[0m         \u001b[0;32mreturn\u001b[0m \u001b[0marr\u001b[0m\u001b[0;34m.\u001b[0m\u001b[0mtranspose\u001b[0m\u001b[0;34m(\u001b[0m\u001b[0;34m)\u001b[0m \u001b[0;32mif\u001b[0m \u001b[0mtranspose\u001b[0m \u001b[0;32melse\u001b[0m \u001b[0marr\u001b[0m\u001b[0;34m\u001b[0m\u001b[0;34m\u001b[0m\u001b[0m\n",
      "\u001b[0;32m~/anaconda3/lib/python3.7/site-packages/pandas/core/internals/managers.py\u001b[0m in \u001b[0;36m_interleave\u001b[0;34m(self)\u001b[0m\n\u001b[1;32m    852\u001b[0m         \u001b[0;32mfor\u001b[0m \u001b[0mblk\u001b[0m \u001b[0;32min\u001b[0m \u001b[0mself\u001b[0m\u001b[0;34m.\u001b[0m\u001b[0mblocks\u001b[0m\u001b[0;34m:\u001b[0m\u001b[0;34m\u001b[0m\u001b[0;34m\u001b[0m\u001b[0m\n\u001b[1;32m    853\u001b[0m             \u001b[0mrl\u001b[0m \u001b[0;34m=\u001b[0m \u001b[0mblk\u001b[0m\u001b[0;34m.\u001b[0m\u001b[0mmgr_locs\u001b[0m\u001b[0;34m\u001b[0m\u001b[0;34m\u001b[0m\u001b[0m\n\u001b[0;32m--> 854\u001b[0;31m             \u001b[0mresult\u001b[0m\u001b[0;34m[\u001b[0m\u001b[0mrl\u001b[0m\u001b[0;34m.\u001b[0m\u001b[0mindexer\u001b[0m\u001b[0;34m]\u001b[0m \u001b[0;34m=\u001b[0m \u001b[0mblk\u001b[0m\u001b[0;34m.\u001b[0m\u001b[0mget_values\u001b[0m\u001b[0;34m(\u001b[0m\u001b[0mdtype\u001b[0m\u001b[0;34m)\u001b[0m\u001b[0;34m\u001b[0m\u001b[0;34m\u001b[0m\u001b[0m\n\u001b[0m\u001b[1;32m    855\u001b[0m             \u001b[0mitemmask\u001b[0m\u001b[0;34m[\u001b[0m\u001b[0mrl\u001b[0m\u001b[0;34m.\u001b[0m\u001b[0mindexer\u001b[0m\u001b[0;34m]\u001b[0m \u001b[0;34m=\u001b[0m \u001b[0;36m1\u001b[0m\u001b[0;34m\u001b[0m\u001b[0;34m\u001b[0m\u001b[0m\n\u001b[1;32m    856\u001b[0m \u001b[0;34m\u001b[0m\u001b[0m\n",
      "\u001b[0;32m~/anaconda3/lib/python3.7/site-packages/pandas/core/internals/blocks.py\u001b[0m in \u001b[0;36mget_values\u001b[0;34m(self, dtype)\u001b[0m\n\u001b[1;32m    229\u001b[0m         \"\"\"\n\u001b[1;32m    230\u001b[0m         \u001b[0;32mif\u001b[0m \u001b[0mis_object_dtype\u001b[0m\u001b[0;34m(\u001b[0m\u001b[0mdtype\u001b[0m\u001b[0;34m)\u001b[0m\u001b[0;34m:\u001b[0m\u001b[0;34m\u001b[0m\u001b[0;34m\u001b[0m\u001b[0m\n\u001b[0;32m--> 231\u001b[0;31m             \u001b[0;32mreturn\u001b[0m \u001b[0mself\u001b[0m\u001b[0;34m.\u001b[0m\u001b[0mvalues\u001b[0m\u001b[0;34m.\u001b[0m\u001b[0mastype\u001b[0m\u001b[0;34m(\u001b[0m\u001b[0mobject\u001b[0m\u001b[0;34m)\u001b[0m\u001b[0;34m\u001b[0m\u001b[0;34m\u001b[0m\u001b[0m\n\u001b[0m\u001b[1;32m    232\u001b[0m         \u001b[0;32mreturn\u001b[0m \u001b[0mself\u001b[0m\u001b[0;34m.\u001b[0m\u001b[0mvalues\u001b[0m\u001b[0;34m\u001b[0m\u001b[0;34m\u001b[0m\u001b[0m\n\u001b[1;32m    233\u001b[0m \u001b[0;34m\u001b[0m\u001b[0m\n",
      "\u001b[0;31mKeyboardInterrupt\u001b[0m: "
     ]
    }
   ],
   "source": [
    "from time import time\n",
    "\n",
    "hl_size = list(range(50, 501, 50))\n",
    "drop_outs = [i/100 for i in range(5, 26, 5)]\n",
    "X_train = model_cols_data\n",
    "y_train = dummy_y\n",
    "cv_scores = []\n",
    "t0 = time()\n",
    "for hs in hl_size:\n",
    "    for dp in drop_outs:\n",
    "        tr_scores = []\n",
    "        te_scores = []\n",
    "        print(\"\\n\")\n",
    "        print(\"|\"*80)\n",
    "        print(\"\\nhidden_layer: {} dropout: {}\".format(hs, dp))\n",
    "        for j, (train_idx, val_idx) in enumerate(kfolds):\n",
    "            print('\\nFold ',j)\n",
    "            X_train_cv = X_train.loc[train_idx, :]\n",
    "            y_train_cv = y_train[train_idx]\n",
    "            X_valid_cv = X_train.loc[val_idx, :]\n",
    "            y_valid_cv= y_train[val_idx]\n",
    "            ss = StandardScaler()\n",
    "            X_train_cv = ss.fit_transform(X_train_cv)\n",
    "            X_valid_cv = ss.transform(X_valid_cv)\n",
    "            model = get_model(hs, dp)\n",
    "            model.fit(X_train_cv, y_train_cv, epochs = 10, batch_size = 1024, validation_data = (X_valid_cv, y_valid_cv), verbose=0)\n",
    "            tr_scores.append(model.evaluate(X_train_cv, y_train_cv)[-1])\n",
    "            te_scores.append(model.evaluate(X_valid_cv, y_valid_cv)[-1])\n",
    "        cv_scores.append({\n",
    "            \"layer_size\":hs,\n",
    "            \"dropout\":dp,\n",
    "            \"train_score\": sum(tr_scores)/len(tr_scores),\n",
    "            \"test_score\": sum(te_scores)/len(te_scores),\n",
    "        })\n",
    "\n"
   ]
  },
  {
   "cell_type": "code",
   "execution_count": null,
   "metadata": {
    "ExecuteTime": {
     "start_time": "2020-10-03T09:07:43.233Z"
    },
    "hidden": true
   },
   "outputs": [],
   "source": [
    "cv_scores"
   ]
  },
  {
   "cell_type": "code",
   "execution_count": 15,
   "metadata": {
    "ExecuteTime": {
     "end_time": "2020-10-03T14:59:31.966786Z",
     "start_time": "2020-10-03T14:59:31.963096Z"
    },
    "hidden": true
   },
   "outputs": [
    {
     "data": {
      "text/plain": [
       "40"
      ]
     },
     "execution_count": 15,
     "metadata": {},
     "output_type": "execute_result"
    }
   ],
   "source": [
    "hl_size = list(range(50, 501, 50))\n",
    "drop_outs = [i/100 for i in range(5, 21, 5)]\n",
    "len(drop_outs)*len(hl_size)"
   ]
  },
  {
   "cell_type": "markdown",
   "metadata": {},
   "source": [
    "### Oversampling"
   ]
  },
  {
   "cell_type": "markdown",
   "metadata": {},
   "source": [
    "#### Modify oversampling classes"
   ]
  },
  {
   "cell_type": "code",
   "execution_count": 11,
   "metadata": {
    "ExecuteTime": {
     "end_time": "2020-10-04T17:06:29.835318Z",
     "start_time": "2020-10-04T17:06:29.758571Z"
    }
   },
   "outputs": [],
   "source": [
    "from imblearn.over_sampling import SMOTE, RandomOverSampler, ADASYN, BorderlineSMOTE\n",
    "import inspect, sys, json\n",
    "from six import iteritems, string_types, integer_types\n",
    "\n",
    "class ModRandomOverSampler(RandomOverSampler):\n",
    "    def set_params(self, **params):\n",
    "        params = locals()['params']\n",
    "        params = {k:params[k] for k in params if k not in ['self']}\n",
    "        print(params)\n",
    "        if \"zeros\" in params:\n",
    "            sampling_strategy = {0:params[\"zeros\"], 1:params[\"ones\"], 2:params[\"twos\"]}\n",
    "            del params[\"zeros\"], params[\"ones\"], params[\"twos\"]\n",
    "            params['sampling_strategy'] = sampling_strategy\n",
    "        with open(\"mos_ros_file.txt\", \"a\") as f:\n",
    "            for item in list(params.keys()):\n",
    "                f.write(\"\\n\\n ModROS params\")\n",
    "                f.write(\"{}: {}\\n\".format(item, params[item]))\n",
    "        return super().set_params(**params)\n",
    "        \n"
   ]
  },
  {
   "cell_type": "markdown",
   "metadata": {},
   "source": [
    "#### Oversampling Strategy"
   ]
  },
  {
   "cell_type": "markdown",
   "metadata": {},
   "source": [
    "We have tried a few different approaches to get a good model fit. The last remaining measure I want to implement is Oversampling. By oversampling the minority classes, we may get an improvement on the model fit. \n",
    "\n",
    "I'll be using methods from the `imbalanced-learn` module to do this. Since we have three classes in our target column, we need to decide what the resampled distribution of the classes will look like. Lets begin by looking at our current distribution"
   ]
  },
  {
   "cell_type": "code",
   "execution_count": 14,
   "metadata": {
    "ExecuteTime": {
     "end_time": "2020-10-04T05:28:35.703801Z",
     "start_time": "2020-10-04T05:28:35.697526Z"
    }
   },
   "outputs": [
    {
     "data": {
      "text/plain": [
       "0    98.491931\n",
       "1     1.411759\n",
       "2     0.096310\n",
       "Name: fraud_flag, dtype: float64"
      ]
     },
     "execution_count": 14,
     "metadata": {},
     "output_type": "execute_result"
    }
   ],
   "source": [
    "model_cols_labels.fraud_flag.value_counts()*100/model_cols_labels.shape[0]"
   ]
  },
  {
   "cell_type": "markdown",
   "metadata": {},
   "source": [
    "With ones below 1.5 percent and twos below 0.1 percent, I will be resampling these classes to be 10 and 5 percent. For each fold (fraction=0.2), assuming stratified sampling, we'll get 240 cases of ones and 16 cases of twos and 67k cases of zeros. "
   ]
  },
  {
   "cell_type": "markdown",
   "metadata": {},
   "source": [
    "$$67086/(67086+960*x+65*y) = 0.85$$\n",
    "\n",
    "$$960*x/(67086+960*x+65*y) = 0.1$$\n",
    "\n",
    "$$65*y/(67086+960*x+65*y) = 0.05$$\n",
    "\n",
    "$$x = 8.221$$\n",
    "$$y = 60.773$$"
   ]
  },
  {
   "cell_type": "markdown",
   "metadata": {},
   "source": [
    "#### Data Preparation"
   ]
  },
  {
   "cell_type": "code",
   "execution_count": 12,
   "metadata": {
    "ExecuteTime": {
     "end_time": "2020-10-04T17:06:30.661016Z",
     "start_time": "2020-10-04T17:06:29.837528Z"
    }
   },
   "outputs": [
    {
     "data": {
      "text/plain": [
       "(76627, 165)"
      ]
     },
     "execution_count": 12,
     "metadata": {},
     "output_type": "execute_result"
    }
   ],
   "source": [
    "target_col = \"fraud_flag\"\n",
    "model_cols = acceptable_null_cols\n",
    "keep_index = mds_[model_cols].dropna().index\n",
    "model_cols_data = mds_.loc[keep_index, model_cols].reset_index().drop(\"index\", axis=1)\n",
    "model_cols_labels = mds_.loc[keep_index, target_col].reset_index().drop(\"index\", axis=1)\n",
    "model_cols_labels.fraud_flag = model_cols_labels.fraud_flag.astype(int)\n",
    "train_index_frac = 0.9\n",
    "model_cols_train_index_limit = int(train_index_frac*model_cols_data.shape[0])\n",
    "model_cols_train_data = model_cols_data[:model_cols_train_index_limit]\n",
    "model_cols_train_labels = model_cols_labels[:model_cols_train_index_limit]\n",
    "model_cols_test_data = model_cols_data[model_cols_train_index_limit:]\n",
    "model_cols_test_labels = model_cols_labels[model_cols_train_index_limit:]\n",
    "model_cols_train_data.shape"
   ]
  },
  {
   "cell_type": "code",
   "execution_count": 13,
   "metadata": {
    "ExecuteTime": {
     "end_time": "2020-10-04T17:06:30.697844Z",
     "start_time": "2020-10-04T17:06:30.668401Z"
    }
   },
   "outputs": [],
   "source": [
    "resampled_zeros = 67090\n",
    "resampled_ones = 7892\n",
    "resampled_twos = 3947\n",
    "# resampled_zeros/(resampled_zeros+resampled_ones+resampled_twos)"
   ]
  },
  {
   "cell_type": "code",
   "execution_count": 14,
   "metadata": {
    "ExecuteTime": {
     "end_time": "2020-10-04T17:06:30.962940Z",
     "start_time": "2020-10-04T17:06:30.702118Z"
    },
    "collapsed": true
   },
   "outputs": [
    {
     "ename": "NameError",
     "evalue": "name 'StratifiedKFold' is not defined",
     "output_type": "error",
     "traceback": [
      "\u001b[0;31m---------------------------------------------------------------------------\u001b[0m",
      "\u001b[0;31mNameError\u001b[0m                                 Traceback (most recent call last)",
      "\u001b[0;32m<ipython-input-14-fc503d71ee92>\u001b[0m in \u001b[0;36m<module>\u001b[0;34m\u001b[0m\n\u001b[0;32m----> 1\u001b[0;31m \u001b[0mkfolds\u001b[0m \u001b[0;34m=\u001b[0m \u001b[0mlist\u001b[0m\u001b[0;34m(\u001b[0m\u001b[0mStratifiedKFold\u001b[0m\u001b[0;34m(\u001b[0m\u001b[0mn_splits\u001b[0m\u001b[0;34m=\u001b[0m\u001b[0;36m5\u001b[0m\u001b[0;34m,\u001b[0m \u001b[0mshuffle\u001b[0m\u001b[0;34m=\u001b[0m\u001b[0;32mTrue\u001b[0m\u001b[0;34m)\u001b[0m\u001b[0;34m.\u001b[0m\u001b[0msplit\u001b[0m\u001b[0;34m(\u001b[0m\u001b[0mmodel_cols_data\u001b[0m\u001b[0;34m,\u001b[0m \u001b[0mmodel_cols_labels\u001b[0m\u001b[0;34m)\u001b[0m\u001b[0;34m)\u001b[0m\u001b[0;34m\u001b[0m\u001b[0;34m\u001b[0m\u001b[0m\n\u001b[0m",
      "\u001b[0;31mNameError\u001b[0m: name 'StratifiedKFold' is not defined"
     ]
    }
   ],
   "source": [
    "kfolds = list(StratifiedKFold(n_splits=5, shuffle=True).split(model_cols_data, model_cols_labels))"
   ]
  },
  {
   "cell_type": "markdown",
   "metadata": {},
   "source": [
    "#### CatBoost on oversampled data"
   ]
  },
  {
   "cell_type": "markdown",
   "metadata": {},
   "source": [
    "##### Random oversampling"
   ]
  },
  {
   "cell_type": "markdown",
   "metadata": {
    "heading_collapsed": true
   },
   "source": [
    "###### Without tuning"
   ]
  },
  {
   "cell_type": "code",
   "execution_count": 82,
   "metadata": {
    "ExecuteTime": {
     "end_time": "2020-10-03T19:55:35.795174Z",
     "start_time": "2020-10-03T19:50:32.768979Z"
    },
    "hidden": true,
    "scrolled": true
   },
   "outputs": [
    {
     "name": "stdout",
     "output_type": "stream",
     "text": [
      "\n",
      "Fold  0\n"
     ]
    },
    {
     "name": "stderr",
     "output_type": "stream",
     "text": [
      "/home/ubuntu/anaconda3/lib/python3.7/site-packages/imblearn/utils/_validation.py:326: UserWarning: After over-sampling, the number of samples (67090) in class 0 will be larger than the number of samples in the majority class (class #0 -> 67086)\n",
      "  n_samples_majority,\n",
      "/home/ubuntu/anaconda3/lib/python3.7/site-packages/sklearn/utils/validation.py:70: FutureWarning: Pass classes=[0 1 2], y=0        0\n",
      "1        0\n",
      "2        0\n",
      "3        0\n",
      "4        0\n",
      "        ..\n",
      "78924    2\n",
      "78925    2\n",
      "78926    2\n",
      "78927    2\n",
      "78928    2\n",
      "Name: fraud_flag, Length: 78929, dtype: int64 as keyword args. From version 0.25 passing these as positional arguments will result in an error\n",
      "  FutureWarning)\n"
     ]
    },
    {
     "name": "stdout",
     "output_type": "stream",
     "text": [
      "0.9819712711722679\n",
      "0.5770395447134515\n",
      "\n",
      "Fold  1\n"
     ]
    },
    {
     "name": "stderr",
     "output_type": "stream",
     "text": [
      "/home/ubuntu/anaconda3/lib/python3.7/site-packages/imblearn/utils/_validation.py:326: UserWarning: After over-sampling, the number of samples (67090) in class 0 will be larger than the number of samples in the majority class (class #0 -> 67086)\n",
      "  n_samples_majority,\n",
      "/home/ubuntu/anaconda3/lib/python3.7/site-packages/sklearn/utils/validation.py:70: FutureWarning: Pass classes=[0 1 2], y=0        0\n",
      "1        0\n",
      "2        0\n",
      "3        0\n",
      "4        0\n",
      "        ..\n",
      "78924    2\n",
      "78925    2\n",
      "78926    2\n",
      "78927    2\n",
      "78928    2\n",
      "Name: fraud_flag, Length: 78929, dtype: int64 as keyword args. From version 0.25 passing these as positional arguments will result in an error\n",
      "  FutureWarning)\n"
     ]
    },
    {
     "name": "stdout",
     "output_type": "stream",
     "text": [
      "0.982889011585038\n",
      "0.5872160268442966\n",
      "\n",
      "Fold  2\n"
     ]
    },
    {
     "name": "stderr",
     "output_type": "stream",
     "text": [
      "/home/ubuntu/anaconda3/lib/python3.7/site-packages/imblearn/utils/_validation.py:326: UserWarning: After over-sampling, the number of samples (67090) in class 0 will be larger than the number of samples in the majority class (class #0 -> 67086)\n",
      "  n_samples_majority,\n",
      "/home/ubuntu/anaconda3/lib/python3.7/site-packages/sklearn/utils/validation.py:70: FutureWarning: Pass classes=[0 1 2], y=0        0\n",
      "1        0\n",
      "2        0\n",
      "3        0\n",
      "4        0\n",
      "        ..\n",
      "78924    2\n",
      "78925    2\n",
      "78926    2\n",
      "78927    2\n",
      "78928    2\n",
      "Name: fraud_flag, Length: 78929, dtype: int64 as keyword args. From version 0.25 passing these as positional arguments will result in an error\n",
      "  FutureWarning)\n"
     ]
    },
    {
     "name": "stdout",
     "output_type": "stream",
     "text": [
      "0.9806562894619639\n",
      "0.5489846634891647\n",
      "\n",
      "Fold  3\n"
     ]
    },
    {
     "name": "stderr",
     "output_type": "stream",
     "text": [
      "/home/ubuntu/anaconda3/lib/python3.7/site-packages/imblearn/utils/_validation.py:326: UserWarning: After over-sampling, the number of samples (67090) in class 0 will be larger than the number of samples in the majority class (class #0 -> 67087)\n",
      "  n_samples_majority,\n",
      "/home/ubuntu/anaconda3/lib/python3.7/site-packages/sklearn/utils/validation.py:70: FutureWarning: Pass classes=[0 1 2], y=0        0\n",
      "1        0\n",
      "2        0\n",
      "3        0\n",
      "4        0\n",
      "        ..\n",
      "78924    2\n",
      "78925    2\n",
      "78926    2\n",
      "78927    2\n",
      "78928    2\n",
      "Name: fraud_flag, Length: 78929, dtype: int64 as keyword args. From version 0.25 passing these as positional arguments will result in an error\n",
      "  FutureWarning)\n"
     ]
    },
    {
     "name": "stdout",
     "output_type": "stream",
     "text": [
      "0.9845260634058546\n",
      "0.5492601443813713\n",
      "\n",
      "Fold  4\n"
     ]
    },
    {
     "name": "stderr",
     "output_type": "stream",
     "text": [
      "/home/ubuntu/anaconda3/lib/python3.7/site-packages/imblearn/utils/_validation.py:326: UserWarning: After over-sampling, the number of samples (67090) in class 0 will be larger than the number of samples in the majority class (class #0 -> 67087)\n",
      "  n_samples_majority,\n",
      "/home/ubuntu/anaconda3/lib/python3.7/site-packages/sklearn/utils/validation.py:70: FutureWarning: Pass classes=[0 1 2], y=0        0\n",
      "1        0\n",
      "2        0\n",
      "3        0\n",
      "4        0\n",
      "        ..\n",
      "78924    2\n",
      "78925    2\n",
      "78926    2\n",
      "78927    2\n",
      "78928    2\n",
      "Name: fraud_flag, Length: 78929, dtype: int64 as keyword args. From version 0.25 passing these as positional arguments will result in an error\n",
      "  FutureWarning)\n"
     ]
    },
    {
     "name": "stdout",
     "output_type": "stream",
     "text": [
      "0.9842875912183214\n",
      "0.546943302239726\n",
      "time:  303  seconds\n",
      "mean train score:  0.9828660453686892\n",
      "mean test  score:  0.561888736333602\n"
     ]
    }
   ],
   "source": [
    "from time import time\n",
    "from imblearn.over_sampling import SMOTE, RandomOverSampler, ADASYN, BorderlineSMOTE\n",
    "from sklearn.utils import class_weight\n",
    "X_train = model_cols_data\n",
    "y_train = model_cols_labels.fraud_flag\n",
    "tr_scores = []\n",
    "te_scores = []\n",
    "params = {'class_weights': [1,102.06152211981771, 292.60781818845425], 'depth': 12, \n",
    "          'iterations': 126, 'l2_leaf_reg': 10.673951271303793, 'learning_rate': 0.6294923985256603, \n",
    "          'random_strength': 6.353112028498213\n",
    "}\n",
    "# class_weights = [1, 102.06152211981771, 292.60781818845425]\n",
    "t0 = time()\n",
    "for j, (train_idx, val_idx) in enumerate(kfolds):\n",
    "    print('\\nFold ',j)\n",
    "    X_train_cv = X_train.loc[train_idx, :]\n",
    "    y_train_cv = y_train[train_idx]\n",
    "    X_valid_cv = X_train.loc[val_idx, :]\n",
    "    y_valid_cv= y_train[val_idx]\n",
    "    # standard scale\n",
    "    ss = StandardScaler()\n",
    "    X_train_cv = ss.fit_transform(X_train_cv)\n",
    "    X_valid_cv = ss.transform(X_valid_cv)\n",
    "    # oversample\n",
    "    ros = RandomOverSampler(sampling_strategy={0:resampled_zeros,1:resampled_ones,2:resampled_twos}, random_state=42)\n",
    "    X_train_cv, y_train_cv = ros.fit_resample(X_train_cv, y_train_cv)\n",
    "    # train model\n",
    "    class_weights = class_weight.compute_class_weight('balanced', np.unique(y_train_cv), y_train_cv)\n",
    "    cboost = CatBoostClassifier(random_seed=42, logging_level='Silent', boosting_type=\"Plain\", \n",
    "                                  border_count=120, custom_metric=\"F1:use_weights=True\", class_weights=class_weights,\n",
    "                                   bootstrap_type=\"Bayesian\", metric_period=50, od_wait=50, od_type=\"Iter\")\n",
    "    params['class_weights'] = class_weights\n",
    "    cboost.set_params(**params)\n",
    "    cboost.fit(X_train_cv, y_train_cv)\n",
    "    tr_scores.append(f1_score(y_train_cv, cboost.predict(X_train_cv), average=\"macro\"))\n",
    "    te_scores.append(f1_score(y_valid_cv, cboost.predict(X_valid_cv), average=\"macro\"))\n",
    "    print(tr_scores[-1])\n",
    "    print(te_scores[-1])\n",
    "\n",
    "t1 = time()\n",
    "print(\"time: \", round(t1-t0), \" seconds\")\n",
    "print(\"mean train score: \", sum(tr_scores)/len(tr_scores))\n",
    "print(\"mean test  score: \", sum(te_scores)/len(te_scores))"
   ]
  },
  {
   "cell_type": "code",
   "execution_count": 85,
   "metadata": {
    "ExecuteTime": {
     "end_time": "2020-10-04T05:19:33.091264Z",
     "start_time": "2020-10-04T05:19:33.088112Z"
    },
    "hidden": true
   },
   "outputs": [
    {
     "data": {
      "text/plain": [
       "array([0.39215482, 3.33371347, 6.66573769])"
      ]
     },
     "execution_count": 85,
     "metadata": {},
     "output_type": "execute_result"
    }
   ],
   "source": [
    "class_weights\n"
   ]
  },
  {
   "cell_type": "markdown",
   "metadata": {},
   "source": [
    "###### with mod ROS"
   ]
  },
  {
   "cell_type": "code",
   "execution_count": 20,
   "metadata": {
    "ExecuteTime": {
     "end_time": "2020-10-04T22:19:13.355518Z",
     "start_time": "2020-10-04T17:22:21.608666Z"
    },
    "scrolled": true
   },
   "outputs": [
    {
     "name": "stdout",
     "output_type": "stream",
     "text": [
      "================================================================================\n",
      "\n",
      "Iteration num:  1\n",
      "best score: 0.4586384518414529\n",
      "mean_train_score: []\n",
      "mean_test_score: [0.4586384518414529]\n",
      "\n",
      "\n",
      "================================================================================\n",
      "\n",
      "Iteration num:  2\n",
      "best score: 0.4586384518414529\n",
      "mean_train_score: []\n",
      "mean_test_score: [0.4586384518414529, 0.44125594525975126]\n",
      "\n",
      "\n",
      "================================================================================\n",
      "\n",
      "Iteration num:  3\n",
      "best score: 0.4586384518414529\n",
      "mean_train_score: []\n",
      "mean_test_score: [0.4586384518414529, 0.44125594525975126, 0.4319760089484466]\n",
      "\n",
      "\n",
      "================================================================================\n",
      "\n",
      "Iteration num:  4\n",
      "best score: 0.4586384518414529\n",
      "mean_train_score: []\n",
      "mean_test_score: [0.4586384518414529, 0.44125594525975126, 0.4319760089484466, 0.44500545175969963]\n",
      "\n",
      "\n",
      "================================================================================\n",
      "\n",
      "Iteration num:  5\n",
      "best score: 0.46210766903482037\n",
      "mean_train_score: []\n",
      "mean_test_score: [0.4586384518414529, 0.44125594525975126, 0.4319760089484466, 0.44500545175969963, 0.46210766903482037]\n",
      "\n",
      "\n",
      "================================================================================\n",
      "\n",
      "Iteration num:  6\n",
      "best score: 0.46210766903482037\n",
      "mean_train_score: []\n",
      "mean_test_score: [0.4586384518414529, 0.44125594525975126, 0.4319760089484466, 0.44500545175969963, 0.46210766903482037, 0.3819348021124365]\n",
      "\n",
      "\n",
      "================================================================================\n",
      "\n",
      "Iteration num:  7\n",
      "best score: 0.47359056935720384\n",
      "mean_train_score: []\n",
      "mean_test_score: [0.4586384518414529, 0.44125594525975126, 0.4319760089484466, 0.44500545175969963, 0.46210766903482037, 0.3819348021124365, 0.47359056935720384]\n",
      "\n",
      "\n",
      "================================================================================\n",
      "\n",
      "Iteration num:  8\n",
      "best score: 0.5154664353792493\n",
      "mean_train_score: []\n",
      "mean_test_score: [0.4586384518414529, 0.44125594525975126, 0.4319760089484466, 0.44500545175969963, 0.46210766903482037, 0.3819348021124365, 0.47359056935720384, 0.5154664353792493]\n",
      "\n",
      "\n",
      "================================================================================\n",
      "\n",
      "Iteration num:  9\n",
      "best score: 0.5154664353792493\n",
      "mean_train_score: []\n",
      "mean_test_score: [0.4586384518414529, 0.44125594525975126, 0.4319760089484466, 0.44500545175969963, 0.46210766903482037, 0.3819348021124365, 0.47359056935720384, 0.5154664353792493, 0.44864582321382757]\n",
      "\n",
      "\n",
      "================================================================================\n",
      "\n",
      "Iteration num:  10\n",
      "best score: 0.5154664353792493\n",
      "mean_train_score: []\n",
      "mean_test_score: [0.4586384518414529, 0.44125594525975126, 0.4319760089484466, 0.44500545175969963, 0.46210766903482037, 0.3819348021124365, 0.47359056935720384, 0.5154664353792493, 0.44864582321382757, 0.4557496634854062]\n",
      "\n",
      "\n",
      "================================================================================\n",
      "\n",
      "Iteration num:  11\n",
      "best score: 0.5345618114851232\n",
      "mean_train_score: []\n",
      "mean_test_score: [0.4586384518414529, 0.44125594525975126, 0.4319760089484466, 0.44500545175969963, 0.46210766903482037, 0.3819348021124365, 0.47359056935720384, 0.5154664353792493, 0.44864582321382757, 0.4557496634854062, 0.5345618114851232]\n",
      "\n",
      "\n",
      "================================================================================\n",
      "\n",
      "Iteration num:  12\n",
      "best score: 0.5356894688932747\n",
      "mean_train_score: []\n",
      "mean_test_score: [0.4586384518414529, 0.44125594525975126, 0.4319760089484466, 0.44500545175969963, 0.46210766903482037, 0.3819348021124365, 0.47359056935720384, 0.5154664353792493, 0.44864582321382757, 0.4557496634854062, 0.5345618114851232, 0.5356894688932747]\n",
      "\n",
      "\n",
      "================================================================================\n",
      "\n",
      "Iteration num:  13\n",
      "best score: 0.5381823673218802\n",
      "mean_train_score: []\n",
      "mean_test_score: [0.4586384518414529, 0.44125594525975126, 0.4319760089484466, 0.44500545175969963, 0.46210766903482037, 0.3819348021124365, 0.47359056935720384, 0.5154664353792493, 0.44864582321382757, 0.4557496634854062, 0.5345618114851232, 0.5356894688932747, 0.5381823673218802]\n",
      "\n",
      "\n",
      "================================================================================\n",
      "\n",
      "Iteration num:  14\n",
      "best score: 0.5381823673218802\n",
      "mean_train_score: []\n",
      "mean_test_score: [0.4586384518414529, 0.44125594525975126, 0.4319760089484466, 0.44500545175969963, 0.46210766903482037, 0.3819348021124365, 0.47359056935720384, 0.5154664353792493, 0.44864582321382757, 0.4557496634854062, 0.5345618114851232, 0.5356894688932747, 0.5381823673218802, 0.5330518792913937]\n",
      "\n",
      "\n",
      "================================================================================\n",
      "\n",
      "Iteration num:  15\n",
      "best score: 0.5381823673218802\n",
      "mean_train_score: []\n",
      "mean_test_score: [0.4586384518414529, 0.44125594525975126, 0.4319760089484466, 0.44500545175969963, 0.46210766903482037, 0.3819348021124365, 0.47359056935720384, 0.5154664353792493, 0.44864582321382757, 0.4557496634854062, 0.5345618114851232, 0.5356894688932747, 0.5381823673218802, 0.5330518792913937, 0.5191931892191622]\n",
      "\n",
      "\n",
      "================================================================================\n",
      "\n",
      "Iteration num:  16\n",
      "best score: 0.5471513633243899\n",
      "mean_train_score: []\n",
      "mean_test_score: [0.4586384518414529, 0.44125594525975126, 0.4319760089484466, 0.44500545175969963, 0.46210766903482037, 0.3819348021124365, 0.47359056935720384, 0.5154664353792493, 0.44864582321382757, 0.4557496634854062, 0.5345618114851232, 0.5356894688932747, 0.5381823673218802, 0.5330518792913937, 0.5191931892191622, 0.5471513633243899]\n",
      "\n",
      "\n",
      "================================================================================\n",
      "\n",
      "Iteration num:  17\n",
      "best score: 0.5471513633243899\n",
      "mean_train_score: []\n",
      "mean_test_score: [0.4586384518414529, 0.44125594525975126, 0.4319760089484466, 0.44500545175969963, 0.46210766903482037, 0.3819348021124365, 0.47359056935720384, 0.5154664353792493, 0.44864582321382757, 0.4557496634854062, 0.5345618114851232, 0.5356894688932747, 0.5381823673218802, 0.5330518792913937, 0.5191931892191622, 0.5471513633243899, 0.5232989522889511]\n",
      "\n",
      "\n",
      "================================================================================\n",
      "\n",
      "Iteration num:  18\n",
      "best score: 0.5471513633243899\n",
      "mean_train_score: []\n",
      "mean_test_score: [0.4586384518414529, 0.44125594525975126, 0.4319760089484466, 0.44500545175969963, 0.46210766903482037, 0.3819348021124365, 0.47359056935720384, 0.5154664353792493, 0.44864582321382757, 0.4557496634854062, 0.5345618114851232, 0.5356894688932747, 0.5381823673218802, 0.5330518792913937, 0.5191931892191622, 0.5471513633243899, 0.5232989522889511, 0.5329285162880711]\n",
      "\n",
      "\n",
      "================================================================================\n",
      "\n",
      "Iteration num:  19\n",
      "best score: 0.5471513633243899\n",
      "mean_train_score: []\n",
      "mean_test_score: [0.4586384518414529, 0.44125594525975126, 0.4319760089484466, 0.44500545175969963, 0.46210766903482037, 0.3819348021124365, 0.47359056935720384, 0.5154664353792493, 0.44864582321382757, 0.4557496634854062, 0.5345618114851232, 0.5356894688932747, 0.5381823673218802, 0.5330518792913937, 0.5191931892191622, 0.5471513633243899, 0.5232989522889511, 0.5329285162880711, 0.5228130904008454]\n",
      "\n",
      "\n",
      "================================================================================\n",
      "\n",
      "Iteration num:  20\n",
      "best score: 0.5471513633243899\n",
      "mean_train_score: []\n",
      "mean_test_score: [0.4586384518414529, 0.44125594525975126, 0.4319760089484466, 0.44500545175969963, 0.46210766903482037, 0.3819348021124365, 0.47359056935720384, 0.5154664353792493, 0.44864582321382757, 0.4557496634854062, 0.5345618114851232, 0.5356894688932747, 0.5381823673218802, 0.5330518792913937, 0.5191931892191622, 0.5471513633243899, 0.5232989522889511, 0.5329285162880711, 0.5228130904008454, 0.5366424612407715]\n",
      "\n",
      "\n",
      "================================================================================\n",
      "\n",
      "Iteration num:  21\n",
      "best score: 0.5471513633243899\n",
      "mean_train_score: []\n",
      "mean_test_score: [0.4586384518414529, 0.44125594525975126, 0.4319760089484466, 0.44500545175969963, 0.46210766903482037, 0.3819348021124365, 0.47359056935720384, 0.5154664353792493, 0.44864582321382757, 0.4557496634854062, 0.5345618114851232, 0.5356894688932747, 0.5381823673218802, 0.5330518792913937, 0.5191931892191622, 0.5471513633243899, 0.5232989522889511, 0.5329285162880711, 0.5228130904008454, 0.5366424612407715, 0.5349662272808324]\n",
      "\n",
      "\n",
      "================================================================================\n",
      "\n",
      "Iteration num:  22\n",
      "best score: 0.5509956799982966\n",
      "mean_train_score: []\n",
      "mean_test_score: [0.4586384518414529, 0.44125594525975126, 0.4319760089484466, 0.44500545175969963, 0.46210766903482037, 0.3819348021124365, 0.47359056935720384, 0.5154664353792493, 0.44864582321382757, 0.4557496634854062, 0.5345618114851232, 0.5356894688932747, 0.5381823673218802, 0.5330518792913937, 0.5191931892191622, 0.5471513633243899, 0.5232989522889511, 0.5329285162880711, 0.5228130904008454, 0.5366424612407715, 0.5349662272808324, 0.5509956799982966]\n",
      "\n",
      "\n",
      "================================================================================\n",
      "\n",
      "Iteration num:  23\n",
      "best score: 0.5509956799982966\n",
      "mean_train_score: []\n",
      "mean_test_score: [0.4586384518414529, 0.44125594525975126, 0.4319760089484466, 0.44500545175969963, 0.46210766903482037, 0.3819348021124365, 0.47359056935720384, 0.5154664353792493, 0.44864582321382757, 0.4557496634854062, 0.5345618114851232, 0.5356894688932747, 0.5381823673218802, 0.5330518792913937, 0.5191931892191622, 0.5471513633243899, 0.5232989522889511, 0.5329285162880711, 0.5228130904008454, 0.5366424612407715, 0.5349662272808324, 0.5509956799982966, 0.5431156851459551]\n",
      "\n",
      "\n",
      "================================================================================\n",
      "\n",
      "Iteration num:  24\n",
      "best score: 0.5509956799982966\n",
      "mean_train_score: []\n",
      "mean_test_score: [0.4586384518414529, 0.44125594525975126, 0.4319760089484466, 0.44500545175969963, 0.46210766903482037, 0.3819348021124365, 0.47359056935720384, 0.5154664353792493, 0.44864582321382757, 0.4557496634854062, 0.5345618114851232, 0.5356894688932747, 0.5381823673218802, 0.5330518792913937, 0.5191931892191622, 0.5471513633243899, 0.5232989522889511, 0.5329285162880711, 0.5228130904008454, 0.5366424612407715, 0.5349662272808324, 0.5509956799982966, 0.5431156851459551, 0.5425060021384591]\n",
      "\n",
      "\n",
      "================================================================================\n",
      "\n",
      "Iteration num:  25\n",
      "best score: 0.5509956799982966\n",
      "mean_train_score: []\n",
      "mean_test_score: [0.4586384518414529, 0.44125594525975126, 0.4319760089484466, 0.44500545175969963, 0.46210766903482037, 0.3819348021124365, 0.47359056935720384, 0.5154664353792493, 0.44864582321382757, 0.4557496634854062, 0.5345618114851232, 0.5356894688932747, 0.5381823673218802, 0.5330518792913937, 0.5191931892191622, 0.5471513633243899, 0.5232989522889511, 0.5329285162880711, 0.5228130904008454, 0.5366424612407715, 0.5349662272808324, 0.5509956799982966, 0.5431156851459551, 0.5425060021384591, 0.5403722997402028]\n",
      "\n",
      "\n",
      "================================================================================\n",
      "\n",
      "Iteration num:  26\n",
      "best score: 0.5509956799982966\n",
      "mean_train_score: []\n",
      "mean_test_score: [0.4586384518414529, 0.44125594525975126, 0.4319760089484466, 0.44500545175969963, 0.46210766903482037, 0.3819348021124365, 0.47359056935720384, 0.5154664353792493, 0.44864582321382757, 0.4557496634854062, 0.5345618114851232, 0.5356894688932747, 0.5381823673218802, 0.5330518792913937, 0.5191931892191622, 0.5471513633243899, 0.5232989522889511, 0.5329285162880711, 0.5228130904008454, 0.5366424612407715, 0.5349662272808324, 0.5509956799982966, 0.5431156851459551, 0.5425060021384591, 0.5403722997402028, 0.5000617212080191]\n",
      "\n",
      "\n",
      "================================================================================\n",
      "\n",
      "Iteration num:  27\n",
      "best score: 0.5509956799982966\n",
      "mean_train_score: []\n",
      "mean_test_score: [0.4586384518414529, 0.44125594525975126, 0.4319760089484466, 0.44500545175969963, 0.46210766903482037, 0.3819348021124365, 0.47359056935720384, 0.5154664353792493, 0.44864582321382757, 0.4557496634854062, 0.5345618114851232, 0.5356894688932747, 0.5381823673218802, 0.5330518792913937, 0.5191931892191622, 0.5471513633243899, 0.5232989522889511, 0.5329285162880711, 0.5228130904008454, 0.5366424612407715, 0.5349662272808324, 0.5509956799982966, 0.5431156851459551, 0.5425060021384591, 0.5403722997402028, 0.5000617212080191, 0.5194537499793588]\n",
      "\n",
      "\n",
      "================================================================================\n",
      "\n",
      "Iteration num:  28\n",
      "best score: 0.5509956799982966\n",
      "mean_train_score: []\n",
      "mean_test_score: [0.4586384518414529, 0.44125594525975126, 0.4319760089484466, 0.44500545175969963, 0.46210766903482037, 0.3819348021124365, 0.47359056935720384, 0.5154664353792493, 0.44864582321382757, 0.4557496634854062, 0.5345618114851232, 0.5356894688932747, 0.5381823673218802, 0.5330518792913937, 0.5191931892191622, 0.5471513633243899, 0.5232989522889511, 0.5329285162880711, 0.5228130904008454, 0.5366424612407715, 0.5349662272808324, 0.5509956799982966, 0.5431156851459551, 0.5425060021384591, 0.5403722997402028, 0.5000617212080191, 0.5194537499793588, 0.5414381380866338]\n",
      "\n",
      "\n",
      "================================================================================\n",
      "\n",
      "Iteration num:  29\n",
      "best score: 0.5509956799982966\n",
      "mean_train_score: []\n",
      "mean_test_score: [0.4586384518414529, 0.44125594525975126, 0.4319760089484466, 0.44500545175969963, 0.46210766903482037, 0.3819348021124365, 0.47359056935720384, 0.5154664353792493, 0.44864582321382757, 0.4557496634854062, 0.5345618114851232, 0.5356894688932747, 0.5381823673218802, 0.5330518792913937, 0.5191931892191622, 0.5471513633243899, 0.5232989522889511, 0.5329285162880711, 0.5228130904008454, 0.5366424612407715, 0.5349662272808324, 0.5509956799982966, 0.5431156851459551, 0.5425060021384591, 0.5403722997402028, 0.5000617212080191, 0.5194537499793588, 0.5414381380866338, 0.517406043517283]\n",
      "\n",
      "\n",
      "================================================================================\n",
      "\n",
      "Iteration num:  30\n",
      "best score: 0.5509956799982966\n",
      "mean_train_score: []\n",
      "mean_test_score: [0.4586384518414529, 0.44125594525975126, 0.4319760089484466, 0.44500545175969963, 0.46210766903482037, 0.3819348021124365, 0.47359056935720384, 0.5154664353792493, 0.44864582321382757, 0.4557496634854062, 0.5345618114851232, 0.5356894688932747, 0.5381823673218802, 0.5330518792913937, 0.5191931892191622, 0.5471513633243899, 0.5232989522889511, 0.5329285162880711, 0.5228130904008454, 0.5366424612407715, 0.5349662272808324, 0.5509956799982966, 0.5431156851459551, 0.5425060021384591, 0.5403722997402028, 0.5000617212080191, 0.5194537499793588, 0.5414381380866338, 0.517406043517283, 0.5361367006963581]\n",
      "\n",
      "\n",
      "================================================================================\n",
      "\n",
      "Iteration num:  31\n",
      "best score: 0.5740692617729284\n",
      "mean_train_score: []\n",
      "mean_test_score: [0.4586384518414529, 0.44125594525975126, 0.4319760089484466, 0.44500545175969963, 0.46210766903482037, 0.3819348021124365, 0.47359056935720384, 0.5154664353792493, 0.44864582321382757, 0.4557496634854062, 0.5345618114851232, 0.5356894688932747, 0.5381823673218802, 0.5330518792913937, 0.5191931892191622, 0.5471513633243899, 0.5232989522889511, 0.5329285162880711, 0.5228130904008454, 0.5366424612407715, 0.5349662272808324, 0.5509956799982966, 0.5431156851459551, 0.5425060021384591, 0.5403722997402028, 0.5000617212080191, 0.5194537499793588, 0.5414381380866338, 0.517406043517283, 0.5361367006963581, 0.5740692617729284]\n",
      "\n",
      "\n",
      "================================================================================\n",
      "\n",
      "Iteration num:  32\n",
      "best score: 0.5740692617729284\n",
      "mean_train_score: []\n",
      "mean_test_score: [0.4586384518414529, 0.44125594525975126, 0.4319760089484466, 0.44500545175969963, 0.46210766903482037, 0.3819348021124365, 0.47359056935720384, 0.5154664353792493, 0.44864582321382757, 0.4557496634854062, 0.5345618114851232, 0.5356894688932747, 0.5381823673218802, 0.5330518792913937, 0.5191931892191622, 0.5471513633243899, 0.5232989522889511, 0.5329285162880711, 0.5228130904008454, 0.5366424612407715, 0.5349662272808324, 0.5509956799982966, 0.5431156851459551, 0.5425060021384591, 0.5403722997402028, 0.5000617212080191, 0.5194537499793588, 0.5414381380866338, 0.517406043517283, 0.5361367006963581, 0.5740692617729284, 0.5251311418361306]\n",
      "\n",
      "\n",
      "================================================================================\n",
      "\n",
      "Iteration num:  33\n",
      "best score: 0.5740692617729284\n",
      "mean_train_score: []\n",
      "mean_test_score: [0.4586384518414529, 0.44125594525975126, 0.4319760089484466, 0.44500545175969963, 0.46210766903482037, 0.3819348021124365, 0.47359056935720384, 0.5154664353792493, 0.44864582321382757, 0.4557496634854062, 0.5345618114851232, 0.5356894688932747, 0.5381823673218802, 0.5330518792913937, 0.5191931892191622, 0.5471513633243899, 0.5232989522889511, 0.5329285162880711, 0.5228130904008454, 0.5366424612407715, 0.5349662272808324, 0.5509956799982966, 0.5431156851459551, 0.5425060021384591, 0.5403722997402028, 0.5000617212080191, 0.5194537499793588, 0.5414381380866338, 0.517406043517283, 0.5361367006963581, 0.5740692617729284, 0.5251311418361306, 0.5568705524430659]\n",
      "\n",
      "\n",
      "================================================================================\n",
      "\n",
      "Iteration num:  34\n",
      "best score: 0.5740692617729284\n",
      "mean_train_score: []\n",
      "mean_test_score: [0.4586384518414529, 0.44125594525975126, 0.4319760089484466, 0.44500545175969963, 0.46210766903482037, 0.3819348021124365, 0.47359056935720384, 0.5154664353792493, 0.44864582321382757, 0.4557496634854062, 0.5345618114851232, 0.5356894688932747, 0.5381823673218802, 0.5330518792913937, 0.5191931892191622, 0.5471513633243899, 0.5232989522889511, 0.5329285162880711, 0.5228130904008454, 0.5366424612407715, 0.5349662272808324, 0.5509956799982966, 0.5431156851459551, 0.5425060021384591, 0.5403722997402028, 0.5000617212080191, 0.5194537499793588, 0.5414381380866338, 0.517406043517283, 0.5361367006963581, 0.5740692617729284, 0.5251311418361306, 0.5568705524430659, 0.4858981095133661]\n",
      "\n",
      "\n",
      "================================================================================\n",
      "\n",
      "Iteration num:  35\n",
      "best score: 0.5740692617729284\n",
      "mean_train_score: []\n",
      "mean_test_score: [0.4586384518414529, 0.44125594525975126, 0.4319760089484466, 0.44500545175969963, 0.46210766903482037, 0.3819348021124365, 0.47359056935720384, 0.5154664353792493, 0.44864582321382757, 0.4557496634854062, 0.5345618114851232, 0.5356894688932747, 0.5381823673218802, 0.5330518792913937, 0.5191931892191622, 0.5471513633243899, 0.5232989522889511, 0.5329285162880711, 0.5228130904008454, 0.5366424612407715, 0.5349662272808324, 0.5509956799982966, 0.5431156851459551, 0.5425060021384591, 0.5403722997402028, 0.5000617212080191, 0.5194537499793588, 0.5414381380866338, 0.517406043517283, 0.5361367006963581, 0.5740692617729284, 0.5251311418361306, 0.5568705524430659, 0.4858981095133661, 0.54016442446127]\n",
      "\n",
      "\n",
      "================================================================================\n",
      "\n",
      "Iteration num:  36\n",
      "best score: 0.5740692617729284\n",
      "mean_train_score: []\n",
      "mean_test_score: [0.4586384518414529, 0.44125594525975126, 0.4319760089484466, 0.44500545175969963, 0.46210766903482037, 0.3819348021124365, 0.47359056935720384, 0.5154664353792493, 0.44864582321382757, 0.4557496634854062, 0.5345618114851232, 0.5356894688932747, 0.5381823673218802, 0.5330518792913937, 0.5191931892191622, 0.5471513633243899, 0.5232989522889511, 0.5329285162880711, 0.5228130904008454, 0.5366424612407715, 0.5349662272808324, 0.5509956799982966, 0.5431156851459551, 0.5425060021384591, 0.5403722997402028, 0.5000617212080191, 0.5194537499793588, 0.5414381380866338, 0.517406043517283, 0.5361367006963581, 0.5740692617729284, 0.5251311418361306, 0.5568705524430659, 0.4858981095133661, 0.54016442446127, 0.5413765293218209]\n",
      "\n",
      "\n",
      "================================================================================\n",
      "\n",
      "Iteration num:  37\n",
      "best score: 0.5740692617729284\n",
      "mean_train_score: []\n",
      "mean_test_score: [0.4586384518414529, 0.44125594525975126, 0.4319760089484466, 0.44500545175969963, 0.46210766903482037, 0.3819348021124365, 0.47359056935720384, 0.5154664353792493, 0.44864582321382757, 0.4557496634854062, 0.5345618114851232, 0.5356894688932747, 0.5381823673218802, 0.5330518792913937, 0.5191931892191622, 0.5471513633243899, 0.5232989522889511, 0.5329285162880711, 0.5228130904008454, 0.5366424612407715, 0.5349662272808324, 0.5509956799982966, 0.5431156851459551, 0.5425060021384591, 0.5403722997402028, 0.5000617212080191, 0.5194537499793588, 0.5414381380866338, 0.517406043517283, 0.5361367006963581, 0.5740692617729284, 0.5251311418361306, 0.5568705524430659, 0.4858981095133661, 0.54016442446127, 0.5413765293218209, 0.5325486309655095]\n",
      "\n",
      "\n",
      "================================================================================\n",
      "\n",
      "Iteration num:  38\n",
      "best score: 0.5740692617729284\n",
      "mean_train_score: []\n",
      "mean_test_score: [0.4586384518414529, 0.44125594525975126, 0.4319760089484466, 0.44500545175969963, 0.46210766903482037, 0.3819348021124365, 0.47359056935720384, 0.5154664353792493, 0.44864582321382757, 0.4557496634854062, 0.5345618114851232, 0.5356894688932747, 0.5381823673218802, 0.5330518792913937, 0.5191931892191622, 0.5471513633243899, 0.5232989522889511, 0.5329285162880711, 0.5228130904008454, 0.5366424612407715, 0.5349662272808324, 0.5509956799982966, 0.5431156851459551, 0.5425060021384591, 0.5403722997402028, 0.5000617212080191, 0.5194537499793588, 0.5414381380866338, 0.517406043517283, 0.5361367006963581, 0.5740692617729284, 0.5251311418361306, 0.5568705524430659, 0.4858981095133661, 0.54016442446127, 0.5413765293218209, 0.5325486309655095, 0.49663927287310516]\n",
      "\n",
      "\n",
      "================================================================================\n",
      "\n",
      "Iteration num:  39\n",
      "best score: 0.5740692617729284\n",
      "mean_train_score: []\n",
      "mean_test_score: [0.4586384518414529, 0.44125594525975126, 0.4319760089484466, 0.44500545175969963, 0.46210766903482037, 0.3819348021124365, 0.47359056935720384, 0.5154664353792493, 0.44864582321382757, 0.4557496634854062, 0.5345618114851232, 0.5356894688932747, 0.5381823673218802, 0.5330518792913937, 0.5191931892191622, 0.5471513633243899, 0.5232989522889511, 0.5329285162880711, 0.5228130904008454, 0.5366424612407715, 0.5349662272808324, 0.5509956799982966, 0.5431156851459551, 0.5425060021384591, 0.5403722997402028, 0.5000617212080191, 0.5194537499793588, 0.5414381380866338, 0.517406043517283, 0.5361367006963581, 0.5740692617729284, 0.5251311418361306, 0.5568705524430659, 0.4858981095133661, 0.54016442446127, 0.5413765293218209, 0.5325486309655095, 0.49663927287310516, 0.5045587162300859]\n",
      "\n",
      "\n",
      "================================================================================\n",
      "\n",
      "Iteration num:  40\n",
      "best score: 0.5740692617729284\n",
      "mean_train_score: []\n",
      "mean_test_score: [0.4586384518414529, 0.44125594525975126, 0.4319760089484466, 0.44500545175969963, 0.46210766903482037, 0.3819348021124365, 0.47359056935720384, 0.5154664353792493, 0.44864582321382757, 0.4557496634854062, 0.5345618114851232, 0.5356894688932747, 0.5381823673218802, 0.5330518792913937, 0.5191931892191622, 0.5471513633243899, 0.5232989522889511, 0.5329285162880711, 0.5228130904008454, 0.5366424612407715, 0.5349662272808324, 0.5509956799982966, 0.5431156851459551, 0.5425060021384591, 0.5403722997402028, 0.5000617212080191, 0.5194537499793588, 0.5414381380866338, 0.517406043517283, 0.5361367006963581, 0.5740692617729284, 0.5251311418361306, 0.5568705524430659, 0.4858981095133661, 0.54016442446127, 0.5413765293218209, 0.5325486309655095, 0.49663927287310516, 0.5045587162300859, 0.5113434231421311]\n",
      "\n",
      "\n",
      "{'class_weights_1': 72.00011408155923, 'class_weights_2': 500.0, 'depth': 6, 'iterations': 1500, 'l2_leaf_reg': 10.0, 'learning_rate': 0.3, 'random_strength': 5.6035174095247555}\n",
      "{'ones': 1800, 'twos': 779, 'zeros': 76000}\n"
     ]
    },
    {
     "name": "stderr",
     "output_type": "stream",
     "text": [
      "/home/ubuntu/anaconda3/lib/python3.7/site-packages/imblearn/utils/_validation.py:326: UserWarning: After over-sampling, the number of samples (76000) in class 0 will be larger than the number of samples in the majority class (class #0 -> 75474)\n",
      "  n_samples_majority,\n"
     ]
    },
    {
     "name": "stdout",
     "output_type": "stream",
     "text": [
      "0:\tlearn: 0.8876706\ttotal: 29.6ms\tremaining: 44.3s\n",
      "50:\tlearn: 0.2051129\ttotal: 1.24s\tremaining: 35.2s\n",
      "100:\tlearn: 0.0807443\ttotal: 2.49s\tremaining: 34.5s\n",
      "150:\tlearn: 0.0579838\ttotal: 3.72s\tremaining: 33.3s\n",
      "200:\tlearn: 0.0473119\ttotal: 4.95s\tremaining: 32s\n",
      "250:\tlearn: 0.0406808\ttotal: 6.18s\tremaining: 30.7s\n",
      "300:\tlearn: 0.0361511\ttotal: 7.41s\tremaining: 29.5s\n",
      "350:\tlearn: 0.0323795\ttotal: 8.66s\tremaining: 28.3s\n",
      "400:\tlearn: 0.0297274\ttotal: 9.88s\tremaining: 27.1s\n",
      "450:\tlearn: 0.0272938\ttotal: 11.1s\tremaining: 25.9s\n",
      "500:\tlearn: 0.0255213\ttotal: 12.4s\tremaining: 24.6s\n",
      "550:\tlearn: 0.0236171\ttotal: 13.6s\tremaining: 23.4s\n",
      "600:\tlearn: 0.0220145\ttotal: 14.9s\tremaining: 22.2s\n",
      "650:\tlearn: 0.0205449\ttotal: 16.2s\tremaining: 21.1s\n",
      "700:\tlearn: 0.0193036\ttotal: 17.4s\tremaining: 19.8s\n",
      "750:\tlearn: 0.0183247\ttotal: 18.6s\tremaining: 18.6s\n",
      "800:\tlearn: 0.0175103\ttotal: 19.9s\tremaining: 17.4s\n",
      "850:\tlearn: 0.0166417\ttotal: 21.2s\tremaining: 16.1s\n",
      "900:\tlearn: 0.0158613\ttotal: 22.4s\tremaining: 14.9s\n",
      "950:\tlearn: 0.0151929\ttotal: 23.7s\tremaining: 13.7s\n",
      "1000:\tlearn: 0.0145416\ttotal: 24.9s\tremaining: 12.4s\n",
      "1050:\tlearn: 0.0139869\ttotal: 26.2s\tremaining: 11.2s\n",
      "1100:\tlearn: 0.0133957\ttotal: 27.5s\tremaining: 9.96s\n",
      "1150:\tlearn: 0.0128933\ttotal: 28.7s\tremaining: 8.72s\n",
      "1200:\tlearn: 0.0124661\ttotal: 30s\tremaining: 7.46s\n",
      "1250:\tlearn: 0.0120141\ttotal: 31.2s\tremaining: 6.22s\n",
      "1300:\tlearn: 0.0115914\ttotal: 32.5s\tremaining: 4.97s\n",
      "1350:\tlearn: 0.0111805\ttotal: 33.7s\tremaining: 3.72s\n",
      "1400:\tlearn: 0.0108673\ttotal: 35s\tremaining: 2.47s\n",
      "1450:\tlearn: 0.0105503\ttotal: 36.3s\tremaining: 1.22s\n",
      "1499:\tlearn: 0.0102692\ttotal: 37.5s\tremaining: 0us\n",
      "17811.72974562645\n"
     ]
    }
   ],
   "source": [
    "\n",
    "from skopt.space import Real, Integer, Categorical\n",
    "import catboost as cb\n",
    "from catboost import Pool\n",
    "from imblearn.pipeline import Pipeline\n",
    "from imblearn.over_sampling import SMOTE, RandomOverSampler, ADASYN, BorderlineSMOTE\n",
    "\n",
    "cb_space = {\n",
    "    # resampled numbers\n",
    "    \"MROS__zeros\": Integer(76000, 80000),\n",
    "    \"MROS__ones\": Integer(1800, 10000),\n",
    "    \"MROS__twos\": Integer(125, 10000),\n",
    "    # catboost params\n",
    "    \"CB__iterations\": Integer(120, 1500),\n",
    "    \"CB__depth\": Integer(4, 10),\n",
    "    \"CB__learning_rate\": Real(0.3, 1, prior='log-uniform'),\n",
    "    \"CB__l2_leaf_reg\": Real(10, 30, prior='log-uniform'),\n",
    "    'CB__random_strength': Real(1, 10, 'log-uniform'), \n",
    "    \"CB__class_weights_1\": Real(0.5, 500, name=\"class_weights_1\"),\n",
    "    \"CB__class_weights_2\": Real(0.5, 500, name=\"class_weights_2\"),\n",
    "}\n",
    "\n",
    "\n",
    "pipe = Pipeline([\n",
    "    (\"Standard_Scaler\", StandardScaler(with_mean=True, with_std=True)), \n",
    "    (\"MROS\", ModRandomOverSampler(random_state=42)),\n",
    "    (\"CB\", ModCatBoostClassifier(random_seed=42, logging_level='Verbose', boosting_type=\"Plain\", \n",
    "                                  border_count=120, custom_metric=\"F1:use_weights=True\", \n",
    "                                  bootstrap_type=\"Bayesian\", metric_period=50, od_wait=50, od_type=\"Iter\"))\n",
    "])\n",
    "\n",
    "\n",
    "n_iter=40\n",
    "cb_opt = BayesSearchCV(pipe,\n",
    "    cb_space,\n",
    "    n_iter=n_iter,\n",
    "    optimizer_kwargs={'base_estimator': 'GP', \n",
    "                      \"acq_func_kwargs\": {\"xi\":0.0001, \"kappa\": 0.0001}},\n",
    "    random_state=42, n_points=1, cv=5, n_jobs=-1,\n",
    "    scoring=f1_bscv, refit=True,\n",
    ")\n",
    "\n",
    "i = 1\n",
    "# callback handler\n",
    "def on_step(optim_result):\n",
    "    global i\n",
    "    score = cb_opt.best_score_\n",
    "    last_tr_score = cb_opt.cv_results_['mean_train_score']\n",
    "    last_te_score = cb_opt.cv_results_['mean_test_score']    \n",
    "    print(\"=\"*80)\n",
    "    print(\"\\nIteration num: \", i)\n",
    "    print(\"best score: %s\" % score)\n",
    "    print(\"mean_train_score: %s\" % last_tr_score)\n",
    "    print(\"mean_test_score: %s\" % last_te_score)\n",
    "    print(\"\\n\")\n",
    "    i+=1\n",
    "\n",
    "from time import time\n",
    "t0 = time()\n",
    "_ = cb_opt.fit(model_cols_train_data, model_cols_train_labels, callback=on_step)\n",
    "print(time()-t0)\n"
   ]
  },
  {
   "cell_type": "code",
   "execution_count": 21,
   "metadata": {
    "ExecuteTime": {
     "end_time": "2020-10-04T22:19:17.351288Z",
     "start_time": "2020-10-04T22:19:13.357047Z"
    }
   },
   "outputs": [
    {
     "name": "stdout",
     "output_type": "stream",
     "text": [
      "CB F1 after model tuning cmplt:  0.785643459937655\n",
      "CB F1 after model tuning train:  0.8154375662580952\n",
      "CB F1 after model tuning  test:  0.4858220490192151\n"
     ]
    }
   ],
   "source": [
    "print(\"CB F1 after model tuning cmplt: \", cb_opt.score(model_cols_data, model_cols_labels))\n",
    "print(\"CB F1 after model tuning train: \", cb_opt.score(model_cols_train_data, model_cols_train_labels))\n",
    "print(\"CB F1 after model tuning  test: \", cb_opt.score(model_cols_test_data, model_cols_test_labels))\n",
    "\n",
    "# CB F1 after model tuning:  0.7851129725982773\n",
    "# {'class_weights_1': 205.34692744723026, 'class_weights_2': 363.9990087170739, 'depth': 15, 'iterations': 240, 'l2_leaf_reg': 20.880544999616877, 'learning_rate': 0.49391826396295263, 'random_strength': 2.243527177854895}"
   ]
  },
  {
   "cell_type": "code",
   "execution_count": 22,
   "metadata": {
    "ExecuteTime": {
     "end_time": "2020-10-04T22:19:17.373706Z",
     "start_time": "2020-10-04T22:19:17.352745Z"
    }
   },
   "outputs": [
    {
     "data": {
      "text/plain": [
       "defaultdict(list,\n",
       "            {'split0_test_score': [0.380853993955925,\n",
       "              0.3933664447146025,\n",
       "              0.37548946943565625,\n",
       "              0.386174407698159,\n",
       "              0.40058900677589576,\n",
       "              0.346165117812891,\n",
       "              0.4427680581455727,\n",
       "              0.4630386115919994,\n",
       "              0.3865054492390965,\n",
       "              0.4685140012642539,\n",
       "              0.44609307748466326,\n",
       "              0.4716693597881916,\n",
       "              0.47308203991130826,\n",
       "              0.4924443420529038,\n",
       "              0.4374143073577923,\n",
       "              0.47652853111079824,\n",
       "              0.43306083238503,\n",
       "              0.46414953825085914,\n",
       "              0.47586755045649504,\n",
       "              0.4598226940563431,\n",
       "              0.49932603158412436,\n",
       "              0.5140008054334776,\n",
       "              0.5060945802700647,\n",
       "              0.5140084649972585,\n",
       "              0.49198222398405994,\n",
       "              0.43155093476017736,\n",
       "              0.4590837107903553,\n",
       "              0.47887547135445035,\n",
       "              0.42935998174443335,\n",
       "              0.49127234334733005,\n",
       "              0.5166960865762409,\n",
       "              0.47284988929024996,\n",
       "              0.530872602165495,\n",
       "              0.4547128063000057,\n",
       "              0.5134851692183134,\n",
       "              0.4544269904204601,\n",
       "              0.45859042716286763,\n",
       "              0.45558229580347437,\n",
       "              0.4515039843830884,\n",
       "              0.4458991140535556],\n",
       "             'split1_test_score': [0.4444723936399315,\n",
       "              0.46023610163396483,\n",
       "              0.43976569968126106,\n",
       "              0.42857690754869965,\n",
       "              0.45506408701957274,\n",
       "              0.37223967149843845,\n",
       "              0.4537373744883683,\n",
       "              0.4969110635145142,\n",
       "              0.4459264281881248,\n",
       "              0.45295593019393743,\n",
       "              0.5041378427265467,\n",
       "              0.5059399445635169,\n",
       "              0.5287690764693488,\n",
       "              0.5094061310134219,\n",
       "              0.47066415628987607,\n",
       "              0.5157527781313024,\n",
       "              0.5014583221164037,\n",
       "              0.5097455316123619,\n",
       "              0.47584166125077304,\n",
       "              0.5222154187222282,\n",
       "              0.47904778838940193,\n",
       "              0.547852722460789,\n",
       "              0.5232982492243312,\n",
       "              0.5013207596872366,\n",
       "              0.513968415762264,\n",
       "              0.4592135535346986,\n",
       "              0.5038397270310427,\n",
       "              0.5134455614381491,\n",
       "              0.510580468910115,\n",
       "              0.5077707164921513,\n",
       "              0.5524043159829506,\n",
       "              0.46639809131409365,\n",
       "              0.541740816019155,\n",
       "              0.4797298168806589,\n",
       "              0.5370792058113633,\n",
       "              0.48252195287764915,\n",
       "              0.4511573497188506,\n",
       "              0.49912362553352957,\n",
       "              0.4853321231151029,\n",
       "              0.49525627061487726],\n",
       "             'split2_test_score': [0.4760572273181696,\n",
       "              0.44366591808725037,\n",
       "              0.4407575162199084,\n",
       "              0.4790508969671316,\n",
       "              0.47194615296363235,\n",
       "              0.37642931042801026,\n",
       "              0.4900976965709791,\n",
       "              0.550188959633557,\n",
       "              0.48475482114896656,\n",
       "              0.4627502585996297,\n",
       "              0.5527533321674012,\n",
       "              0.5353294665649622,\n",
       "              0.5212293949416067,\n",
       "              0.5375382111389418,\n",
       "              0.5618558642204551,\n",
       "              0.5709946278681236,\n",
       "              0.5486299352747331,\n",
       "              0.544184471476031,\n",
       "              0.5105509697118972,\n",
       "              0.5394093646158012,\n",
       "              0.5348898413414543,\n",
       "              0.5202913205601565,\n",
       "              0.5152623769559443,\n",
       "              0.5111571414008481,\n",
       "              0.5260031958116914,\n",
       "              0.5344254786768355,\n",
       "              0.5450620335256514,\n",
       "              0.5671976550111212,\n",
       "              0.5348980650272516,\n",
       "              0.5416196947495343,\n",
       "              0.5890643042248609,\n",
       "              0.5302845558900923,\n",
       "              0.5588506107772414,\n",
       "              0.48980966739501114,\n",
       "              0.529400310493312,\n",
       "              0.5735891029845432,\n",
       "              0.5643294679722411,\n",
       "              0.48699973529928225,\n",
       "              0.5248325746104376,\n",
       "              0.5298433939428812],\n",
       "             'split3_test_score': [0.4989819218607239,\n",
       "              0.46386766499673976,\n",
       "              0.45186241152008205,\n",
       "              0.47654223632220316,\n",
       "              0.502779585235519,\n",
       "              0.3979410329480732,\n",
       "              0.49425603798489925,\n",
       "              0.5422322512174406,\n",
       "              0.4697921898745481,\n",
       "              0.4517026400520851,\n",
       "              0.5837406285851499,\n",
       "              0.5780439665804583,\n",
       "              0.5769130689977947,\n",
       "              0.5273155132226099,\n",
       "              0.5531612083201312,\n",
       "              0.604044997423051,\n",
       "              0.5707912180413018,\n",
       "              0.5767169079281155,\n",
       "              0.5700719977360512,\n",
       "              0.5747802698962318,\n",
       "              0.5809261072645753,\n",
       "              0.5692576000038017,\n",
       "              0.5775648600339273,\n",
       "              0.5648,\n",
       "              0.5910947268937018,\n",
       "              0.55982818247834,\n",
       "              0.5407869175544198,\n",
       "              0.5843998208848716,\n",
       "              0.5573369565217391,\n",
       "              0.5362041466842044,\n",
       "              0.6058563218829964,\n",
       "              0.5733815532984509,\n",
       "              0.5687950471863498,\n",
       "              0.4983295391213273,\n",
       "              0.5283617555100939,\n",
       "              0.574359139224656,\n",
       "              0.5974078266689825,\n",
       "              0.5051340411246188,\n",
       "              0.5105564883296936,\n",
       "              0.5254457354605944],\n",
       "             'split4_test_score': [0.492832722466191,\n",
       "              0.4451454832834367,\n",
       "              0.45200812549372854,\n",
       "              0.45468772116529127,\n",
       "              0.48016398706165325,\n",
       "              0.4169018445837362,\n",
       "              0.4870969863306914,\n",
       "              0.5249659227948951,\n",
       "              0.4562544599034915,\n",
       "              0.44282483670671763,\n",
       "              0.5860919345501262,\n",
       "              0.5874707257055211,\n",
       "              0.5909231185156565,\n",
       "              0.5985593917394023,\n",
       "              0.5728789128710015,\n",
       "              0.5684425392774118,\n",
       "              0.5625617670856928,\n",
       "              0.5698521329535896,\n",
       "              0.5817394011993596,\n",
       "              0.5869905130280789,\n",
       "              0.580647342286896,\n",
       "              0.603578570641389,\n",
       "              0.5933620681225582,\n",
       "              0.6212481916072521,\n",
       "              0.5788178167686925,\n",
       "              0.515297592573999,\n",
       "              0.5485013191722993,\n",
       "              0.5632780907327254,\n",
       "              0.5548609360279908,\n",
       "              0.6038213806974159,\n",
       "              0.6063304376606267,\n",
       "              0.5827488633879665,\n",
       "              0.5840963697660576,\n",
       "              0.5069111552985935,\n",
       "              0.592497623490161,\n",
       "              0.6219949752365654,\n",
       "              0.5912682203019988,\n",
       "              0.5363591835784809,\n",
       "              0.5505731272749101,\n",
       "              0.5602779217993749],\n",
       "             'mean_test_score': [0.4586384518414529,\n",
       "              0.44125594525975126,\n",
       "              0.4319760089484466,\n",
       "              0.44500545175969963,\n",
       "              0.46210766903482037,\n",
       "              0.3819348021124365,\n",
       "              0.47359056935720384,\n",
       "              0.5154664353792493,\n",
       "              0.44864582321382757,\n",
       "              0.4557496634854062,\n",
       "              0.5345618114851232,\n",
       "              0.5356894688932747,\n",
       "              0.5381823673218802,\n",
       "              0.5330518792913937,\n",
       "              0.5191931892191622,\n",
       "              0.5471513633243899,\n",
       "              0.5232989522889511,\n",
       "              0.5329285162880711,\n",
       "              0.5228130904008454,\n",
       "              0.5366424612407715,\n",
       "              0.5349662272808324,\n",
       "              0.5509956799982966,\n",
       "              0.5431156851459551,\n",
       "              0.5425060021384591,\n",
       "              0.5403722997402028,\n",
       "              0.5000617212080191,\n",
       "              0.5194537499793588,\n",
       "              0.5414381380866338,\n",
       "              0.517406043517283,\n",
       "              0.5361367006963581,\n",
       "              0.5740692617729284,\n",
       "              0.5251311418361306,\n",
       "              0.5568705524430659,\n",
       "              0.4858981095133661,\n",
       "              0.54016442446127,\n",
       "              0.5413765293218209,\n",
       "              0.5325486309655095,\n",
       "              0.49663927287310516,\n",
       "              0.5045587162300859,\n",
       "              0.5113434231421311],\n",
       "             'std_test_score': [0.043247012303921153,\n",
       "              0.025242689808680645,\n",
       "              0.028724144843023304,\n",
       "              0.034578848111064125,\n",
       "              0.03438396401328063,\n",
       "              0.024011181466860893,\n",
       "              0.021100598529048175,\n",
       "              0.031954185802664195,\n",
       "              0.03369820573119591,\n",
       "              0.008979663246561347,\n",
       "              0.05321161042660833,\n",
       "              0.043494869822178574,\n",
       "              0.042180019374790004,\n",
       "              0.036200369637497704,\n",
       "              0.05458780234967266,\n",
       "              0.04523777035038046,\n",
       "              0.051105568511177396,\n",
       "              0.041654745575405966,\n",
       "              0.04531289600941756,\n",
       "              0.044959149392721526,\n",
       "              0.04146381212543061,\n",
       "              0.03292313234465435,\n",
       "              0.03535674282896966,\n",
       "              0.04514053030286301,\n",
       "              0.038199648995382286,\n",
       "              0.047639162745169175,\n",
       "              0.03418505538747526,\n",
       "              0.039202091840801444,\n",
       "              0.04712161748406614,\n",
       "              0.038545332396772256,\n",
       "              0.03474821120061003,\n",
       "              0.048697959443236655,\n",
       "              0.01893237407635847,\n",
       "              0.018011015506434407,\n",
       "              0.0272587020796482,\n",
       "              0.0626883182922554,\n",
       "              0.0644349764673371,\n",
       "              0.0262092396047662,\n",
       "              0.03390826691429993,\n",
       "              0.03867186199073763],\n",
       "             'rank_test_score': [34,\n",
       "              38,\n",
       "              39,\n",
       "              37,\n",
       "              33,\n",
       "              40,\n",
       "              32,\n",
       "              26,\n",
       "              36,\n",
       "              35,\n",
       "              16,\n",
       "              14,\n",
       "              11,\n",
       "              17,\n",
       "              24,\n",
       "              4,\n",
       "              21,\n",
       "              18,\n",
       "              22,\n",
       "              12,\n",
       "              15,\n",
       "              3,\n",
       "              5,\n",
       "              6,\n",
       "              9,\n",
       "              29,\n",
       "              23,\n",
       "              7,\n",
       "              25,\n",
       "              13,\n",
       "              1,\n",
       "              20,\n",
       "              2,\n",
       "              31,\n",
       "              10,\n",
       "              8,\n",
       "              19,\n",
       "              30,\n",
       "              28,\n",
       "              27],\n",
       "             'mean_fit_time': [410.38333358764646,\n",
       "              214.99232897758483,\n",
       "              98.1244110584259,\n",
       "              535.518301486969,\n",
       "              200.01691818237305,\n",
       "              52.83282079696655,\n",
       "              200.4319375038147,\n",
       "              227.20429816246033,\n",
       "              368.36392850875853,\n",
       "              201.85219416618347,\n",
       "              265.25570878982546,\n",
       "              265.0911107540131,\n",
       "              263.67258110046384,\n",
       "              1003.5991880893707,\n",
       "              208.59093112945556,\n",
       "              263.3316651821136,\n",
       "              269.136421918869,\n",
       "              561.1301471710206,\n",
       "              572.8303105831146,\n",
       "              217.45725407600403,\n",
       "              554.9753758430481,\n",
       "              222.35375261306763,\n",
       "              165.09728841781617,\n",
       "              1024.4415403366088,\n",
       "              1022.9161938667297,\n",
       "              604.5558418273926,\n",
       "              1026.9504399776458,\n",
       "              190.61290454864502,\n",
       "              165.95276923179625,\n",
       "              219.26545972824096,\n",
       "              215.57997751235962,\n",
       "              204.3221314430237,\n",
       "              1068.1192407608032,\n",
       "              170.82031016349794,\n",
       "              750.3502031803131,\n",
       "              240.29338059425353,\n",
       "              1008.2912410259247,\n",
       "              189.5917366504669,\n",
       "              1078.5987187385558,\n",
       "              1091.322248506546],\n",
       "             'std_fit_time': [0.7135079982699623,\n",
       "              2.1682335984808363,\n",
       "              0.5607529348857276,\n",
       "              0.5605739784591888,\n",
       "              1.1076215691906492,\n",
       "              0.25765427552040454,\n",
       "              1.2593571890648476,\n",
       "              0.6605620588322687,\n",
       "              0.630417022084008,\n",
       "              0.480506970430958,\n",
       "              0.060101586848282054,\n",
       "              1.0778262607952243,\n",
       "              0.4217223937985605,\n",
       "              1.0944615393763606,\n",
       "              1.4076540616669568,\n",
       "              0.30782825764313937,\n",
       "              0.9588717240035252,\n",
       "              1.7430035877102856,\n",
       "              0.9777141567631994,\n",
       "              0.5204541426729712,\n",
       "              1.0731745706793316,\n",
       "              0.966406792371181,\n",
       "              0.5916182977118404,\n",
       "              0.8429157545577869,\n",
       "              1.5238860721460172,\n",
       "              0.7451809355130461,\n",
       "              1.5371723934384904,\n",
       "              0.4970865737718701,\n",
       "              0.42599315987172853,\n",
       "              0.3639762433859954,\n",
       "              0.3832820192749488,\n",
       "              1.42170236967083,\n",
       "              1.6153846891547448,\n",
       "              1.085483757491059,\n",
       "              0.9507168499782086,\n",
       "              0.425621940751555,\n",
       "              1.5405169394725131,\n",
       "              0.6686142895046004,\n",
       "              1.5205361102552515,\n",
       "              0.6346253590170745],\n",
       "             'mean_score_time': [0.5523525238037109,\n",
       "              0.4812775135040283,\n",
       "              0.4404927730560303,\n",
       "              0.5245386600494385,\n",
       "              0.4637563228607178,\n",
       "              0.45915207862854,\n",
       "              0.45720229148864744,\n",
       "              0.4928601264953613,\n",
       "              0.5250526428222656,\n",
       "              0.48958849906921387,\n",
       "              0.39289345741271975,\n",
       "              0.477857780456543,\n",
       "              0.48548088073730467,\n",
       "              0.5473237991333008,\n",
       "              0.47690930366516116,\n",
       "              0.4612297534942627,\n",
       "              0.46790509223937987,\n",
       "              0.5071218013763428,\n",
       "              0.49877071380615234,\n",
       "              0.5020848751068115,\n",
       "              0.5045989990234375,\n",
       "              0.47395620346069334,\n",
       "              0.4418935298919678,\n",
       "              0.5511621475219727,\n",
       "              0.5603507041931153,\n",
       "              0.512131643295288,\n",
       "              0.5762275695800781,\n",
       "              0.4554588317871094,\n",
       "              0.47678341865539553,\n",
       "              0.4500932216644287,\n",
       "              0.4983524799346924,\n",
       "              0.4525315284729004,\n",
       "              0.562899112701416,\n",
       "              0.47445178031921387,\n",
       "              0.5400688648223877,\n",
       "              0.5064304351806641,\n",
       "              0.5667381763458252,\n",
       "              0.4570573329925537,\n",
       "              0.5811640739440918,\n",
       "              0.5167073249816895],\n",
       "             'std_score_time': [0.13673354031881635,\n",
       "              0.06555351114191851,\n",
       "              0.07491850873908958,\n",
       "              0.0993343284077182,\n",
       "              0.08830051037677034,\n",
       "              0.052057673305683005,\n",
       "              0.061407408082262804,\n",
       "              0.0700340048991402,\n",
       "              0.1446608412131299,\n",
       "              0.09488630082202285,\n",
       "              0.011989831699811373,\n",
       "              0.06851391177406352,\n",
       "              0.07364970645866029,\n",
       "              0.18879777631384315,\n",
       "              0.06738292890789892,\n",
       "              0.061899470060824205,\n",
       "              0.08415058316290704,\n",
       "              0.11505638525749652,\n",
       "              0.15877498361595163,\n",
       "              0.07686083117851317,\n",
       "              0.09392871060982051,\n",
       "              0.05944787890434152,\n",
       "              0.07135629732642491,\n",
       "              0.12409314301740475,\n",
       "              0.13000713293495073,\n",
       "              0.09644137949201903,\n",
       "              0.17231826888122906,\n",
       "              0.0595818545170074,\n",
       "              0.06264949470076212,\n",
       "              0.061618739954204145,\n",
       "              0.06718631987479394,\n",
       "              0.06598447043706003,\n",
       "              0.12939401267484504,\n",
       "              0.0636449338968544,\n",
       "              0.14998138333086855,\n",
       "              0.12464387352073453,\n",
       "              0.177968940026441,\n",
       "              0.0750218206854151,\n",
       "              0.1426806959849381,\n",
       "              0.0836847735188476],\n",
       "             'param_CB__class_weights_1': [205.34692744723026,\n",
       "              418.77548359886555,\n",
       "              222.69383989442534,\n",
       "              406.291796184503,\n",
       "              399.876944082783,\n",
       "              367.1469949837914,\n",
       "              308.731139571907,\n",
       "              271.92983231131115,\n",
       "              477.7612541618092,\n",
       "              2.313338473744242,\n",
       "              218.29103948571503,\n",
       "              213.45888415180502,\n",
       "              202.8504411996164,\n",
       "              140.49297499811593,\n",
       "              0.5,\n",
       "              207.72101572826702,\n",
       "              326.16523298625265,\n",
       "              276.1420504714429,\n",
       "              0.5,\n",
       "              148.26709024830782,\n",
       "              204.64880989186554,\n",
       "              197.52666280877915,\n",
       "              210.37819387863655,\n",
       "              244.44782751285172,\n",
       "              220.0868963129916,\n",
       "              147.30358828937003,\n",
       "              233.4523217662807,\n",
       "              209.93907308247051,\n",
       "              193.01510961360964,\n",
       "              220.20312225757255,\n",
       "              72.00011408155923,\n",
       "              0.5,\n",
       "              117.19676348257103,\n",
       "              252.03312537907863,\n",
       "              76.67750550366878,\n",
       "              130.14524638710193,\n",
       "              88.75360417070746,\n",
       "              83.34759695652295,\n",
       "              492.71512898031466,\n",
       "              289.00201773041374],\n",
       "             'param_CB__class_weights_2': [363.9990087170739,\n",
       "              441.7159810517407,\n",
       "              459.4018995738538,\n",
       "              86.34984491758208,\n",
       "              219.2955786272412,\n",
       "              469.71518393258447,\n",
       "              387.79450722452736,\n",
       "              460.0446086054396,\n",
       "              350.4604115883723,\n",
       "              409.0060948220439,\n",
       "              333.4069697784186,\n",
       "              342.3613754661246,\n",
       "              369.35779633383544,\n",
       "              267.56345814969944,\n",
       "              36.04625975545836,\n",
       "              393.88136447737713,\n",
       "              374.19625222249675,\n",
       "              500.0,\n",
       "              144.1465342269987,\n",
       "              348.2178420303609,\n",
       "              36.11654819747594,\n",
       "              500.0,\n",
       "              476.43185192975557,\n",
       "              155.33667437747678,\n",
       "              500.0,\n",
       "              82.2794028367469,\n",
       "              35.73958153793945,\n",
       "              500.0,\n",
       "              244.0670134910614,\n",
       "              500.0,\n",
       "              500.0,\n",
       "              500.0,\n",
       "              500.0,\n",
       "              500.0,\n",
       "              500.0,\n",
       "              0.5,\n",
       "              500.0,\n",
       "              500.0,\n",
       "              500.0,\n",
       "              500.0],\n",
       "             'param_CB__depth': [10,\n",
       "              6,\n",
       "              5,\n",
       "              8,\n",
       "              7,\n",
       "              5,\n",
       "              6,\n",
       "              7,\n",
       "              9,\n",
       "              8,\n",
       "              7,\n",
       "              7,\n",
       "              7,\n",
       "              10,\n",
       "              6,\n",
       "              7,\n",
       "              7,\n",
       "              8,\n",
       "              8,\n",
       "              6,\n",
       "              8,\n",
       "              6,\n",
       "              4,\n",
       "              10,\n",
       "              10,\n",
       "              8,\n",
       "              10,\n",
       "              5,\n",
       "              4,\n",
       "              6,\n",
       "              6,\n",
       "              6,\n",
       "              10,\n",
       "              5,\n",
       "              9,\n",
       "              10,\n",
       "              10,\n",
       "              5,\n",
       "              10,\n",
       "              10],\n",
       "             'param_CB__iterations': [556,\n",
       "              1433,\n",
       "              718,\n",
       "              1228,\n",
       "              1108,\n",
       "              380,\n",
       "              1327,\n",
       "              1276,\n",
       "              694,\n",
       "              471,\n",
       "              1500,\n",
       "              1500,\n",
       "              1500,\n",
       "              1500,\n",
       "              1500,\n",
       "              1500,\n",
       "              1500,\n",
       "              1500,\n",
       "              1500,\n",
       "              1500,\n",
       "              1500,\n",
       "              1497,\n",
       "              1500,\n",
       "              1500,\n",
       "              1500,\n",
       "              1500,\n",
       "              1500,\n",
       "              1500,\n",
       "              1497,\n",
       "              1500,\n",
       "              1500,\n",
       "              1500,\n",
       "              1500,\n",
       "              1345,\n",
       "              1397,\n",
       "              331,\n",
       "              1500,\n",
       "              1500,\n",
       "              1500,\n",
       "              1500],\n",
       "             'param_CB__l2_leaf_reg': [20.880544999616877,\n",
       "              25.8400765121103,\n",
       "              12.293552899585315,\n",
       "              17.764761572881717,\n",
       "              26.992743941741733,\n",
       "              24.095564554841015,\n",
       "              19.175709555967725,\n",
       "              14.276307881953036,\n",
       "              15.19896793264665,\n",
       "              18.883959231461073,\n",
       "              23.79788667330631,\n",
       "              22.77478088270798,\n",
       "              19.559162443266846,\n",
       "              10.0,\n",
       "              17.968253843947426,\n",
       "              16.29936642177393,\n",
       "              11.123714888955071,\n",
       "              10.0,\n",
       "              15.204357168847578,\n",
       "              10.0,\n",
       "              14.913414639747606,\n",
       "              10.0,\n",
       "              10.0,\n",
       "              10.0,\n",
       "              10.0,\n",
       "              10.0,\n",
       "              10.0,\n",
       "              10.0,\n",
       "              10.0,\n",
       "              10.0,\n",
       "              10.0,\n",
       "              10.0,\n",
       "              10.340912221660734,\n",
       "              15.531838105441848,\n",
       "              10.0,\n",
       "              29.999999999999996,\n",
       "              15.011066574853507,\n",
       "              10.0,\n",
       "              13.666559454138069,\n",
       "              10.0],\n",
       "             'param_CB__learning_rate': [0.49391826396295263,\n",
       "              0.32337271060489114,\n",
       "              0.5180041277536692,\n",
       "              0.3365368813516514,\n",
       "              0.7112816478202166,\n",
       "              0.4698241119597878,\n",
       "              0.613812081926369,\n",
       "              0.31904976273228963,\n",
       "              0.3869593028788596,\n",
       "              0.4176031925767839,\n",
       "              0.4506344053240321,\n",
       "              0.4438104871275422,\n",
       "              0.42566839237726917,\n",
       "              1.0,\n",
       "              0.39368569436291606,\n",
       "              0.40954196217660094,\n",
       "              0.40126663766642134,\n",
       "              0.3,\n",
       "              1.0,\n",
       "              0.49013055793468846,\n",
       "              0.6058457023892817,\n",
       "              0.3,\n",
       "              1.0,\n",
       "              0.9928015087871871,\n",
       "              0.8401049891929929,\n",
       "              0.3,\n",
       "              0.773771656293637,\n",
       "              0.39725584375684586,\n",
       "              0.3,\n",
       "              1.0,\n",
       "              0.3,\n",
       "              0.3,\n",
       "              0.3,\n",
       "              0.33968656193593316,\n",
       "              0.3,\n",
       "              1.0,\n",
       "              0.3,\n",
       "              0.317429718808645,\n",
       "              0.8971661647724145,\n",
       "              0.3],\n",
       "             'param_CB__random_strength': [2.243527177854895,\n",
       "              1.3750184902381468,\n",
       "              1.4303688842101405,\n",
       "              5.699024615926202,\n",
       "              2.6556942450923633,\n",
       "              2.8775608367152383,\n",
       "              4.454279959081833,\n",
       "              3.7220122887253675,\n",
       "              1.0001405844340876,\n",
       "              2.0551300344244026,\n",
       "              7.906438658070064,\n",
       "              7.841761496875157,\n",
       "              7.4990817823937155,\n",
       "              10.0,\n",
       "              2.7726392360972745,\n",
       "              8.254319398077385,\n",
       "              10.0,\n",
       "              10.0,\n",
       "              10.0,\n",
       "              10.0,\n",
       "              10.0,\n",
       "              7.935709213316681,\n",
       "              5.683989503905407,\n",
       "              7.988553889736525,\n",
       "              8.149511767902146,\n",
       "              6.467674033599384,\n",
       "              4.651984935532364,\n",
       "              10.0,\n",
       "              7.615854778565511,\n",
       "              10.0,\n",
       "              5.6035174095247555,\n",
       "              4.612504558039591,\n",
       "              4.304778659886284,\n",
       "              2.081024504349057,\n",
       "              4.512744205873453,\n",
       "              3.9206372336034607,\n",
       "              7.408966595001745,\n",
       "              3.728003656068976,\n",
       "              10.0,\n",
       "              3.1987318251102455],\n",
       "             'param_MROS__ones': [7864,\n",
       "              4699,\n",
       "              7963,\n",
       "              8956,\n",
       "              7132,\n",
       "              6185,\n",
       "              5261,\n",
       "              2012,\n",
       "              4840,\n",
       "              3051,\n",
       "              1800,\n",
       "              1800,\n",
       "              1800,\n",
       "              1800,\n",
       "              1800,\n",
       "              1800,\n",
       "              1800,\n",
       "              1800,\n",
       "              1800,\n",
       "              1800,\n",
       "              1800,\n",
       "              1800,\n",
       "              1800,\n",
       "              2629,\n",
       "              1800,\n",
       "              8752,\n",
       "              1800,\n",
       "              1800,\n",
       "              2155,\n",
       "              1800,\n",
       "              1800,\n",
       "              1800,\n",
       "              1800,\n",
       "              3343,\n",
       "              1800,\n",
       "              1800,\n",
       "              1800,\n",
       "              1800,\n",
       "              1800,\n",
       "              1800],\n",
       "             'param_MROS__twos': [3132,\n",
       "              6403,\n",
       "              5629,\n",
       "              9130,\n",
       "              3612,\n",
       "              7880,\n",
       "              7372,\n",
       "              3934,\n",
       "              5994,\n",
       "              8952,\n",
       "              2446,\n",
       "              2229,\n",
       "              1744,\n",
       "              125,\n",
       "              125,\n",
       "              1431,\n",
       "              5738,\n",
       "              125,\n",
       "              125,\n",
       "              3054,\n",
       "              2115,\n",
       "              399,\n",
       "              125,\n",
       "              1795,\n",
       "              1549,\n",
       "              125,\n",
       "              125,\n",
       "              498,\n",
       "              999,\n",
       "              125,\n",
       "              779,\n",
       "              125,\n",
       "              4062,\n",
       "              3930,\n",
       "              10000,\n",
       "              10000,\n",
       "              125,\n",
       "              7904,\n",
       "              10000,\n",
       "              8986],\n",
       "             'param_MROS__zeros': [78591,\n",
       "              79814,\n",
       "              79893,\n",
       "              77547,\n",
       "              78638,\n",
       "              78230,\n",
       "              78537,\n",
       "              79304,\n",
       "              76704,\n",
       "              79253,\n",
       "              78451,\n",
       "              78484,\n",
       "              78486,\n",
       "              76000,\n",
       "              76784,\n",
       "              78515,\n",
       "              79073,\n",
       "              79142,\n",
       "              78882,\n",
       "              77062,\n",
       "              76000,\n",
       "              78881,\n",
       "              76597,\n",
       "              76000,\n",
       "              76000,\n",
       "              78882,\n",
       "              78794,\n",
       "              78445,\n",
       "              77177,\n",
       "              78681,\n",
       "              76000,\n",
       "              76000,\n",
       "              79615,\n",
       "              77123,\n",
       "              80000,\n",
       "              76166,\n",
       "              76000,\n",
       "              77606,\n",
       "              76000,\n",
       "              78019],\n",
       "             'params': [OrderedDict([('CB__class_weights_1',\n",
       "                            205.34692744723026),\n",
       "                           ('CB__class_weights_2', 363.9990087170739),\n",
       "                           ('CB__depth', 10),\n",
       "                           ('CB__iterations', 556),\n",
       "                           ('CB__l2_leaf_reg', 20.880544999616877),\n",
       "                           ('CB__learning_rate', 0.49391826396295263),\n",
       "                           ('CB__random_strength', 2.243527177854895),\n",
       "                           ('MROS__ones', 7864),\n",
       "                           ('MROS__twos', 3132),\n",
       "                           ('MROS__zeros', 78591)]),\n",
       "              OrderedDict([('CB__class_weights_1', 418.77548359886555),\n",
       "                           ('CB__class_weights_2', 441.7159810517407),\n",
       "                           ('CB__depth', 6),\n",
       "                           ('CB__iterations', 1433),\n",
       "                           ('CB__l2_leaf_reg', 25.8400765121103),\n",
       "                           ('CB__learning_rate', 0.32337271060489114),\n",
       "                           ('CB__random_strength', 1.3750184902381468),\n",
       "                           ('MROS__ones', 4699),\n",
       "                           ('MROS__twos', 6403),\n",
       "                           ('MROS__zeros', 79814)]),\n",
       "              OrderedDict([('CB__class_weights_1', 222.69383989442534),\n",
       "                           ('CB__class_weights_2', 459.4018995738538),\n",
       "                           ('CB__depth', 5),\n",
       "                           ('CB__iterations', 718),\n",
       "                           ('CB__l2_leaf_reg', 12.293552899585315),\n",
       "                           ('CB__learning_rate', 0.5180041277536692),\n",
       "                           ('CB__random_strength', 1.4303688842101405),\n",
       "                           ('MROS__ones', 7963),\n",
       "                           ('MROS__twos', 5629),\n",
       "                           ('MROS__zeros', 79893)]),\n",
       "              OrderedDict([('CB__class_weights_1', 406.291796184503),\n",
       "                           ('CB__class_weights_2', 86.34984491758208),\n",
       "                           ('CB__depth', 8),\n",
       "                           ('CB__iterations', 1228),\n",
       "                           ('CB__l2_leaf_reg', 17.764761572881717),\n",
       "                           ('CB__learning_rate', 0.3365368813516514),\n",
       "                           ('CB__random_strength', 5.699024615926202),\n",
       "                           ('MROS__ones', 8956),\n",
       "                           ('MROS__twos', 9130),\n",
       "                           ('MROS__zeros', 77547)]),\n",
       "              OrderedDict([('CB__class_weights_1', 399.876944082783),\n",
       "                           ('CB__class_weights_2', 219.2955786272412),\n",
       "                           ('CB__depth', 7),\n",
       "                           ('CB__iterations', 1108),\n",
       "                           ('CB__l2_leaf_reg', 26.992743941741733),\n",
       "                           ('CB__learning_rate', 0.7112816478202166),\n",
       "                           ('CB__random_strength', 2.6556942450923633),\n",
       "                           ('MROS__ones', 7132),\n",
       "                           ('MROS__twos', 3612),\n",
       "                           ('MROS__zeros', 78638)]),\n",
       "              OrderedDict([('CB__class_weights_1', 367.1469949837914),\n",
       "                           ('CB__class_weights_2', 469.71518393258447),\n",
       "                           ('CB__depth', 5),\n",
       "                           ('CB__iterations', 380),\n",
       "                           ('CB__l2_leaf_reg', 24.095564554841015),\n",
       "                           ('CB__learning_rate', 0.4698241119597878),\n",
       "                           ('CB__random_strength', 2.8775608367152383),\n",
       "                           ('MROS__ones', 6185),\n",
       "                           ('MROS__twos', 7880),\n",
       "                           ('MROS__zeros', 78230)]),\n",
       "              OrderedDict([('CB__class_weights_1', 308.731139571907),\n",
       "                           ('CB__class_weights_2', 387.79450722452736),\n",
       "                           ('CB__depth', 6),\n",
       "                           ('CB__iterations', 1327),\n",
       "                           ('CB__l2_leaf_reg', 19.175709555967725),\n",
       "                           ('CB__learning_rate', 0.613812081926369),\n",
       "                           ('CB__random_strength', 4.454279959081833),\n",
       "                           ('MROS__ones', 5261),\n",
       "                           ('MROS__twos', 7372),\n",
       "                           ('MROS__zeros', 78537)]),\n",
       "              OrderedDict([('CB__class_weights_1', 271.92983231131115),\n",
       "                           ('CB__class_weights_2', 460.0446086054396),\n",
       "                           ('CB__depth', 7),\n",
       "                           ('CB__iterations', 1276),\n",
       "                           ('CB__l2_leaf_reg', 14.276307881953036),\n",
       "                           ('CB__learning_rate', 0.31904976273228963),\n",
       "                           ('CB__random_strength', 3.7220122887253675),\n",
       "                           ('MROS__ones', 2012),\n",
       "                           ('MROS__twos', 3934),\n",
       "                           ('MROS__zeros', 79304)]),\n",
       "              OrderedDict([('CB__class_weights_1', 477.7612541618092),\n",
       "                           ('CB__class_weights_2', 350.4604115883723),\n",
       "                           ('CB__depth', 9),\n",
       "                           ('CB__iterations', 694),\n",
       "                           ('CB__l2_leaf_reg', 15.19896793264665),\n",
       "                           ('CB__learning_rate', 0.3869593028788596),\n",
       "                           ('CB__random_strength', 1.0001405844340876),\n",
       "                           ('MROS__ones', 4840),\n",
       "                           ('MROS__twos', 5994),\n",
       "                           ('MROS__zeros', 76704)]),\n",
       "              OrderedDict([('CB__class_weights_1', 2.313338473744242),\n",
       "                           ('CB__class_weights_2', 409.0060948220439),\n",
       "                           ('CB__depth', 8),\n",
       "                           ('CB__iterations', 471),\n",
       "                           ('CB__l2_leaf_reg', 18.883959231461073),\n",
       "                           ('CB__learning_rate', 0.4176031925767839),\n",
       "                           ('CB__random_strength', 2.0551300344244026),\n",
       "                           ('MROS__ones', 3051),\n",
       "                           ('MROS__twos', 8952),\n",
       "                           ('MROS__zeros', 79253)]),\n",
       "              OrderedDict([('CB__class_weights_1', 218.29103948571503),\n",
       "                           ('CB__class_weights_2', 333.4069697784186),\n",
       "                           ('CB__depth', 7),\n",
       "                           ('CB__iterations', 1500),\n",
       "                           ('CB__l2_leaf_reg', 23.79788667330631),\n",
       "                           ('CB__learning_rate', 0.4506344053240321),\n",
       "                           ('CB__random_strength', 7.906438658070064),\n",
       "                           ('MROS__ones', 1800),\n",
       "                           ('MROS__twos', 2446),\n",
       "                           ('MROS__zeros', 78451)]),\n",
       "              OrderedDict([('CB__class_weights_1', 213.45888415180502),\n",
       "                           ('CB__class_weights_2', 342.3613754661246),\n",
       "                           ('CB__depth', 7),\n",
       "                           ('CB__iterations', 1500),\n",
       "                           ('CB__l2_leaf_reg', 22.77478088270798),\n",
       "                           ('CB__learning_rate', 0.4438104871275422),\n",
       "                           ('CB__random_strength', 7.841761496875157),\n",
       "                           ('MROS__ones', 1800),\n",
       "                           ('MROS__twos', 2229),\n",
       "                           ('MROS__zeros', 78484)]),\n",
       "              OrderedDict([('CB__class_weights_1', 202.8504411996164),\n",
       "                           ('CB__class_weights_2', 369.35779633383544),\n",
       "                           ('CB__depth', 7),\n",
       "                           ('CB__iterations', 1500),\n",
       "                           ('CB__l2_leaf_reg', 19.559162443266846),\n",
       "                           ('CB__learning_rate', 0.42566839237726917),\n",
       "                           ('CB__random_strength', 7.4990817823937155),\n",
       "                           ('MROS__ones', 1800),\n",
       "                           ('MROS__twos', 1744),\n",
       "                           ('MROS__zeros', 78486)]),\n",
       "              OrderedDict([('CB__class_weights_1', 140.49297499811593),\n",
       "                           ('CB__class_weights_2', 267.56345814969944),\n",
       "                           ('CB__depth', 10),\n",
       "                           ('CB__iterations', 1500),\n",
       "                           ('CB__l2_leaf_reg', 10.0),\n",
       "                           ('CB__learning_rate', 1.0),\n",
       "                           ('CB__random_strength', 10.0),\n",
       "                           ('MROS__ones', 1800),\n",
       "                           ('MROS__twos', 125),\n",
       "                           ('MROS__zeros', 76000)]),\n",
       "              OrderedDict([('CB__class_weights_1', 0.5),\n",
       "                           ('CB__class_weights_2', 36.04625975545836),\n",
       "                           ('CB__depth', 6),\n",
       "                           ('CB__iterations', 1500),\n",
       "                           ('CB__l2_leaf_reg', 17.968253843947426),\n",
       "                           ('CB__learning_rate', 0.39368569436291606),\n",
       "                           ('CB__random_strength', 2.7726392360972745),\n",
       "                           ('MROS__ones', 1800),\n",
       "                           ('MROS__twos', 125),\n",
       "                           ('MROS__zeros', 76784)]),\n",
       "              OrderedDict([('CB__class_weights_1', 207.72101572826702),\n",
       "                           ('CB__class_weights_2', 393.88136447737713),\n",
       "                           ('CB__depth', 7),\n",
       "                           ('CB__iterations', 1500),\n",
       "                           ('CB__l2_leaf_reg', 16.29936642177393),\n",
       "                           ('CB__learning_rate', 0.40954196217660094),\n",
       "                           ('CB__random_strength', 8.254319398077385),\n",
       "                           ('MROS__ones', 1800),\n",
       "                           ('MROS__twos', 1431),\n",
       "                           ('MROS__zeros', 78515)]),\n",
       "              OrderedDict([('CB__class_weights_1', 326.16523298625265),\n",
       "                           ('CB__class_weights_2', 374.19625222249675),\n",
       "                           ('CB__depth', 7),\n",
       "                           ('CB__iterations', 1500),\n",
       "                           ('CB__l2_leaf_reg', 11.123714888955071),\n",
       "                           ('CB__learning_rate', 0.40126663766642134),\n",
       "                           ('CB__random_strength', 10.0),\n",
       "                           ('MROS__ones', 1800),\n",
       "                           ('MROS__twos', 5738),\n",
       "                           ('MROS__zeros', 79073)]),\n",
       "              OrderedDict([('CB__class_weights_1', 276.1420504714429),\n",
       "                           ('CB__class_weights_2', 500.0),\n",
       "                           ('CB__depth', 8),\n",
       "                           ('CB__iterations', 1500),\n",
       "                           ('CB__l2_leaf_reg', 10.0),\n",
       "                           ('CB__learning_rate', 0.3),\n",
       "                           ('CB__random_strength', 10.0),\n",
       "                           ('MROS__ones', 1800),\n",
       "                           ('MROS__twos', 125),\n",
       "                           ('MROS__zeros', 79142)]),\n",
       "              OrderedDict([('CB__class_weights_1', 0.5),\n",
       "                           ('CB__class_weights_2', 144.1465342269987),\n",
       "                           ('CB__depth', 8),\n",
       "                           ('CB__iterations', 1500),\n",
       "                           ('CB__l2_leaf_reg', 15.204357168847578),\n",
       "                           ('CB__learning_rate', 1.0),\n",
       "                           ('CB__random_strength', 10.0),\n",
       "                           ('MROS__ones', 1800),\n",
       "                           ('MROS__twos', 125),\n",
       "                           ('MROS__zeros', 78882)]),\n",
       "              OrderedDict([('CB__class_weights_1', 148.26709024830782),\n",
       "                           ('CB__class_weights_2', 348.2178420303609),\n",
       "                           ('CB__depth', 6),\n",
       "                           ('CB__iterations', 1500),\n",
       "                           ('CB__l2_leaf_reg', 10.0),\n",
       "                           ('CB__learning_rate', 0.49013055793468846),\n",
       "                           ('CB__random_strength', 10.0),\n",
       "                           ('MROS__ones', 1800),\n",
       "                           ('MROS__twos', 3054),\n",
       "                           ('MROS__zeros', 77062)]),\n",
       "              OrderedDict([('CB__class_weights_1', 204.64880989186554),\n",
       "                           ('CB__class_weights_2', 36.11654819747594),\n",
       "                           ('CB__depth', 8),\n",
       "                           ('CB__iterations', 1500),\n",
       "                           ('CB__l2_leaf_reg', 14.913414639747606),\n",
       "                           ('CB__learning_rate', 0.6058457023892817),\n",
       "                           ('CB__random_strength', 10.0),\n",
       "                           ('MROS__ones', 1800),\n",
       "                           ('MROS__twos', 2115),\n",
       "                           ('MROS__zeros', 76000)]),\n",
       "              OrderedDict([('CB__class_weights_1', 197.52666280877915),\n",
       "                           ('CB__class_weights_2', 500.0),\n",
       "                           ('CB__depth', 6),\n",
       "                           ('CB__iterations', 1497),\n",
       "                           ('CB__l2_leaf_reg', 10.0),\n",
       "                           ('CB__learning_rate', 0.3),\n",
       "                           ('CB__random_strength', 7.935709213316681),\n",
       "                           ('MROS__ones', 1800),\n",
       "                           ('MROS__twos', 399),\n",
       "                           ('MROS__zeros', 78881)]),\n",
       "              OrderedDict([('CB__class_weights_1', 210.37819387863655),\n",
       "                           ('CB__class_weights_2', 476.43185192975557),\n",
       "                           ('CB__depth', 4),\n",
       "                           ('CB__iterations', 1500),\n",
       "                           ('CB__l2_leaf_reg', 10.0),\n",
       "                           ('CB__learning_rate', 1.0),\n",
       "                           ('CB__random_strength', 5.683989503905407),\n",
       "                           ('MROS__ones', 1800),\n",
       "                           ('MROS__twos', 125),\n",
       "                           ('MROS__zeros', 76597)]),\n",
       "              OrderedDict([('CB__class_weights_1', 244.44782751285172),\n",
       "                           ('CB__class_weights_2', 155.33667437747678),\n",
       "                           ('CB__depth', 10),\n",
       "                           ('CB__iterations', 1500),\n",
       "                           ('CB__l2_leaf_reg', 10.0),\n",
       "                           ('CB__learning_rate', 0.9928015087871871),\n",
       "                           ('CB__random_strength', 7.988553889736525),\n",
       "                           ('MROS__ones', 2629),\n",
       "                           ('MROS__twos', 1795),\n",
       "                           ('MROS__zeros', 76000)]),\n",
       "              OrderedDict([('CB__class_weights_1', 220.0868963129916),\n",
       "                           ('CB__class_weights_2', 500.0),\n",
       "                           ('CB__depth', 10),\n",
       "                           ('CB__iterations', 1500),\n",
       "                           ('CB__l2_leaf_reg', 10.0),\n",
       "                           ('CB__learning_rate', 0.8401049891929929),\n",
       "                           ('CB__random_strength', 8.149511767902146),\n",
       "                           ('MROS__ones', 1800),\n",
       "                           ('MROS__twos', 1549),\n",
       "                           ('MROS__zeros', 76000)]),\n",
       "              OrderedDict([('CB__class_weights_1', 147.30358828937003),\n",
       "                           ('CB__class_weights_2', 82.2794028367469),\n",
       "                           ('CB__depth', 8),\n",
       "                           ('CB__iterations', 1500),\n",
       "                           ('CB__l2_leaf_reg', 10.0),\n",
       "                           ('CB__learning_rate', 0.3),\n",
       "                           ('CB__random_strength', 6.467674033599384),\n",
       "                           ('MROS__ones', 8752),\n",
       "                           ('MROS__twos', 125),\n",
       "                           ('MROS__zeros', 78882)]),\n",
       "              OrderedDict([('CB__class_weights_1', 233.4523217662807),\n",
       "                           ('CB__class_weights_2', 35.73958153793945),\n",
       "                           ('CB__depth', 10),\n",
       "                           ('CB__iterations', 1500),\n",
       "                           ('CB__l2_leaf_reg', 10.0),\n",
       "                           ('CB__learning_rate', 0.773771656293637),\n",
       "                           ('CB__random_strength', 4.651984935532364),\n",
       "                           ('MROS__ones', 1800),\n",
       "                           ('MROS__twos', 125),\n",
       "                           ('MROS__zeros', 78794)]),\n",
       "              OrderedDict([('CB__class_weights_1', 209.93907308247051),\n",
       "                           ('CB__class_weights_2', 500.0),\n",
       "                           ('CB__depth', 5),\n",
       "                           ('CB__iterations', 1500),\n",
       "                           ('CB__l2_leaf_reg', 10.0),\n",
       "                           ('CB__learning_rate', 0.39725584375684586),\n",
       "                           ('CB__random_strength', 10.0),\n",
       "                           ('MROS__ones', 1800),\n",
       "                           ('MROS__twos', 498),\n",
       "                           ('MROS__zeros', 78445)]),\n",
       "              OrderedDict([('CB__class_weights_1', 193.01510961360964),\n",
       "                           ('CB__class_weights_2', 244.0670134910614),\n",
       "                           ('CB__depth', 4),\n",
       "                           ('CB__iterations', 1497),\n",
       "                           ('CB__l2_leaf_reg', 10.0),\n",
       "                           ('CB__learning_rate', 0.3),\n",
       "                           ('CB__random_strength', 7.615854778565511),\n",
       "                           ('MROS__ones', 2155),\n",
       "                           ('MROS__twos', 999),\n",
       "                           ('MROS__zeros', 77177)]),\n",
       "              OrderedDict([('CB__class_weights_1', 220.20312225757255),\n",
       "                           ('CB__class_weights_2', 500.0),\n",
       "                           ('CB__depth', 6),\n",
       "                           ('CB__iterations', 1500),\n",
       "                           ('CB__l2_leaf_reg', 10.0),\n",
       "                           ('CB__learning_rate', 1.0),\n",
       "                           ('CB__random_strength', 10.0),\n",
       "                           ('MROS__ones', 1800),\n",
       "                           ('MROS__twos', 125),\n",
       "                           ('MROS__zeros', 78681)]),\n",
       "              OrderedDict([('CB__class_weights_1', 72.00011408155923),\n",
       "                           ('CB__class_weights_2', 500.0),\n",
       "                           ('CB__depth', 6),\n",
       "                           ('CB__iterations', 1500),\n",
       "                           ('CB__l2_leaf_reg', 10.0),\n",
       "                           ('CB__learning_rate', 0.3),\n",
       "                           ('CB__random_strength', 5.6035174095247555),\n",
       "                           ('MROS__ones', 1800),\n",
       "                           ('MROS__twos', 779),\n",
       "                           ('MROS__zeros', 76000)]),\n",
       "              OrderedDict([('CB__class_weights_1', 0.5),\n",
       "                           ('CB__class_weights_2', 500.0),\n",
       "                           ('CB__depth', 6),\n",
       "                           ('CB__iterations', 1500),\n",
       "                           ('CB__l2_leaf_reg', 10.0),\n",
       "                           ('CB__learning_rate', 0.3),\n",
       "                           ('CB__random_strength', 4.612504558039591),\n",
       "                           ('MROS__ones', 1800),\n",
       "                           ('MROS__twos', 125),\n",
       "                           ('MROS__zeros', 76000)]),\n",
       "              OrderedDict([('CB__class_weights_1', 117.19676348257103),\n",
       "                           ('CB__class_weights_2', 500.0),\n",
       "                           ('CB__depth', 10),\n",
       "                           ('CB__iterations', 1500),\n",
       "                           ('CB__l2_leaf_reg', 10.340912221660734),\n",
       "                           ('CB__learning_rate', 0.3),\n",
       "                           ('CB__random_strength', 4.304778659886284),\n",
       "                           ('MROS__ones', 1800),\n",
       "                           ('MROS__twos', 4062),\n",
       "                           ('MROS__zeros', 79615)]),\n",
       "              OrderedDict([('CB__class_weights_1', 252.03312537907863),\n",
       "                           ('CB__class_weights_2', 500.0),\n",
       "                           ('CB__depth', 5),\n",
       "                           ('CB__iterations', 1345),\n",
       "                           ('CB__l2_leaf_reg', 15.531838105441848),\n",
       "                           ('CB__learning_rate', 0.33968656193593316),\n",
       "                           ('CB__random_strength', 2.081024504349057),\n",
       "                           ('MROS__ones', 3343),\n",
       "                           ('MROS__twos', 3930),\n",
       "                           ('MROS__zeros', 77123)]),\n",
       "              OrderedDict([('CB__class_weights_1', 76.67750550366878),\n",
       "                           ('CB__class_weights_2', 500.0),\n",
       "                           ('CB__depth', 9),\n",
       "                           ('CB__iterations', 1397),\n",
       "                           ('CB__l2_leaf_reg', 10.0),\n",
       "                           ('CB__learning_rate', 0.3),\n",
       "                           ('CB__random_strength', 4.512744205873453),\n",
       "                           ('MROS__ones', 1800),\n",
       "                           ('MROS__twos', 10000),\n",
       "                           ('MROS__zeros', 80000)]),\n",
       "              OrderedDict([('CB__class_weights_1', 130.14524638710193),\n",
       "                           ('CB__class_weights_2', 0.5),\n",
       "                           ('CB__depth', 10),\n",
       "                           ('CB__iterations', 331),\n",
       "                           ('CB__l2_leaf_reg', 29.999999999999996),\n",
       "                           ('CB__learning_rate', 1.0),\n",
       "                           ('CB__random_strength', 3.9206372336034607),\n",
       "                           ('MROS__ones', 1800),\n",
       "                           ('MROS__twos', 10000),\n",
       "                           ('MROS__zeros', 76166)]),\n",
       "              OrderedDict([('CB__class_weights_1', 88.75360417070746),\n",
       "                           ('CB__class_weights_2', 500.0),\n",
       "                           ('CB__depth', 10),\n",
       "                           ('CB__iterations', 1500),\n",
       "                           ('CB__l2_leaf_reg', 15.011066574853507),\n",
       "                           ('CB__learning_rate', 0.3),\n",
       "                           ('CB__random_strength', 7.408966595001745),\n",
       "                           ('MROS__ones', 1800),\n",
       "                           ('MROS__twos', 125),\n",
       "                           ('MROS__zeros', 76000)]),\n",
       "              OrderedDict([('CB__class_weights_1', 83.34759695652295),\n",
       "                           ('CB__class_weights_2', 500.0),\n",
       "                           ('CB__depth', 5),\n",
       "                           ('CB__iterations', 1500),\n",
       "                           ('CB__l2_leaf_reg', 10.0),\n",
       "                           ('CB__learning_rate', 0.317429718808645),\n",
       "                           ('CB__random_strength', 3.728003656068976),\n",
       "                           ('MROS__ones', 1800),\n",
       "                           ('MROS__twos', 7904),\n",
       "                           ('MROS__zeros', 77606)]),\n",
       "              OrderedDict([('CB__class_weights_1', 492.71512898031466),\n",
       "                           ('CB__class_weights_2', 500.0),\n",
       "                           ('CB__depth', 10),\n",
       "                           ('CB__iterations', 1500),\n",
       "                           ('CB__l2_leaf_reg', 13.666559454138069),\n",
       "                           ('CB__learning_rate', 0.8971661647724145),\n",
       "                           ('CB__random_strength', 10.0),\n",
       "                           ('MROS__ones', 1800),\n",
       "                           ('MROS__twos', 10000),\n",
       "                           ('MROS__zeros', 76000)]),\n",
       "              OrderedDict([('CB__class_weights_1', 289.00201773041374),\n",
       "                           ('CB__class_weights_2', 500.0),\n",
       "                           ('CB__depth', 10),\n",
       "                           ('CB__iterations', 1500),\n",
       "                           ('CB__l2_leaf_reg', 10.0),\n",
       "                           ('CB__learning_rate', 0.3),\n",
       "                           ('CB__random_strength', 3.1987318251102455),\n",
       "                           ('MROS__ones', 1800),\n",
       "                           ('MROS__twos', 8986),\n",
       "                           ('MROS__zeros', 78019)])],\n",
       "             'mean_train_score': []})"
      ]
     },
     "execution_count": 22,
     "metadata": {},
     "output_type": "execute_result"
    }
   ],
   "source": [
    "cb_opt.cv_results_"
   ]
  },
  {
   "cell_type": "code",
   "execution_count": 23,
   "metadata": {
    "ExecuteTime": {
     "end_time": "2020-10-05T04:43:14.177065Z",
     "start_time": "2020-10-05T04:43:14.167617Z"
    }
   },
   "outputs": [
    {
     "data": {
      "text/plain": [
       "BayesSearchCV(cv=5,\n",
       "              estimator=Pipeline(steps=[('Standard_Scaler', StandardScaler()),\n",
       "                                        ('MROS',\n",
       "                                         ModRandomOverSampler(random_state=42)),\n",
       "                                        ('CB',\n",
       "                                         <__main__.ModCatBoostClassifier object at 0x7efd0e855bd0>)]),\n",
       "              n_iter=40, n_jobs=-1,\n",
       "              optimizer_kwargs={'acq_func_kwargs': {'kappa': 0.0001,\n",
       "                                                    'xi': 0.0001},\n",
       "                                'base_estimator': 'GP'},\n",
       "              random_state=42, scoring=<function f1_bscv at 0x7efca...\n",
       "                             'CB__learning_rate': Real(low=0.3, high=1, prior='log-uniform', transform='identity'),\n",
       "                             'CB__random_strength': Real(low=1, high=10, prior='log-uniform', transform='identity'),\n",
       "                             'MROS__ones': Integer(low=1800, high=10000, prior='uniform', transform='identity'),\n",
       "                             'MROS__twos': Integer(low=125, high=10000, prior='uniform', transform='identity'),\n",
       "                             'MROS__zeros': Integer(low=76000, high=80000, prior='uniform', transform='identity')})"
      ]
     },
     "execution_count": 23,
     "metadata": {},
     "output_type": "execute_result"
    }
   ],
   "source": [
    "cb_opt"
   ]
  },
  {
   "cell_type": "code",
   "execution_count": null,
   "metadata": {},
   "outputs": [],
   "source": []
  },
  {
   "cell_type": "markdown",
   "metadata": {
    "heading_collapsed": true
   },
   "source": [
    "#### NN"
   ]
  },
  {
   "cell_type": "code",
   "execution_count": 81,
   "metadata": {
    "ExecuteTime": {
     "end_time": "2020-10-03T19:45:18.296915Z",
     "start_time": "2020-10-03T19:45:15.161921Z"
    },
    "hidden": true,
    "scrolled": true
   },
   "outputs": [
    {
     "name": "stdout",
     "output_type": "stream",
     "text": [
      "\n",
      "Fold  0\n"
     ]
    },
    {
     "name": "stderr",
     "output_type": "stream",
     "text": [
      "/home/ubuntu/anaconda3/lib/python3.7/site-packages/imblearn/utils/_validation.py:326: UserWarning: After over-sampling, the number of samples (67090) in class 0 will be larger than the number of samples in the majority class (class #0 -> 67086)\n",
      "  n_samples_majority,\n",
      "/home/ubuntu/anaconda3/lib/python3.7/site-packages/sklearn/utils/validation.py:70: FutureWarning: Pass classes=[0 1 2] as keyword args. From version 0.25 passing these as positional arguments will result in an error\n",
      "  FutureWarning)\n",
      "/home/ubuntu/anaconda3/lib/python3.7/site-packages/sklearn/utils/validation.py:70: FutureWarning: Pass classes=[0 1 2], y=0        0\n",
      "1        0\n",
      "2        0\n",
      "3        0\n",
      "4        0\n",
      "        ..\n",
      "85136    0\n",
      "85137    0\n",
      "85138    0\n",
      "85139    0\n",
      "85140    0\n",
      "Name: fraud_flag, Length: 68113, dtype: int64 as keyword args. From version 0.25 passing these as positional arguments will result in an error\n",
      "  FutureWarning)\n"
     ]
    },
    {
     "ename": "ValueError",
     "evalue": "The truth value of an array with more than one element is ambiguous. Use a.any() or a.all()",
     "output_type": "error",
     "traceback": [
      "\u001b[0;31m---------------------------------------------------------------------------\u001b[0m",
      "\u001b[0;31mValueError\u001b[0m                                Traceback (most recent call last)",
      "\u001b[0;32m<ipython-input-81-15d0635a29c6>\u001b[0m in \u001b[0;36m<module>\u001b[0;34m\u001b[0m\n\u001b[1;32m     34\u001b[0m     \u001b[0mmodel\u001b[0m \u001b[0;34m=\u001b[0m \u001b[0mget_model\u001b[0m\u001b[0;34m(\u001b[0m\u001b[0;34m)\u001b[0m\u001b[0;34m\u001b[0m\u001b[0;34m\u001b[0m\u001b[0m\n\u001b[1;32m     35\u001b[0m     model.fit(X_train_cv, y_train_cv, epochs = epochs, batch_size = batch_size, \n\u001b[0;32m---> 36\u001b[0;31m               validation_data = (X_valid_cv, y_valid_cv), verbose=0, class_weight=class_weights)\n\u001b[0m\u001b[1;32m     37\u001b[0m     \u001b[0mtr_scores\u001b[0m\u001b[0;34m.\u001b[0m\u001b[0mappend\u001b[0m\u001b[0;34m(\u001b[0m\u001b[0mmodel\u001b[0m\u001b[0;34m.\u001b[0m\u001b[0mevaluate\u001b[0m\u001b[0;34m(\u001b[0m\u001b[0mX_train_cv\u001b[0m\u001b[0;34m,\u001b[0m \u001b[0my_train_cv\u001b[0m\u001b[0;34m)\u001b[0m\u001b[0;34m[\u001b[0m\u001b[0;34m-\u001b[0m\u001b[0;36m1\u001b[0m\u001b[0;34m]\u001b[0m\u001b[0;34m)\u001b[0m\u001b[0;34m\u001b[0m\u001b[0;34m\u001b[0m\u001b[0m\n\u001b[1;32m     38\u001b[0m     \u001b[0mte_scores\u001b[0m\u001b[0;34m.\u001b[0m\u001b[0mappend\u001b[0m\u001b[0;34m(\u001b[0m\u001b[0mmodel\u001b[0m\u001b[0;34m.\u001b[0m\u001b[0mevaluate\u001b[0m\u001b[0;34m(\u001b[0m\u001b[0mX_valid_cv\u001b[0m\u001b[0;34m,\u001b[0m \u001b[0my_valid_cv\u001b[0m\u001b[0;34m)\u001b[0m\u001b[0;34m[\u001b[0m\u001b[0;34m-\u001b[0m\u001b[0;36m1\u001b[0m\u001b[0;34m]\u001b[0m\u001b[0;34m)\u001b[0m\u001b[0;34m\u001b[0m\u001b[0;34m\u001b[0m\u001b[0m\n",
      "\u001b[0;32m~/anaconda3/lib/python3.7/site-packages/tensorflow/python/keras/engine/training.py\u001b[0m in \u001b[0;36m_method_wrapper\u001b[0;34m(self, *args, **kwargs)\u001b[0m\n\u001b[1;32m    106\u001b[0m   \u001b[0;32mdef\u001b[0m \u001b[0m_method_wrapper\u001b[0m\u001b[0;34m(\u001b[0m\u001b[0mself\u001b[0m\u001b[0;34m,\u001b[0m \u001b[0;34m*\u001b[0m\u001b[0margs\u001b[0m\u001b[0;34m,\u001b[0m \u001b[0;34m**\u001b[0m\u001b[0mkwargs\u001b[0m\u001b[0;34m)\u001b[0m\u001b[0;34m:\u001b[0m\u001b[0;34m\u001b[0m\u001b[0;34m\u001b[0m\u001b[0m\n\u001b[1;32m    107\u001b[0m     \u001b[0;32mif\u001b[0m \u001b[0;32mnot\u001b[0m \u001b[0mself\u001b[0m\u001b[0;34m.\u001b[0m\u001b[0m_in_multi_worker_mode\u001b[0m\u001b[0;34m(\u001b[0m\u001b[0;34m)\u001b[0m\u001b[0;34m:\u001b[0m  \u001b[0;31m# pylint: disable=protected-access\u001b[0m\u001b[0;34m\u001b[0m\u001b[0;34m\u001b[0m\u001b[0m\n\u001b[0;32m--> 108\u001b[0;31m       \u001b[0;32mreturn\u001b[0m \u001b[0mmethod\u001b[0m\u001b[0;34m(\u001b[0m\u001b[0mself\u001b[0m\u001b[0;34m,\u001b[0m \u001b[0;34m*\u001b[0m\u001b[0margs\u001b[0m\u001b[0;34m,\u001b[0m \u001b[0;34m**\u001b[0m\u001b[0mkwargs\u001b[0m\u001b[0;34m)\u001b[0m\u001b[0;34m\u001b[0m\u001b[0;34m\u001b[0m\u001b[0m\n\u001b[0m\u001b[1;32m    109\u001b[0m \u001b[0;34m\u001b[0m\u001b[0m\n\u001b[1;32m    110\u001b[0m     \u001b[0;31m# Running inside `run_distribute_coordinator` already.\u001b[0m\u001b[0;34m\u001b[0m\u001b[0;34m\u001b[0m\u001b[0;34m\u001b[0m\u001b[0m\n",
      "\u001b[0;32m~/anaconda3/lib/python3.7/site-packages/tensorflow/python/keras/engine/training.py\u001b[0m in \u001b[0;36mfit\u001b[0;34m(self, x, y, batch_size, epochs, verbose, callbacks, validation_split, validation_data, shuffle, class_weight, sample_weight, initial_epoch, steps_per_epoch, validation_steps, validation_batch_size, validation_freq, max_queue_size, workers, use_multiprocessing)\u001b[0m\n\u001b[1;32m   1061\u001b[0m           \u001b[0muse_multiprocessing\u001b[0m\u001b[0;34m=\u001b[0m\u001b[0muse_multiprocessing\u001b[0m\u001b[0;34m,\u001b[0m\u001b[0;34m\u001b[0m\u001b[0;34m\u001b[0m\u001b[0m\n\u001b[1;32m   1062\u001b[0m           \u001b[0mmodel\u001b[0m\u001b[0;34m=\u001b[0m\u001b[0mself\u001b[0m\u001b[0;34m,\u001b[0m\u001b[0;34m\u001b[0m\u001b[0;34m\u001b[0m\u001b[0m\n\u001b[0;32m-> 1063\u001b[0;31m           steps_per_execution=self._steps_per_execution)\n\u001b[0m\u001b[1;32m   1064\u001b[0m \u001b[0;34m\u001b[0m\u001b[0m\n\u001b[1;32m   1065\u001b[0m       \u001b[0;31m# Container that configures and calls `tf.keras.Callback`s.\u001b[0m\u001b[0;34m\u001b[0m\u001b[0;34m\u001b[0m\u001b[0;34m\u001b[0m\u001b[0m\n",
      "\u001b[0;32m~/anaconda3/lib/python3.7/site-packages/tensorflow/python/keras/engine/data_adapter.py\u001b[0m in \u001b[0;36m__init__\u001b[0;34m(self, x, y, sample_weight, batch_size, steps_per_epoch, initial_epoch, epochs, shuffle, class_weight, max_queue_size, workers, use_multiprocessing, model, steps_per_execution)\u001b[0m\n\u001b[1;32m   1119\u001b[0m     \u001b[0mstrategy\u001b[0m \u001b[0;34m=\u001b[0m \u001b[0mds_context\u001b[0m\u001b[0;34m.\u001b[0m\u001b[0mget_strategy\u001b[0m\u001b[0;34m(\u001b[0m\u001b[0;34m)\u001b[0m\u001b[0;34m\u001b[0m\u001b[0;34m\u001b[0m\u001b[0m\n\u001b[1;32m   1120\u001b[0m     \u001b[0mdataset\u001b[0m \u001b[0;34m=\u001b[0m \u001b[0mself\u001b[0m\u001b[0;34m.\u001b[0m\u001b[0m_adapter\u001b[0m\u001b[0;34m.\u001b[0m\u001b[0mget_dataset\u001b[0m\u001b[0;34m(\u001b[0m\u001b[0;34m)\u001b[0m\u001b[0;34m\u001b[0m\u001b[0;34m\u001b[0m\u001b[0m\n\u001b[0;32m-> 1121\u001b[0;31m     \u001b[0;32mif\u001b[0m \u001b[0mclass_weight\u001b[0m\u001b[0;34m:\u001b[0m\u001b[0;34m\u001b[0m\u001b[0;34m\u001b[0m\u001b[0m\n\u001b[0m\u001b[1;32m   1122\u001b[0m       \u001b[0mdataset\u001b[0m \u001b[0;34m=\u001b[0m \u001b[0mdataset\u001b[0m\u001b[0;34m.\u001b[0m\u001b[0mmap\u001b[0m\u001b[0;34m(\u001b[0m\u001b[0m_make_class_weight_map_fn\u001b[0m\u001b[0;34m(\u001b[0m\u001b[0mclass_weight\u001b[0m\u001b[0;34m)\u001b[0m\u001b[0;34m)\u001b[0m\u001b[0;34m\u001b[0m\u001b[0;34m\u001b[0m\u001b[0m\n\u001b[1;32m   1123\u001b[0m     \u001b[0mself\u001b[0m\u001b[0;34m.\u001b[0m\u001b[0m_inferred_steps\u001b[0m \u001b[0;34m=\u001b[0m \u001b[0mself\u001b[0m\u001b[0;34m.\u001b[0m\u001b[0m_infer_steps\u001b[0m\u001b[0;34m(\u001b[0m\u001b[0msteps_per_epoch\u001b[0m\u001b[0;34m,\u001b[0m \u001b[0mdataset\u001b[0m\u001b[0;34m)\u001b[0m\u001b[0;34m\u001b[0m\u001b[0;34m\u001b[0m\u001b[0m\n",
      "\u001b[0;31mValueError\u001b[0m: The truth value of an array with more than one element is ambiguous. Use a.any() or a.all()"
     ]
    }
   ],
   "source": [
    "from sklearn.utils import class_weight\n",
    "from time import time\n",
    "epochs = 10\n",
    "batch_size = 1024\n",
    "X_train = model_cols_data\n",
    "y_train = dummy_y\n",
    "tr_scores = []\n",
    "te_scores = []\n",
    "t0 = time()\n",
    "\n",
    "for j, (train_idx, val_idx) in enumerate(kfolds):\n",
    "    print('\\nFold ',j)\n",
    "    X_train_cv = X_train.loc[train_idx, :]\n",
    "    y_train_cv = y_train[train_idx]\n",
    "    X_valid_cv = X_train.loc[val_idx, :]\n",
    "    y_valid_cv= y_train[val_idx]\n",
    "    labels_train_cv = model_cols_labels.fraud_flag[train_idx]\n",
    "    labels_valid_cv = model_cols_labels.fraud_flag[val_idx]\n",
    "    # scale the data\n",
    "    ss = StandardScaler()\n",
    "    X_train_cv = ss.fit_transform(X_train_cv)\n",
    "    X_valid_cv = ss.transform(X_valid_cv)\n",
    "    # oversample\n",
    "    ros = RandomOverSampler(sampling_strategy={0:resampled_zeros,1:resampled_ones,2:resampled_twos}, random_state=42)\n",
    "    X_train_cv, y_train_cv = ros.fit_resample(X_train_cv, y_train_cv)\n",
    "    # keras model\n",
    "    model = get_model()\n",
    "    model.fit(X_train_cv, y_train_cv, epochs = epochs, batch_size = batch_size, \n",
    "              validation_data = (X_valid_cv, y_valid_cv), verbose=0)\n",
    "    tr_scores.append(model.evaluate(X_train_cv, y_train_cv)[-1])\n",
    "    te_scores.append(model.evaluate(X_valid_cv, y_valid_cv)[-1])\n",
    "#     print(\"train set: \", tr_scores[-1])\n",
    "#     print(\"test  set: \", te_scores[-1])\n",
    "\n",
    "t1 = time()\n",
    "print(\"batch_size: \", batch_size)\n",
    "print(\"epochs: \", epochs)\n",
    "print(\"time: \", round(t1-t0), \" seconds\")\n",
    "print(\"mean train score: \", sum(tr_scores)/len(tr_scores))\n",
    "print(\"mean test  score: \", sum(te_scores)/len(te_scores))"
   ]
  },
  {
   "cell_type": "code",
   "execution_count": null,
   "metadata": {
    "hidden": true
   },
   "outputs": [],
   "source": []
  }
 ],
 "metadata": {
  "kernelspec": {
   "display_name": "Python 3",
   "language": "python",
   "name": "python3"
  },
  "language_info": {
   "codemirror_mode": {
    "name": "ipython",
    "version": 3
   },
   "file_extension": ".py",
   "mimetype": "text/x-python",
   "name": "python",
   "nbconvert_exporter": "python",
   "pygments_lexer": "ipython3",
   "version": "3.7.4"
  },
  "toc": {
   "base_numbering": 1,
   "nav_menu": {},
   "number_sections": true,
   "sideBar": true,
   "skip_h1_title": false,
   "title_cell": "Table of Contents",
   "title_sidebar": "Contents",
   "toc_cell": false,
   "toc_position": {
    "height": "calc(100% - 180px)",
    "left": "10px",
    "top": "150px",
    "width": "356.391px"
   },
   "toc_section_display": true,
   "toc_window_display": true
  }
 },
 "nbformat": 4,
 "nbformat_minor": 2
}
